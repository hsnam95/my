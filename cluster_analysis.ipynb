{
  "nbformat": 4,
  "nbformat_minor": 0,
  "metadata": {
    "colab": {
      "provenance": [],
      "include_colab_link": true
    },
    "language_info": {
      "name": "python"
    },
    "kernelspec": {
      "name": "python3",
      "display_name": "Python 3"
    },
    "gpuClass": "standard"
  },
  "cells": [
    {
      "cell_type": "markdown",
      "metadata": {
        "id": "view-in-github",
        "colab_type": "text"
      },
      "source": [
        "<a href=\"https://colab.research.google.com/github/hsnam95/my/blob/main/cluster_analysis.ipynb\" target=\"_parent\"><img src=\"https://colab.research.google.com/assets/colab-badge.svg\" alt=\"Open In Colab\"/></a>"
      ]
    },
    {
      "cell_type": "markdown",
      "source": [
        "#Document Clustering with Python"
      ],
      "metadata": {
        "id": "CygnJNw2X5eq"
      }
    },
    {
      "cell_type": "markdown",
      "source": [
        "<img src='https://github.com/brandomr/document_cluster/blob/master/header_short.jpg?raw=1'>\n",
        "\n",
        "In this guide, I will explain how to cluster a set of documents using Python. My motivating example is to identify the latent structures within the synopses of the top 100 films of all time (per an IMDB list). See [the original post](http://www.brandonrose.org/top100) for a more detailed discussion on the example. This guide covers:\n",
        "\n",
        "<ul>\n",
        "<li> tokenizing and stemming each synopsis\n",
        "<li> transforming the corpus into vector space using [tf-idf](http://en.wikipedia.org/wiki/Tf%E2%80%93idf)\n",
        "<li> calculating cosine distance between each document as a measure of similarity\n",
        "<li> clustering the documents using the [k-means algorithm](http://en.wikipedia.org/wiki/K-means_clustering)\n",
        "<li> using [multidimensional scaling](http://en.wikipedia.org/wiki/Multidimensional_scaling) to reduce dimensionality within the corpus\n",
        "<li> plotting the clustering output using [matplotlib](http://matplotlib.org/) and [mpld3](http://mpld3.github.io/)\n",
        "<li> conducting a hierarchical clustering on the corpus using [Ward clustering](http://en.wikipedia.org/wiki/Ward%27s_method)\n",
        "<li> plotting a Ward dendrogram\n",
        "<li> topic modeling using [Latent Dirichlet Allocation (LDA)](http://en.wikipedia.org/wiki/Latent_Dirichlet_allocation)\n",
        "</ul>"
      ],
      "metadata": {
        "id": "R93dHU40X5er"
      }
    },
    {
      "cell_type": "markdown",
      "source": [
        "##Contents"
      ],
      "metadata": {
        "id": "IimIHGcjX5es"
      }
    },
    {
      "cell_type": "markdown",
      "source": [
        "<ul>\n",
        "<li>[Stopwords, stemming, and tokenization](#Stopwords,-stemming,-and-tokenizing)\n",
        "<li>[Tf-idf and document similarity](#Tf-idf-and-document-similarity)\n",
        "<li>[K-means clustering](#K-means-clustering)\n",
        "<li>[Multidimensional scaling](#Multidimensional-scaling)\n",
        "<li>[Visualizing document clusters](#Visualizing-document-clusters)\n",
        "<li>[Hierarchical document clustering](#Hierarchical-document-clustering)\n",
        "<li>[Latent Dirichlet Allocation (LDA)](#Latent-Dirichlet-Allocation)\n",
        "</ul>"
      ],
      "metadata": {
        "id": "6_eNlthUX5es"
      }
    },
    {
      "cell_type": "markdown",
      "source": [
        "But first, I import everything I am going to need up front"
      ],
      "metadata": {
        "id": "0uhNLrHCX5es"
      }
    },
    {
      "cell_type": "code",
      "source": [
        "import numpy as np\n",
        "import pandas as pd\n",
        "import nltk\n",
        "from bs4 import BeautifulSoup\n",
        "import re\n",
        "import os\n",
        "import codecs\n",
        "from sklearn import feature_extraction\n",
        "!pip install mpld3\n",
        "import mpld3"
      ],
      "outputs": [
        {
          "output_type": "stream",
          "name": "stdout",
          "text": [
            "Looking in indexes: https://pypi.org/simple, https://us-python.pkg.dev/colab-wheels/public/simple/\n",
            "Collecting mpld3\n",
            "  Downloading mpld3-0.5.9-py3-none-any.whl (201 kB)\n",
            "\u001b[2K     \u001b[90m━━━━━━━━━━━━━━━━━━━━━━━━━━━━━━━━━━━━━━━\u001b[0m \u001b[32m201.2/201.2 KB\u001b[0m \u001b[31m1.5 MB/s\u001b[0m eta \u001b[36m0:00:00\u001b[0m\n",
            "\u001b[?25hRequirement already satisfied: jinja2 in /usr/local/lib/python3.9/dist-packages (from mpld3) (3.1.2)\n",
            "Requirement already satisfied: matplotlib in /usr/local/lib/python3.9/dist-packages (from mpld3) (3.7.1)\n",
            "Requirement already satisfied: MarkupSafe>=2.0 in /usr/local/lib/python3.9/dist-packages (from jinja2->mpld3) (2.1.2)\n",
            "Requirement already satisfied: python-dateutil>=2.7 in /usr/local/lib/python3.9/dist-packages (from matplotlib->mpld3) (2.8.2)\n",
            "Requirement already satisfied: pyparsing>=2.3.1 in /usr/local/lib/python3.9/dist-packages (from matplotlib->mpld3) (3.0.9)\n",
            "Requirement already satisfied: numpy>=1.20 in /usr/local/lib/python3.9/dist-packages (from matplotlib->mpld3) (1.22.4)\n",
            "Requirement already satisfied: packaging>=20.0 in /usr/local/lib/python3.9/dist-packages (from matplotlib->mpld3) (23.0)\n",
            "Requirement already satisfied: kiwisolver>=1.0.1 in /usr/local/lib/python3.9/dist-packages (from matplotlib->mpld3) (1.4.4)\n",
            "Requirement already satisfied: fonttools>=4.22.0 in /usr/local/lib/python3.9/dist-packages (from matplotlib->mpld3) (4.39.2)\n",
            "Requirement already satisfied: pillow>=6.2.0 in /usr/local/lib/python3.9/dist-packages (from matplotlib->mpld3) (8.4.0)\n",
            "Requirement already satisfied: contourpy>=1.0.1 in /usr/local/lib/python3.9/dist-packages (from matplotlib->mpld3) (1.0.7)\n",
            "Requirement already satisfied: importlib-resources>=3.2.0 in /usr/local/lib/python3.9/dist-packages (from matplotlib->mpld3) (5.12.0)\n",
            "Requirement already satisfied: cycler>=0.10 in /usr/local/lib/python3.9/dist-packages (from matplotlib->mpld3) (0.11.0)\n",
            "Requirement already satisfied: zipp>=3.1.0 in /usr/local/lib/python3.9/dist-packages (from importlib-resources>=3.2.0->matplotlib->mpld3) (3.15.0)\n",
            "Requirement already satisfied: six>=1.5 in /usr/local/lib/python3.9/dist-packages (from python-dateutil>=2.7->matplotlib->mpld3) (1.16.0)\n",
            "Installing collected packages: mpld3\n",
            "Successfully installed mpld3-0.5.9\n"
          ]
        }
      ],
      "metadata": {
        "colab": {
          "base_uri": "https://localhost:8080/"
        },
        "id": "mJXJ1Sk2X5et",
        "outputId": "e4a17cde-1164-4354-9d04-156c52f80cbd"
      },
      "execution_count": null
    },
    {
      "cell_type": "markdown",
      "source": [
        "#Stopwords, stemming, and tokenizing"
      ],
      "metadata": {
        "id": "mVpQBp8gX5eu"
      }
    },
    {
      "cell_type": "code",
      "source": [
        "#import three lists: titles, links and wikipedia synopses\n",
        "titles = open('title_list.txt').read().split('\\n')\n",
        "#ensures that only the first 100 are read in\n",
        "titles = titles[:100]"
      ],
      "outputs": [],
      "metadata": {
        "id": "YhI2gxBTX5eu"
      },
      "execution_count": null
    },
    {
      "cell_type": "code",
      "source": [
        "links = open('link_list_imdb.txt').read().split('\\n')\n",
        "links = links[:100]"
      ],
      "metadata": {
        "id": "SkPMNMPPJLYR"
      },
      "execution_count": null,
      "outputs": []
    },
    {
      "cell_type": "code",
      "source": [
        "synopses_wiki = open('synopses_list_wiki.txt').read().split('\\n BREAKS HERE')\n",
        "synopses_wiki = synopses_wiki[:100]\n",
        "\n",
        "synopses_clean_wiki = []\n",
        "for text in synopses_wiki:\n",
        "    text = BeautifulSoup(text, 'html.parser').getText()\n",
        "    #strips html formatting and converts to unicode\n",
        "    synopses_clean_wiki.append(text)\n",
        "\n",
        "synopses_wiki = synopses_clean_wiki"
      ],
      "metadata": {
        "id": "1uag7M5nJOaJ"
      },
      "execution_count": null,
      "outputs": []
    },
    {
      "cell_type": "code",
      "source": [
        "genres = open('genres_list.txt').read().split('\\n')\n",
        "genres = genres[:100]\n",
        "\n",
        "print(str(len(titles)) + ' titles')\n",
        "print(str(len(links)) + ' links')\n",
        "print(str(len(synopses_wiki)) + ' synopses')\n",
        "print(str(len(genres)) + ' genres')"
      ],
      "metadata": {
        "id": "OpVEI9DcJU8E"
      },
      "execution_count": null,
      "outputs": []
    },
    {
      "cell_type": "code",
      "source": [
        "synopses_imdb = open('synopses_list_imdb.txt').read().split('\\n BREAKS HERE')\n",
        "synopses_imdb = synopses_imdb[:100]\n",
        "\n",
        "synopses_clean_imdb = []\n",
        "\n",
        "for text in synopses_imdb:\n",
        "    text = BeautifulSoup(text, 'html.parser').getText()\n",
        "    #strips html formatting and converts to unicode\n",
        "    synopses_clean_imdb.append(text)\n",
        "\n",
        "synopses_imdb = synopses_clean_imdb"
      ],
      "outputs": [],
      "metadata": {
        "id": "JIe8zfjOX5ev"
      },
      "execution_count": null
    },
    {
      "cell_type": "code",
      "source": [
        "synopses = []\n",
        "\n",
        "for i in range(len(synopses_wiki)):\n",
        "    item = synopses_wiki[i] + synopses_imdb[i]\n",
        "    synopses.append(item)"
      ],
      "outputs": [],
      "metadata": {
        "id": "qBxlpX5WX5ew"
      },
      "execution_count": null
    },
    {
      "cell_type": "code",
      "source": [
        "# generates index for each item in the corpora (in this case it's just rank) and I'll use this for scoring later\n",
        "ranks = []\n",
        "\n",
        "for i in range(0,len(titles)):\n",
        "    ranks.append(i)"
      ],
      "outputs": [],
      "metadata": {
        "id": "rKDTJcq3X5ew"
      },
      "execution_count": null
    },
    {
      "cell_type": "markdown",
      "source": [
        "This section is focused on defining some functions to manipulate the synopses. First, I load [NLTK's](http://www.nltk.org/) list of English stop words. [Stop words](http://en.wikipedia.org/wiki/Stop_words) are words like \"a\", \"the\", or \"in\" which don't convey significant meaning. I'm sure there are much better explanations of this out there."
      ],
      "metadata": {
        "id": "YKzNJ_RjX5ew"
      }
    },
    {
      "cell_type": "code",
      "source": [
        "# load nltk's English stopwords as variable called 'stopwords'\n",
        "nltk.download('stopwords')\n",
        "stopwords = nltk.corpus.stopwords.words('english')"
      ],
      "outputs": [
        {
          "output_type": "stream",
          "name": "stderr",
          "text": [
            "[nltk_data] Downloading package stopwords to /root/nltk_data...\n",
            "[nltk_data]   Package stopwords is already up-to-date!\n"
          ]
        }
      ],
      "metadata": {
        "colab": {
          "base_uri": "https://localhost:8080/"
        },
        "id": "T8spOHk_X5ex",
        "outputId": "125ec6f4-1cc3-4563-ad38-fe7e554d5266"
      },
      "execution_count": null
    },
    {
      "cell_type": "markdown",
      "source": [
        "Next I import the [Snowball Stemmer](http://snowball.tartarus.org/) which is actually part of NLTK. [Stemming](http://en.wikipedia.org/wiki/Stemming) is just the process of breaking a word down into its root."
      ],
      "metadata": {
        "id": "P8y82RPSX5ex"
      }
    },
    {
      "cell_type": "code",
      "source": [
        "# load nltk's SnowballStemmer as variabled 'stemmer'\n",
        "from nltk.stem.snowball import SnowballStemmer\n",
        "stemmer = SnowballStemmer(\"english\")"
      ],
      "outputs": [],
      "metadata": {
        "id": "43JPzCDKX5ex"
      },
      "execution_count": null
    },
    {
      "cell_type": "markdown",
      "source": [
        "\n",
        "Below I define two functions:\n",
        "\n",
        "<ul>\n",
        "<li> *tokenize_and_stem*: tokenizes (splits the synopsis into a list of its respective words (or tokens) and also stems each token <li> *tokenize_only*: tokenizes the synopsis only\n",
        "</ul>\n",
        "\n",
        "I use both these functions to create a dictionary which becomes important in case I want to use stems for an algorithm, but later convert stems back to their full words for presentation purposes. Guess what, I do want to do that!\n",
        "\n"
      ],
      "metadata": {
        "id": "N-nFhvhvX5ey"
      }
    },
    {
      "cell_type": "code",
      "source": [
        "# here I define a tokenizer and stemmer which returns the set of stems in the text that it is passed\n",
        "\n",
        "def tokenize_and_stem(text):\n",
        "    # first tokenize by sentence, then by word to ensure that punctuation is caught as it's own token\n",
        "    tokens = [word for sent in nltk.sent_tokenize(text) for word in nltk.word_tokenize(sent)]\n",
        "    filtered_tokens = []\n",
        "    # filter out any tokens not containing letters (e.g., numeric tokens, raw punctuation)\n",
        "    for token in tokens:\n",
        "        if re.search('[a-zA-Z]', token):\n",
        "            filtered_tokens.append(token)\n",
        "    stems = [stemmer.stem(t) for t in filtered_tokens]\n",
        "    return stems\n",
        "\n",
        "\n",
        "def tokenize_only(text):\n",
        "    # first tokenize by sentence, then by word to ensure that punctuation is caught as it's own token\n",
        "    tokens = [word.lower() for sent in nltk.sent_tokenize(text) for word in nltk.word_tokenize(sent)]\n",
        "    filtered_tokens = []\n",
        "    # filter out any tokens not containing letters (e.g., numeric tokens, raw punctuation)\n",
        "    for token in tokens:\n",
        "        if re.search('[a-zA-Z]', token):\n",
        "            filtered_tokens.append(token)\n",
        "    return filtered_tokens"
      ],
      "outputs": [],
      "metadata": {
        "id": "litqG7S-X5ey"
      },
      "execution_count": null
    },
    {
      "cell_type": "markdown",
      "source": [
        "Below I use my stemming/tokenizing and tokenizing functions to iterate over the list of synopses to create two vocabularies: one stemmed and one only tokenized. "
      ],
      "metadata": {
        "id": "NYUHHBvTX5ey"
      }
    },
    {
      "cell_type": "code",
      "source": [
        "nltk.download('punkt')\n",
        "\n",
        "totalvocab_stemmed = []\n",
        "totalvocab_tokenized = []\n",
        "for i in synopses:\n",
        "    allwords_stemmed = tokenize_and_stem(i)\n",
        "    totalvocab_stemmed.extend(allwords_stemmed)\n",
        "    \n",
        "    allwords_tokenized = tokenize_only(i)\n",
        "    totalvocab_tokenized.extend(allwords_tokenized)"
      ],
      "outputs": [
        {
          "output_type": "stream",
          "name": "stderr",
          "text": [
            "[nltk_data] Downloading package punkt to /root/nltk_data...\n",
            "[nltk_data]   Package punkt is already up-to-date!\n"
          ]
        }
      ],
      "metadata": {
        "colab": {
          "base_uri": "https://localhost:8080/"
        },
        "id": "zeaKiYRRX5ey",
        "outputId": "1c0d736d-a0d6-43a1-8dda-727533f7bb76"
      },
      "execution_count": null
    },
    {
      "cell_type": "markdown",
      "source": [
        "Using these two lists, I create a pandas DataFrame with the stemmed vocabulary as the index and the tokenized words as the column. The benefit of this is it provides an efficient way to look up a stem and return a full token. The downside here is that stems to tokens are one to many: the stem 'run' could be associated with 'ran', 'runs', 'running', etc. For my purposes this is fine--I'm perfectly happy returning the first token associated with the stem I need to look up."
      ],
      "metadata": {
        "id": "tyAP7qhvX5ez"
      }
    },
    {
      "cell_type": "code",
      "source": [
        "vocab_frame = pd.DataFrame({'words': totalvocab_tokenized}, index = totalvocab_stemmed)"
      ],
      "outputs": [],
      "metadata": {
        "id": "eUZOYgDOX5ez"
      },
      "execution_count": null
    },
    {
      "cell_type": "markdown",
      "source": [
        "##Tf-idf and document similarity"
      ],
      "metadata": {
        "id": "nEoYbgnMX5ez"
      }
    },
    {
      "cell_type": "markdown",
      "source": [
        "<img src='http://www.jiem.org/index.php/jiem/article/viewFile/293/252/2402' align='right' style=\"margin-left:10px\">\n",
        "\n",
        "Here, I define term frequency-inverse document frequency (tf-idf) vectorizer parameters and then convert the *synopses* list into a tf-idf matrix. \n",
        "\n",
        "To get a Tf-idf matrix, first count word occurrences by document. This is transformed into a document-term matrix (dtm). This is also just called a term frequency matrix. An example of a dtm is here at right.\n",
        "\n",
        "Then apply the term frequency-inverse document frequency weighting: words that occur frequently within a document but not frequently within the corpus receive a higher weighting as these words are assumed to contain more meaning in relation to the document.\n",
        "\n",
        "A couple things to note about the parameters I define below:\n",
        "\n",
        "<ul>\n",
        "<li> max_df: this is the maximum frequency within the documents a given feature can have to be used in the tfi-idf matrix. If the term is in greater than 80% of the documents it probably cares little meanining (in the context of film synopses)\n",
        "<li> min_idf: this could be an integer (e.g. 5) and the term would have to be in at least 5 of the documents to be considered. Here I pass 0.2; the term must be in at least 20% of the document. I found that if I allowed a lower min_df I ended up basing clustering on names--for example \"Michael\" or \"Tom\" are names found in several of the movies and the synopses use these names frequently, but the names carry no real meaning.\n",
        "<li> ngram_range: this just means I'll look at unigrams, bigrams and trigrams. See [n-grams](http://en.wikipedia.org/wiki/N-gram)\n",
        "</ul>"
      ],
      "metadata": {
        "id": "KKTGYmjPX5ez"
      }
    },
    {
      "cell_type": "code",
      "source": [
        "from sklearn.feature_extraction.text import TfidfVectorizer\n",
        "\n",
        "tfidf_vectorizer = TfidfVectorizer(max_df=0.8, max_features=200000,\n",
        "                                 min_df=0.2, stop_words='english',\n",
        "                                 use_idf=True, tokenizer=tokenize_and_stem, ngram_range=(1,3))\n",
        "\n",
        "%time tfidf_matrix = tfidf_vectorizer.fit_transform(synopses)\n",
        "\n",
        "print(tfidf_matrix.shape)"
      ],
      "outputs": [],
      "metadata": {
        "id": "WbkJgpbXX5e0"
      },
      "execution_count": null
    },
    {
      "cell_type": "code",
      "source": [
        "terms = tfidf_vectorizer.get_feature_names_out()"
      ],
      "outputs": [],
      "metadata": {
        "id": "pzybU1vpX5e0"
      },
      "execution_count": null
    },
    {
      "cell_type": "code",
      "source": [
        "from sklearn.metrics.pairwise import cosine_similarity\n",
        "dist = 1 - cosine_similarity(tfidf_matrix)"
      ],
      "outputs": [],
      "metadata": {
        "id": "AAkUj3bRX5e0"
      },
      "execution_count": null
    },
    {
      "cell_type": "markdown",
      "source": [
        "#K-means clustering"
      ],
      "metadata": {
        "id": "vk7-2hoEX5e0"
      }
    },
    {
      "cell_type": "markdown",
      "source": [
        "Now onto the fun part. Using the tf-idf matrix, you can run a slew of clustering algorithms to better understand the hidden structure within the synopses. I first chose [k-means](http://en.wikipedia.org/wiki/K-means_clustering). K-means initializes with a pre-determined number of clusters (I chose 5). Each observation is assigned to a cluster (cluster assignment) so as to minimize the within cluster sum of squares. Next, the mean of the clustered observations is calculated and used as the new cluster centroid. Then, observations are reassigned to clusters and  centroids recalculated in an iterative process until the algorithm reaches convergence.\n",
        "\n",
        "I found it took several runs for the algorithm to converge a global optimum as k-means is susceptible to reaching local optima. "
      ],
      "metadata": {
        "id": "r6gOxQWnX5e0"
      }
    },
    {
      "cell_type": "code",
      "source": [
        "!pip uninstall scikit-learn\n",
        "!pip install sklearn\n",
        "\n",
        "from sklearn.cluster import KMeans\n",
        "\n",
        "num_clusters = 5\n",
        "\n",
        "km = KMeans(n_clusters=num_clusters)\n",
        "\n",
        "%time km.fit(tfidf_matrix)\n",
        "\n",
        "clusters = km.labels_.tolist()"
      ],
      "outputs": [
        {
          "output_type": "stream",
          "name": "stdout",
          "text": [
            "\u001b[33mWARNING: Skipping scikit-learn as it is not installed.\u001b[0m\u001b[33m\n",
            "\u001b[0mLooking in indexes: https://pypi.org/simple, https://us-python.pkg.dev/colab-wheels/public/simple/\n",
            "Requirement already satisfied: sklearn in /usr/local/lib/python3.9/dist-packages (0.0.post1)\n",
            "CPU times: user 171 ms, sys: 140 ms, total: 311 ms\n",
            "Wall time: 163 ms\n"
          ]
        },
        {
          "output_type": "stream",
          "name": "stderr",
          "text": [
            "/usr/local/lib/python3.9/dist-packages/sklearn/cluster/_kmeans.py:870: FutureWarning: The default value of `n_init` will change from 10 to 'auto' in 1.4. Set the value of `n_init` explicitly to suppress the warning\n"
          ]
        }
      ],
      "metadata": {
        "colab": {
          "base_uri": "https://localhost:8080/"
        },
        "id": "NX2WP0w8X5e1",
        "outputId": "bbff331b-33e4-4d4f-c273-e9aa33c5848a"
      },
      "execution_count": null
    },
    {
      "cell_type": "code",
      "source": [
        "import joblib\n",
        "\n",
        "joblib.dump(km,  'doc_cluster.pkl')\n",
        "km = joblib.load('doc_cluster.pkl')\n",
        "clusters = km.labels_.tolist()"
      ],
      "outputs": [],
      "metadata": {
        "id": "3G73DX6dX5e1"
      },
      "execution_count": null
    },
    {
      "cell_type": "code",
      "source": [
        "import pandas as pd\n",
        "\n",
        "films = { 'title': titles, 'rank': ranks, 'synopsis': synopses, 'cluster': clusters, 'genre': genres }\n",
        "\n",
        "frame = pd.DataFrame(films, index = [clusters] , columns = ['rank', 'title', 'cluster', 'genre'])"
      ],
      "outputs": [],
      "metadata": {
        "id": "AMBbBODFX5e1"
      },
      "execution_count": null
    },
    {
      "cell_type": "code",
      "source": [
        "frame['cluster'].value_counts()"
      ],
      "outputs": [
        {
          "output_type": "execute_result",
          "data": {
            "text/plain": [
              "1    32\n",
              "4    26\n",
              "0    19\n",
              "2    17\n",
              "3     6\n",
              "Name: cluster, dtype: int64"
            ]
          },
          "metadata": {},
          "execution_count": 123
        }
      ],
      "metadata": {
        "colab": {
          "base_uri": "https://localhost:8080/"
        },
        "id": "pwX6bp63X5e1",
        "outputId": "8b604a7e-ce76-47e5-8ab4-9b39cbb7a99f"
      },
      "execution_count": null
    },
    {
      "cell_type": "code",
      "source": [
        "grouped = frame['rank'].groupby(frame['cluster'])\n",
        "\n",
        "grouped.mean()"
      ],
      "outputs": [
        {
          "output_type": "execute_result",
          "data": {
            "text/plain": [
              "cluster\n",
              "0    41.789474\n",
              "1    49.843750\n",
              "2    52.117647\n",
              "3    52.833333\n",
              "4    52.230769\n",
              "Name: rank, dtype: float64"
            ]
          },
          "metadata": {},
          "execution_count": 124
        }
      ],
      "metadata": {
        "colab": {
          "base_uri": "https://localhost:8080/"
        },
        "id": "nK8VziiXX5e1",
        "outputId": "4cb70307-45b7-47b2-88a7-f34aa69aa07d"
      },
      "execution_count": null
    },
    {
      "cell_type": "code",
      "source": [
        "from __future__ import print_function\n",
        "\n",
        "print(\"Top terms per cluster:\")\n",
        "print()\n",
        "order_centroids = km.cluster_centers_.argsort()[:, ::-1]\n",
        "for i in range(num_clusters):\n",
        "    print(\"Cluster %d words:\" % i, end='')\n",
        "    for ind in order_centroids[i, :6]:\n",
        "        print(' %s' % vocab_frame.loc[terms[ind].split(' ')].values.tolist()[0][0].encode('utf-8', 'ignore'), end=',')\n",
        "    print()\n",
        "    print()\n",
        "    print(\"Cluster %d titles:\" % i, end='')\n",
        "    for title in frame.loc[i]['title'].values.tolist():\n",
        "        print(' %s,' % title, end='')\n",
        "    print()\n",
        "    print()"
      ],
      "outputs": [
        {
          "output_type": "stream",
          "name": "stdout",
          "text": [
            "Top terms per cluster:\n",
            "\n",
            "Cluster 0 words: b'soldiers', b'army', b'captain', b'killed', b'command', b'war',\n",
            "\n",
            "Cluster 0 titles: Schindler's List, Lawrence of Arabia, The Sound of Music, The Bridge on the River Kwai, Dr. Strangelove or: How I Learned to Stop Worrying and Love the Bomb, Apocalypse Now, The Lord of the Rings: The Return of the King, Gladiator, From Here to Eternity, Saving Private Ryan, Raiders of the Lost Ark, Patton, Jaws, Platoon, Dances with Wolves, The Pianist, All Quiet on the Western Front, The African Queen, Mutiny on the Bounty,\n",
            "\n",
            "Cluster 1 words: b'home', b'father', b\"n't\", b'friends', b'fights', b'killed',\n",
            "\n",
            "Cluster 1 titles: The Shawshank Redemption, Raging Bull, One Flew Over the Cuckoo's Nest, The Wizard of Oz, The Godfather: Part II, On the Waterfront, Forrest Gump, E.T. the Extra-Terrestrial, 2001: A Space Odyssey, 12 Angry Men, Unforgiven, Rocky, To Kill a Mockingbird, The Best Years of Our Lives, My Fair Lady, Braveheart, The Good, the Bad and the Ugly, Butch Cassidy and the Sundance Kid, The Deer Hunter, City Lights, Mr. Smith Goes to Washington, Annie Hall, Terms of Endearment, Giant, The Grapes of Wrath, Shane, The Green Mile, Nashville, Stagecoach, A Clockwork Orange, Wuthering Heights, Yankee Doodle Dandy,\n",
            "\n",
            "Cluster 2 words: b'car', b'film', b'new', b'learn', b'friends', b'apartments',\n",
            "\n",
            "Cluster 2 titles: Citizen Kane, Titanic, Sunset Blvd., The Silence of the Lambs, Singin' in the Rain, Gandhi, A Streetcar Named Desire, Ben-Hur, The Apartment, Midnight Cowboy, Rain Man, Good Will Hunting, Fargo, Network, American Graffiti, Pulp Fiction, North by Northwest,\n",
            "\n",
            "Cluster 3 words: b'george', b'marries', b'woman', b'family', b'friends', b'john',\n",
            "\n",
            "Cluster 3 titles: It's a Wonderful Life, The Philadelphia Story, An American in Paris, The King's Speech, A Place in the Sun, Tootsie,\n",
            "\n",
            "Cluster 4 words: b'police', b'killed', b'father', b'murders', b'car', b'love',\n",
            "\n",
            "Cluster 4 titles: The Godfather, Casablanca, Gone with the Wind, Psycho, Vertigo, West Side Story, Star Wars, Chinatown, Some Like It Hot, Amadeus, Doctor Zhivago, The Treasure of the Sierra Madre, High Noon, Goodfellas, The Exorcist, The French Connection, It Happened One Night, Out of Africa, Close Encounters of the Third Kind, The Graduate, The Maltese Falcon, Taxi Driver, Double Indemnity, Rebel Without a Cause, Rear Window, The Third Man,\n",
            "\n"
          ]
        }
      ],
      "metadata": {
        "colab": {
          "base_uri": "https://localhost:8080/"
        },
        "id": "5H8-oxTjX5e1",
        "outputId": "48f40f62-749e-42f0-d84c-7a545f8a26fe"
      },
      "execution_count": null
    },
    {
      "cell_type": "code",
      "source": [
        "#This is purely to help export tables to html and to correct for my 0 start rank (so that Godfather is 1, not 0)\n",
        "frame['Rank'] = frame['rank'] + 1\n",
        "frame['Title'] = frame['title']"
      ],
      "outputs": [],
      "metadata": {
        "id": "Z47w7CMXX5e2"
      },
      "execution_count": null
    },
    {
      "cell_type": "code",
      "source": [
        "#export tables to HTML\n",
        "print(frame[['Rank', 'Title']].loc[frame['cluster'] == 1].to_html(index=False))"
      ],
      "outputs": [],
      "metadata": {
        "id": "j81_IbcdX5e2"
      },
      "execution_count": null
    },
    {
      "cell_type": "markdown",
      "source": [
        "#Multidimensional scaling"
      ],
      "metadata": {
        "id": "fB_MfatuX5e2"
      }
    },
    {
      "cell_type": "code",
      "source": [
        "import os  # for os.path.basename\n",
        "\n",
        "import matplotlib.pyplot as plt\n",
        "import matplotlib as mpl\n",
        "\n",
        "from sklearn.manifold import MDS\n",
        "\n",
        "MDS()\n",
        "\n",
        "# two components as we're plotting points in a two-dimensional plane\n",
        "# \"precomputed\" because we provide a distance matrix\n",
        "# we will also specify `random_state` so the plot is reproducible.\n",
        "mds = MDS(n_components=2, dissimilarity=\"precomputed\", random_state=1)\n",
        "\n",
        "pos = mds.fit_transform(dist)  # shape (n_components, n_samples)\n",
        "\n",
        "xs, ys = pos[:, 0], pos[:, 1]"
      ],
      "outputs": [
        {
          "output_type": "stream",
          "name": "stderr",
          "text": [
            "/usr/local/lib/python3.9/dist-packages/sklearn/manifold/_mds.py:299: FutureWarning: The default value of `normalized_stress` will change to `'auto'` in version 1.4. To suppress this warning, manually set the value of `normalized_stress`.\n"
          ]
        }
      ],
      "metadata": {
        "colab": {
          "base_uri": "https://localhost:8080/"
        },
        "id": "DmSj4dOTX5e2",
        "outputId": "c56e0545-6b80-4e80-a295-1e1e83c1cdaf"
      },
      "execution_count": null
    },
    {
      "cell_type": "code",
      "source": [
        "#strip any proper nouns (NNP) or plural proper nouns (NNPS) from a text\n",
        "from nltk.tag import pos_tag\n",
        "\n",
        "def strip_proppers_POS(text):\n",
        "    tagged = pos_tag(text.split()) #use NLTK's part of speech tagger\n",
        "    non_propernouns = [word for word,pos in tagged if pos != 'NNP' and pos != 'NNPS']\n",
        "    return non_propernouns"
      ],
      "outputs": [],
      "metadata": {
        "id": "wFuEmfAZX5e3"
      },
      "execution_count": null
    },
    {
      "cell_type": "markdown",
      "source": [
        "##Visualizing document clusters"
      ],
      "metadata": {
        "id": "Y2KJOCQNX5e3"
      }
    },
    {
      "cell_type": "code",
      "source": [
        "#set up colors per clusters using a dict\n",
        "cluster_colors = {0: '#1b9e77', 1: '#d95f02', 2: '#7570b3', 3: '#e7298a', 4: '#66a61e'}\n",
        "\n",
        "#set up cluster names using a dict\n",
        "cluster_names = {0: 'Family, home, war', \n",
        "                 1: 'Police, killed, murders', \n",
        "                 2: 'Father, New York, brothers', \n",
        "                 3: 'Dance, singing, love', \n",
        "                 4: 'Killed, soldiers, captain'}"
      ],
      "outputs": [],
      "metadata": {
        "id": "VYl5k_4oX5e3"
      },
      "execution_count": null
    },
    {
      "cell_type": "code",
      "source": [
        "%matplotlib inline"
      ],
      "outputs": [],
      "metadata": {
        "id": "qmeXmKjjX5e3"
      },
      "execution_count": null
    },
    {
      "cell_type": "code",
      "source": [
        "#create data frame that has the result of the MDS plus the cluster numbers and titles\n",
        "df = pd.DataFrame(dict(x=xs, y=ys, label=clusters, title=titles)) \n",
        "\n",
        "#group by cluster\n",
        "groups = df.groupby('label')\n",
        "\n",
        "\n",
        "# set up plot\n",
        "fig, ax = plt.subplots(figsize=(17, 9)) # set size\n",
        "ax.margins(0.05) # Optional, just adds 5% padding to the autoscaling\n",
        "\n",
        "#iterate through groups to layer the plot\n",
        "#note that I use the cluster_name and cluster_color dicts with the 'name' lookup to return the appropriate color/label\n",
        "for name, group in groups:\n",
        "    ax.plot(group.x, group.y, marker='o', linestyle='', ms=12, label=cluster_names[name], color=cluster_colors[name], mec='none')\n",
        "    ax.set_aspect('auto')\n",
        "    ax.tick_params(\\\n",
        "        axis= 'x',          # changes apply to the x-axis\n",
        "        which='both',      # both major and minor ticks are affected\n",
        "        bottom='off',      # ticks along the bottom edge are off\n",
        "        top='off',         # ticks along the top edge are off\n",
        "        labelbottom='off')\n",
        "    ax.tick_params(\\\n",
        "        axis= 'y',         # changes apply to the y-axis\n",
        "        which='both',      # both major and minor ticks are affected\n",
        "        left='off',      # ticks along the bottom edge are off\n",
        "        top='off',         # ticks along the top edge are off\n",
        "        labelleft='off')\n",
        "    \n",
        "ax.legend(numpoints=1)  #show legend with only 1 point\n",
        "\n",
        "#add label in x,y position with the label as the film title\n",
        "for i in range(len(df)):\n",
        "    ax.text(df.loc[i]['x'], df.loc[i]['y'], df.loc[i]['title'], size=8)  \n",
        "\n",
        "    \n",
        "    \n",
        "plt.show() #show the plot\n",
        "\n",
        "#uncomment the below to save the plot if need be\n",
        "#plt.savefig('clusters_small_noaxes.png', dpi=200)"
      ],
      "outputs": [
        {
          "output_type": "display_data",
          "data": {
            "text/plain": [
              "<Figure size 1224x648 with 1 Axes>"
            ],
            "image/png": "[encoded data removed]"
          },
          "metadata": {
            "needs_background": "light"
          }
        }
      ],
      "metadata": {
        "colab": {
          "base_uri": "https://localhost:8080/",
          "height": 541
        },
        "id": "QhbGPbfbX5e3",
        "outputId": "d7792047-271d-4b41-e404-9e4114b3c402"
      },
      "execution_count": null
    },
    {
      "cell_type": "code",
      "source": [
        "plt.close()"
      ],
      "outputs": [],
      "metadata": {
        "id": "7v7VkPi1X5e3"
      },
      "execution_count": null
    },
    {
      "cell_type": "markdown",
      "source": [
        "The clustering plot looks great, but it pains my eyes to see overlapping labels. Having some experience with [D3.js](http://d3js.org/) I knew one solution would be to use a browser based/javascript interactive. Fortunately, I recently stumbled upon [mpld3](https://mpld3.github.io/) a matplotlib wrapper for D3. Mpld3 basically let's you use matplotlib syntax to create web interactives. It has a really easy, high-level API for adding tooltips on mouse hover, which is what I am interested in.\n",
        "\n",
        "It also has some nice functionality for zooming and panning. The below javascript snippet basicaly defines a custom location for where the zoom/pan toggle resides. Don't worry about it too much and you actually don't need to use it, but it helped for formatting purposes when exporting to the web later. The only thing you might want to change is the x and y attr for the position of the toolbar."
      ],
      "metadata": {
        "id": "1np2KzpkX5e3"
      }
    },
    {
      "cell_type": "code",
      "source": [
        "#define custom toolbar location\n",
        "class TopToolbar(mpld3.plugins.PluginBase):\n",
        "    \"\"\"Plugin for moving toolbar to top of figure\"\"\"\n",
        "\n",
        "    JAVASCRIPT = \"\"\"\n",
        "    mpld3.register_plugin(\"toptoolbar\", TopToolbar);\n",
        "    TopToolbar.prototype = Object.create(mpld3.Plugin.prototype);\n",
        "    TopToolbar.prototype.constructor = TopToolbar;\n",
        "    function TopToolbar(fig, props){\n",
        "        mpld3.Plugin.call(this, fig, props);\n",
        "    };\n",
        "\n",
        "    TopToolbar.prototype.draw = function(){\n",
        "      // the toolbar svg doesn't exist\n",
        "      // yet, so first draw it\n",
        "      this.fig.toolbar.draw();\n",
        "\n",
        "      // then change the y position to be\n",
        "      // at the top of the figure\n",
        "      this.fig.toolbar.toolbar.attr(\"x\", 150);\n",
        "      this.fig.toolbar.toolbar.attr(\"y\", 400);\n",
        "\n",
        "      // then remove the draw function,\n",
        "      // so that it is not called again\n",
        "      this.fig.toolbar.draw = function() {}\n",
        "    }\n",
        "    \"\"\"\n",
        "    def __init__(self):\n",
        "        self.dict_ = {\"type\": \"toptoolbar\"}"
      ],
      "outputs": [],
      "metadata": {
        "id": "qYajJM-IX5e4"
      },
      "execution_count": null
    },
    {
      "cell_type": "code",
      "source": [
        "#create data frame that has the result of the MDS plus the cluster numbers and titles\n",
        "df = pd.DataFrame(dict(x=xs, y=ys, label=clusters, title=titles)) \n",
        "\n",
        "#group by cluster\n",
        "groups = df.groupby('label')\n",
        "\n",
        "#define custom css to format the font and to remove the axis labeling\n",
        "css = \"\"\"\n",
        "text.mpld3-text, div.mpld3-tooltip {\n",
        "  font-family:Arial, Helvetica, sans-serif;\n",
        "}\n",
        "\n",
        "g.mpld3-xaxis, g.mpld3-yaxis {\n",
        "display: none; }\n",
        "\"\"\"\n",
        "\n",
        "# Plot \n",
        "fig, ax = plt.subplots(figsize=(14,6)) #set plot size\n",
        "ax.margins(0.03) # Optional, just adds 5% padding to the autoscaling\n",
        "\n",
        "#iterate through groups to layer the plot\n",
        "#note that I use the cluster_name and cluster_color dicts with the 'name' lookup to return the appropriate color/label\n",
        "for name, group in groups:\n",
        "    points = ax.plot(group.x, group.y, marker='o', linestyle='', ms=18, label=cluster_names[name], mec='none', color=cluster_colors[name])\n",
        "    ax.set_aspect('auto')\n",
        "    labels = [i for i in group.title]\n",
        "    \n",
        "    #set tooltip using points, labels and the already defined 'css'\n",
        "    tooltip = mpld3.plugins.PointHTMLTooltip(points[0], labels,\n",
        "                                       voffset=10, hoffset=10, css=css)\n",
        "    #connect tooltip to fig\n",
        "    mpld3.plugins.connect(fig, tooltip, TopToolbar())    \n",
        "    \n",
        "    #set tick marks as blank\n",
        "    ax.axes.get_xaxis().set_ticks([])\n",
        "    ax.axes.get_yaxis().set_ticks([])\n",
        "    \n",
        "    #set axis as blank\n",
        "    ax.axes.get_xaxis().set_visible(False)\n",
        "    ax.axes.get_yaxis().set_visible(False)\n",
        "\n",
        "    \n",
        "ax.legend(numpoints=1) #show legend with only one dot\n",
        "\n",
        "mpld3.display() #show the plot\n",
        "\n",
        "#uncomment the below to export to html\n",
        "#html = mpld3.fig_to_html(fig)\n",
        "#print(html)"
      ],
      "outputs": [
        {
          "output_type": "execute_result",
          "data": {
            "text/plain": [
              "<IPython.core.display.HTML object>"
            ],
            "text/html": [
              "\n",
              "\n",
              "<style>\n",
              "\n",
              "text.mpld3-text, div.mpld3-tooltip {\n",
              "  font-family:Arial, Helvetica, sans-serif;\n",
              "}\n",
              "\n",
              "g.mpld3-xaxis, g.mpld3-yaxis {\n",
              "display: none; }\n",
              "\n",
              "text.mpld3-text, div.mpld3-tooltip {\n",
              "  font-family:Arial, Helvetica, sans-serif;\n",
              "}\n",
              "\n",
              "g.mpld3-xaxis, g.mpld3-yaxis {\n",
              "display: none; }\n",
              "\n",
              "text.mpld3-text, div.mpld3-tooltip {\n",
              "  font-family:Arial, Helvetica, sans-serif;\n",
              "}\n",
              "\n",
              "g.mpld3-xaxis, g.mpld3-yaxis {\n",
              "display: none; }\n",
              "\n",
              "text.mpld3-text, div.mpld3-tooltip {\n",
              "  font-family:Arial, Helvetica, sans-serif;\n",
              "}\n",
              "\n",
              "g.mpld3-xaxis, g.mpld3-yaxis {\n",
              "display: none; }\n",
              "\n",
              "text.mpld3-text, div.mpld3-tooltip {\n",
              "  font-family:Arial, Helvetica, sans-serif;\n",
              "}\n",
              "\n",
              "g.mpld3-xaxis, g.mpld3-yaxis {\n",
              "display: none; }\n",
              "\n",
              "</style>\n",
              "\n",
              "<div id=\"fig_el1331400924340312805628667678\"></div>\n",
              "<script>\n",
              "function mpld3_load_lib(url, callback){\n",
              "  var s = document.createElement('script');\n",
              "  s.src = url;\n",
              "  s.async = true;\n",
              "  s.onreadystatechange = s.onload = callback;\n",
              "  s.onerror = function(){console.warn(\"failed to load library \" + url);};\n",
              "  document.getElementsByTagName(\"head\")[0].appendChild(s);\n",
              "}\n",
              "\n",
              "if(typeof(mpld3) !== \"undefined\" && mpld3._mpld3IsLoaded){\n",
              "   // already loaded: just create the figure\n",
              "   !function(mpld3){\n",
              "       \n",
              "    mpld3.register_plugin(\"htmltooltip\", HtmlTooltipPlugin);\n",
              "    HtmlTooltipPlugin.prototype = Object.create(mpld3.Plugin.prototype);\n",
              "    HtmlTooltipPlugin.prototype.constructor = HtmlTooltipPlugin;\n",
              "    HtmlTooltipPlugin.prototype.requiredProps = [\"id\"];\n",
              "    HtmlTooltipPlugin.prototype.defaultProps = {labels:null,\n",
              "                                                target:null,\n",
              "                                                hoffset:0,\n",
              "                                                voffset:10,\n",
              "                                                targets:null};\n",
              "    function HtmlTooltipPlugin(fig, props){\n",
              "        mpld3.Plugin.call(this, fig, props);\n",
              "    };\n",
              "\n",
              "    HtmlTooltipPlugin.prototype.draw = function(){\n",
              "        var obj = mpld3.get_element(this.props.id);\n",
              "        var labels = this.props.labels;\n",
              "        var targets = this.props.targets;\n",
              "        var tooltip = d3.select(\"body\").append(\"div\")\n",
              "            .attr(\"class\", \"mpld3-tooltip\")\n",
              "            .style(\"position\", \"absolute\")\n",
              "            .style(\"z-index\", \"10\")\n",
              "            .style(\"visibility\", \"hidden\");\n",
              "\n",
              "        obj.elements()\n",
              "            .on(\"mouseover\", function(d, i){\n",
              "                tooltip.html(labels[i])\n",
              "                    .style(\"visibility\", \"visible\");\n",
              "            })\n",
              "            .on(\"mousemove\", function(d, i){\n",
              "                tooltip\n",
              "                .style(\"top\", d3.event.pageY + this.props.voffset + \"px\")\n",
              "                .style(\"left\",d3.event.pageX + this.props.hoffset + \"px\");\n",
              "            }.bind(this))\n",
              "            .on(\"mousedown.callout\", function(d, i){\n",
              "                window.open(targets[i],\"_blank\");\n",
              "            })\n",
              "            .on(\"mouseout\", function(d, i){\n",
              "                tooltip.style(\"visibility\", \"hidden\");\n",
              "            });\n",
              "    };\n",
              "    \n",
              "    mpld3.register_plugin(\"toptoolbar\", TopToolbar);\n",
              "    TopToolbar.prototype = Object.create(mpld3.Plugin.prototype);\n",
              "    TopToolbar.prototype.constructor = TopToolbar;\n",
              "    function TopToolbar(fig, props){\n",
              "        mpld3.Plugin.call(this, fig, props);\n",
              "    };\n",
              "\n",
              "    TopToolbar.prototype.draw = function(){\n",
              "      // the toolbar svg doesn't exist\n",
              "      // yet, so first draw it\n",
              "      this.fig.toolbar.draw();\n",
              "\n",
              "      // then change the y position to be\n",
              "      // at the top of the figure\n",
              "      this.fig.toolbar.toolbar.attr(\"x\", 150);\n",
              "      this.fig.toolbar.toolbar.attr(\"y\", 400);\n",
              "\n",
              "      // then remove the draw function,\n",
              "      // so that it is not called again\n",
              "      this.fig.toolbar.draw = function() {}\n",
              "    }\n",
              "    \n",
              "    mpld3.register_plugin(\"htmltooltip\", HtmlTooltipPlugin);\n",
              "    HtmlTooltipPlugin.prototype = Object.create(mpld3.Plugin.prototype);\n",
              "    HtmlTooltipPlugin.prototype.constructor = HtmlTooltipPlugin;\n",
              "    HtmlTooltipPlugin.prototype.requiredProps = [\"id\"];\n",
              "    HtmlTooltipPlugin.prototype.defaultProps = {labels:null,\n",
              "                                                target:null,\n",
              "                                                hoffset:0,\n",
              "                                                voffset:10,\n",
              "                                                targets:null};\n",
              "    function HtmlTooltipPlugin(fig, props){\n",
              "        mpld3.Plugin.call(this, fig, props);\n",
              "    };\n",
              "\n",
              "    HtmlTooltipPlugin.prototype.draw = function(){\n",
              "        var obj = mpld3.get_element(this.props.id);\n",
              "        var labels = this.props.labels;\n",
              "        var targets = this.props.targets;\n",
              "        var tooltip = d3.select(\"body\").append(\"div\")\n",
              "            .attr(\"class\", \"mpld3-tooltip\")\n",
              "            .style(\"position\", \"absolute\")\n",
              "            .style(\"z-index\", \"10\")\n",
              "            .style(\"visibility\", \"hidden\");\n",
              "\n",
              "        obj.elements()\n",
              "            .on(\"mouseover\", function(d, i){\n",
              "                tooltip.html(labels[i])\n",
              "                    .style(\"visibility\", \"visible\");\n",
              "            })\n",
              "            .on(\"mousemove\", function(d, i){\n",
              "                tooltip\n",
              "                .style(\"top\", d3.event.pageY + this.props.voffset + \"px\")\n",
              "                .style(\"left\",d3.event.pageX + this.props.hoffset + \"px\");\n",
              "            }.bind(this))\n",
              "            .on(\"mousedown.callout\", function(d, i){\n",
              "                window.open(targets[i],\"_blank\");\n",
              "            })\n",
              "            .on(\"mouseout\", function(d, i){\n",
              "                tooltip.style(\"visibility\", \"hidden\");\n",
              "            });\n",
              "    };\n",
              "    \n",
              "    mpld3.register_plugin(\"toptoolbar\", TopToolbar);\n",
              "    TopToolbar.prototype = Object.create(mpld3.Plugin.prototype);\n",
              "    TopToolbar.prototype.constructor = TopToolbar;\n",
              "    function TopToolbar(fig, props){\n",
              "        mpld3.Plugin.call(this, fig, props);\n",
              "    };\n",
              "\n",
              "    TopToolbar.prototype.draw = function(){\n",
              "      // the toolbar svg doesn't exist\n",
              "      // yet, so first draw it\n",
              "      this.fig.toolbar.draw();\n",
              "\n",
              "      // then change the y position to be\n",
              "      // at the top of the figure\n",
              "      this.fig.toolbar.toolbar.attr(\"x\", 150);\n",
              "      this.fig.toolbar.toolbar.attr(\"y\", 400);\n",
              "\n",
              "      // then remove the draw function,\n",
              "      // so that it is not called again\n",
              "      this.fig.toolbar.draw = function() {}\n",
              "    }\n",
              "    \n",
              "    mpld3.register_plugin(\"htmltooltip\", HtmlTooltipPlugin);\n",
              "    HtmlTooltipPlugin.prototype = Object.create(mpld3.Plugin.prototype);\n",
              "    HtmlTooltipPlugin.prototype.constructor = HtmlTooltipPlugin;\n",
              "    HtmlTooltipPlugin.prototype.requiredProps = [\"id\"];\n",
              "    HtmlTooltipPlugin.prototype.defaultProps = {labels:null,\n",
              "                                                target:null,\n",
              "                                                hoffset:0,\n",
              "                                                voffset:10,\n",
              "                                                targets:null};\n",
              "    function HtmlTooltipPlugin(fig, props){\n",
              "        mpld3.Plugin.call(this, fig, props);\n",
              "    };\n",
              "\n",
              "    HtmlTooltipPlugin.prototype.draw = function(){\n",
              "        var obj = mpld3.get_element(this.props.id);\n",
              "        var labels = this.props.labels;\n",
              "        var targets = this.props.targets;\n",
              "        var tooltip = d3.select(\"body\").append(\"div\")\n",
              "            .attr(\"class\", \"mpld3-tooltip\")\n",
              "            .style(\"position\", \"absolute\")\n",
              "            .style(\"z-index\", \"10\")\n",
              "            .style(\"visibility\", \"hidden\");\n",
              "\n",
              "        obj.elements()\n",
              "            .on(\"mouseover\", function(d, i){\n",
              "                tooltip.html(labels[i])\n",
              "                    .style(\"visibility\", \"visible\");\n",
              "            })\n",
              "            .on(\"mousemove\", function(d, i){\n",
              "                tooltip\n",
              "                .style(\"top\", d3.event.pageY + this.props.voffset + \"px\")\n",
              "                .style(\"left\",d3.event.pageX + this.props.hoffset + \"px\");\n",
              "            }.bind(this))\n",
              "            .on(\"mousedown.callout\", function(d, i){\n",
              "                window.open(targets[i],\"_blank\");\n",
              "            })\n",
              "            .on(\"mouseout\", function(d, i){\n",
              "                tooltip.style(\"visibility\", \"hidden\");\n",
              "            });\n",
              "    };\n",
              "    \n",
              "    mpld3.register_plugin(\"toptoolbar\", TopToolbar);\n",
              "    TopToolbar.prototype = Object.create(mpld3.Plugin.prototype);\n",
              "    TopToolbar.prototype.constructor = TopToolbar;\n",
              "    function TopToolbar(fig, props){\n",
              "        mpld3.Plugin.call(this, fig, props);\n",
              "    };\n",
              "\n",
              "    TopToolbar.prototype.draw = function(){\n",
              "      // the toolbar svg doesn't exist\n",
              "      // yet, so first draw it\n",
              "      this.fig.toolbar.draw();\n",
              "\n",
              "      // then change the y position to be\n",
              "      // at the top of the figure\n",
              "      this.fig.toolbar.toolbar.attr(\"x\", 150);\n",
              "      this.fig.toolbar.toolbar.attr(\"y\", 400);\n",
              "\n",
              "      // then remove the draw function,\n",
              "      // so that it is not called again\n",
              "      this.fig.toolbar.draw = function() {}\n",
              "    }\n",
              "    \n",
              "    mpld3.register_plugin(\"htmltooltip\", HtmlTooltipPlugin);\n",
              "    HtmlTooltipPlugin.prototype = Object.create(mpld3.Plugin.prototype);\n",
              "    HtmlTooltipPlugin.prototype.constructor = HtmlTooltipPlugin;\n",
              "    HtmlTooltipPlugin.prototype.requiredProps = [\"id\"];\n",
              "    HtmlTooltipPlugin.prototype.defaultProps = {labels:null,\n",
              "                                                target:null,\n",
              "                                                hoffset:0,\n",
              "                                                voffset:10,\n",
              "                                                targets:null};\n",
              "    function HtmlTooltipPlugin(fig, props){\n",
              "        mpld3.Plugin.call(this, fig, props);\n",
              "    };\n",
              "\n",
              "    HtmlTooltipPlugin.prototype.draw = function(){\n",
              "        var obj = mpld3.get_element(this.props.id);\n",
              "        var labels = this.props.labels;\n",
              "        var targets = this.props.targets;\n",
              "        var tooltip = d3.select(\"body\").append(\"div\")\n",
              "            .attr(\"class\", \"mpld3-tooltip\")\n",
              "            .style(\"position\", \"absolute\")\n",
              "            .style(\"z-index\", \"10\")\n",
              "            .style(\"visibility\", \"hidden\");\n",
              "\n",
              "        obj.elements()\n",
              "            .on(\"mouseover\", function(d, i){\n",
              "                tooltip.html(labels[i])\n",
              "                    .style(\"visibility\", \"visible\");\n",
              "            })\n",
              "            .on(\"mousemove\", function(d, i){\n",
              "                tooltip\n",
              "                .style(\"top\", d3.event.pageY + this.props.voffset + \"px\")\n",
              "                .style(\"left\",d3.event.pageX + this.props.hoffset + \"px\");\n",
              "            }.bind(this))\n",
              "            .on(\"mousedown.callout\", function(d, i){\n",
              "                window.open(targets[i],\"_blank\");\n",
              "            })\n",
              "            .on(\"mouseout\", function(d, i){\n",
              "                tooltip.style(\"visibility\", \"hidden\");\n",
              "            });\n",
              "    };\n",
              "    \n",
              "    mpld3.register_plugin(\"toptoolbar\", TopToolbar);\n",
              "    TopToolbar.prototype = Object.create(mpld3.Plugin.prototype);\n",
              "    TopToolbar.prototype.constructor = TopToolbar;\n",
              "    function TopToolbar(fig, props){\n",
              "        mpld3.Plugin.call(this, fig, props);\n",
              "    };\n",
              "\n",
              "    TopToolbar.prototype.draw = function(){\n",
              "      // the toolbar svg doesn't exist\n",
              "      // yet, so first draw it\n",
              "      this.fig.toolbar.draw();\n",
              "\n",
              "      // then change the y position to be\n",
              "      // at the top of the figure\n",
              "      this.fig.toolbar.toolbar.attr(\"x\", 150);\n",
              "      this.fig.toolbar.toolbar.attr(\"y\", 400);\n",
              "\n",
              "      // then remove the draw function,\n",
              "      // so that it is not called again\n",
              "      this.fig.toolbar.draw = function() {}\n",
              "    }\n",
              "    \n",
              "    mpld3.register_plugin(\"htmltooltip\", HtmlTooltipPlugin);\n",
              "    HtmlTooltipPlugin.prototype = Object.create(mpld3.Plugin.prototype);\n",
              "    HtmlTooltipPlugin.prototype.constructor = HtmlTooltipPlugin;\n",
              "    HtmlTooltipPlugin.prototype.requiredProps = [\"id\"];\n",
              "    HtmlTooltipPlugin.prototype.defaultProps = {labels:null,\n",
              "                                                target:null,\n",
              "                                                hoffset:0,\n",
              "                                                voffset:10,\n",
              "                                                targets:null};\n",
              "    function HtmlTooltipPlugin(fig, props){\n",
              "        mpld3.Plugin.call(this, fig, props);\n",
              "    };\n",
              "\n",
              "    HtmlTooltipPlugin.prototype.draw = function(){\n",
              "        var obj = mpld3.get_element(this.props.id);\n",
              "        var labels = this.props.labels;\n",
              "        var targets = this.props.targets;\n",
              "        var tooltip = d3.select(\"body\").append(\"div\")\n",
              "            .attr(\"class\", \"mpld3-tooltip\")\n",
              "            .style(\"position\", \"absolute\")\n",
              "            .style(\"z-index\", \"10\")\n",
              "            .style(\"visibility\", \"hidden\");\n",
              "\n",
              "        obj.elements()\n",
              "            .on(\"mouseover\", function(d, i){\n",
              "                tooltip.html(labels[i])\n",
              "                    .style(\"visibility\", \"visible\");\n",
              "            })\n",
              "            .on(\"mousemove\", function(d, i){\n",
              "                tooltip\n",
              "                .style(\"top\", d3.event.pageY + this.props.voffset + \"px\")\n",
              "                .style(\"left\",d3.event.pageX + this.props.hoffset + \"px\");\n",
              "            }.bind(this))\n",
              "            .on(\"mousedown.callout\", function(d, i){\n",
              "                window.open(targets[i],\"_blank\");\n",
              "            })\n",
              "            .on(\"mouseout\", function(d, i){\n",
              "                tooltip.style(\"visibility\", \"hidden\");\n",
              "            });\n",
              "    };\n",
              "    \n",
              "    mpld3.register_plugin(\"toptoolbar\", TopToolbar);\n",
              "    TopToolbar.prototype = Object.create(mpld3.Plugin.prototype);\n",
              "    TopToolbar.prototype.constructor = TopToolbar;\n",
              "    function TopToolbar(fig, props){\n",
              "        mpld3.Plugin.call(this, fig, props);\n",
              "    };\n",
              "\n",
              "    TopToolbar.prototype.draw = function(){\n",
              "      // the toolbar svg doesn't exist\n",
              "      // yet, so first draw it\n",
              "      this.fig.toolbar.draw();\n",
              "\n",
              "      // then change the y position to be\n",
              "      // at the top of the figure\n",
              "      this.fig.toolbar.toolbar.attr(\"x\", 150);\n",
              "      this.fig.toolbar.toolbar.attr(\"y\", 400);\n",
              "\n",
              "      // then remove the draw function,\n",
              "      // so that it is not called again\n",
              "      this.fig.toolbar.draw = function() {}\n",
              "    }\n",
              "    \n",
              "       mpld3.draw_figure(\"fig_el1331400924340312805628667678\", {\"width\": 1008.0, \"height\": 432.0, \"axes\": [{\"bbox\": [0.125, 0.125, 0.775, 0.755], \"xlim\": [-0.7022446245855734, 0.7098314809788802], \"ylim\": [-0.7081718721860418, 0.6939226674565514], \"xdomain\": [-0.7022446245855734, 0.7098314809788802], \"ydomain\": [-0.7081718721860418, 0.6939226674565514], \"xscale\": \"linear\", \"yscale\": \"linear\", \"axes\": [{\"position\": \"bottom\", \"nticks\": 0, \"tickvalues\": [], \"tickformat_formatter\": \"\", \"tickformat\": \"\", \"scale\": \"linear\", \"fontsize\": null, \"grid\": {\"gridOn\": false}, \"visible\": false}, {\"position\": \"left\", \"nticks\": 0, \"tickvalues\": [], \"tickformat_formatter\": \"\", \"tickformat\": \"\", \"scale\": \"linear\", \"fontsize\": null, \"grid\": {\"gridOn\": false}, \"visible\": false}], \"axesbg\": \"#FFFFFF\", \"axesbgalpha\": null, \"zoomable\": true, \"id\": \"el133140092431895136\", \"lines\": [], \"paths\": [{\"data\": \"data07\", \"xindex\": 0, \"yindex\": 1, \"coordinates\": \"axes\", \"pathcodes\": [\"M\", \"L\", \"S\", \"L\", \"S\", \"L\", \"S\", \"L\", \"S\", \"Z\"], \"id\": \"el133140092474089184\", \"dasharray\": \"none\", \"alpha\": 0.8, \"facecolor\": \"rgba(255, 255, 255, 0.8)\", \"edgecolor\": \"rgba(204, 204, 204, 0.8)\", \"edgewidth\": 1.0, \"zorder\": 1000000.0}], \"markers\": [{\"data\": \"data01\", \"xindex\": 0, \"yindex\": 1, \"coordinates\": \"data\", \"id\": \"el133140092474729856pts\", \"facecolor\": \"#1B9E77\", \"edgecolor\": \"none\", \"edgewidth\": 1.0, \"alpha\": 1, \"zorder\": 2, \"markerpath\": [[[0.0, 9.0], [2.3868279, 9.0], [4.676218837063681, 8.051703224294176], [6.3639610306789285, 6.3639610306789285], [8.051703224294176, 4.676218837063681], [9.0, 2.3868279], [9.0, 0.0], [9.0, -2.3868279], [8.051703224294176, -4.676218837063681], [6.3639610306789285, -6.3639610306789285], [4.676218837063681, -8.051703224294176], [2.3868279, -9.0], [0.0, -9.0], [-2.3868279, -9.0], [-4.676218837063681, -8.051703224294176], [-6.3639610306789285, -6.3639610306789285], [-8.051703224294176, -4.676218837063681], [-9.0, -2.3868279], [-9.0, 0.0], [-9.0, 2.3868279], [-8.051703224294176, 4.676218837063681], [-6.3639610306789285, 6.3639610306789285], [-4.676218837063681, 8.051703224294176], [-2.3868279, 9.0], [0.0, 9.0]], [\"M\", \"C\", \"C\", \"C\", \"C\", \"C\", \"C\", \"C\", \"C\", \"Z\"]]}, {\"data\": \"data02\", \"xindex\": 0, \"yindex\": 1, \"coordinates\": \"data\", \"id\": \"el133140092474728752pts\", \"facecolor\": \"#D95F02\", \"edgecolor\": \"none\", \"edgewidth\": 1.0, \"alpha\": 1, \"zorder\": 2, \"markerpath\": [[[0.0, 9.0], [2.3868279, 9.0], [4.676218837063681, 8.051703224294176], [6.3639610306789285, 6.3639610306789285], [8.051703224294176, 4.676218837063681], [9.0, 2.3868279], [9.0, 0.0], [9.0, -2.3868279], [8.051703224294176, -4.676218837063681], [6.3639610306789285, -6.3639610306789285], [4.676218837063681, -8.051703224294176], [2.3868279, -9.0], [0.0, -9.0], [-2.3868279, -9.0], [-4.676218837063681, -8.051703224294176], [-6.3639610306789285, -6.3639610306789285], [-8.051703224294176, -4.676218837063681], [-9.0, -2.3868279], [-9.0, 0.0], [-9.0, 2.3868279], [-8.051703224294176, 4.676218837063681], [-6.3639610306789285, 6.3639610306789285], [-4.676218837063681, 8.051703224294176], [-2.3868279, 9.0], [0.0, 9.0]], [\"M\", \"C\", \"C\", \"C\", \"C\", \"C\", \"C\", \"C\", \"C\", \"Z\"]]}, {\"data\": \"data03\", \"xindex\": 0, \"yindex\": 1, \"coordinates\": \"data\", \"id\": \"el133140092474728656pts\", \"facecolor\": \"#7570B3\", \"edgecolor\": \"none\", \"edgewidth\": 1.0, \"alpha\": 1, \"zorder\": 2, \"markerpath\": [[[0.0, 9.0], [2.3868279, 9.0], [4.676218837063681, 8.051703224294176], [6.3639610306789285, 6.3639610306789285], [8.051703224294176, 4.676218837063681], [9.0, 2.3868279], [9.0, 0.0], [9.0, -2.3868279], [8.051703224294176, -4.676218837063681], [6.3639610306789285, -6.3639610306789285], [4.676218837063681, -8.051703224294176], [2.3868279, -9.0], [0.0, -9.0], [-2.3868279, -9.0], [-4.676218837063681, -8.051703224294176], [-6.3639610306789285, -6.3639610306789285], [-8.051703224294176, -4.676218837063681], [-9.0, -2.3868279], [-9.0, 0.0], [-9.0, 2.3868279], [-8.051703224294176, 4.676218837063681], [-6.3639610306789285, 6.3639610306789285], [-4.676218837063681, 8.051703224294176], [-2.3868279, 9.0], [0.0, 9.0]], [\"M\", \"C\", \"C\", \"C\", \"C\", \"C\", \"C\", \"C\", \"C\", \"Z\"]]}, {\"data\": \"data04\", \"xindex\": 0, \"yindex\": 1, \"coordinates\": \"data\", \"id\": \"el133140092474730912pts\", \"facecolor\": \"#E7298A\", \"edgecolor\": \"none\", \"edgewidth\": 1.0, \"alpha\": 1, \"zorder\": 2, \"markerpath\": [[[0.0, 9.0], [2.3868279, 9.0], [4.676218837063681, 8.051703224294176], [6.3639610306789285, 6.3639610306789285], [8.051703224294176, 4.676218837063681], [9.0, 2.3868279], [9.0, 0.0], [9.0, -2.3868279], [8.051703224294176, -4.676218837063681], [6.3639610306789285, -6.3639610306789285], [4.676218837063681, -8.051703224294176], [2.3868279, -9.0], [0.0, -9.0], [-2.3868279, -9.0], [-4.676218837063681, -8.051703224294176], [-6.3639610306789285, -6.3639610306789285], [-8.051703224294176, -4.676218837063681], [-9.0, -2.3868279], [-9.0, 0.0], [-9.0, 2.3868279], [-8.051703224294176, 4.676218837063681], [-6.3639610306789285, 6.3639610306789285], [-4.676218837063681, 8.051703224294176], [-2.3868279, 9.0], [0.0, 9.0]], [\"M\", \"C\", \"C\", \"C\", \"C\", \"C\", \"C\", \"C\", \"C\", \"Z\"]]}, {\"data\": \"data05\", \"xindex\": 0, \"yindex\": 1, \"coordinates\": \"data\", \"id\": \"el133140092472365120pts\", \"facecolor\": \"#66A61E\", \"edgecolor\": \"none\", \"edgewidth\": 1.0, \"alpha\": 1, \"zorder\": 2, \"markerpath\": [[[0.0, 9.0], [2.3868279, 9.0], [4.676218837063681, 8.051703224294176], [6.3639610306789285, 6.3639610306789285], [8.051703224294176, 4.676218837063681], [9.0, 2.3868279], [9.0, 0.0], [9.0, -2.3868279], [8.051703224294176, -4.676218837063681], [6.3639610306789285, -6.3639610306789285], [4.676218837063681, -8.051703224294176], [2.3868279, -9.0], [0.0, -9.0], [-2.3868279, -9.0], [-4.676218837063681, -8.051703224294176], [-6.3639610306789285, -6.3639610306789285], [-8.051703224294176, -4.676218837063681], [-9.0, -2.3868279], [-9.0, 0.0], [-9.0, 2.3868279], [-8.051703224294176, 4.676218837063681], [-6.3639610306789285, 6.3639610306789285], [-4.676218837063681, 8.051703224294176], [-2.3868279, 9.0], [0.0, 9.0]], [\"M\", \"C\", \"C\", \"C\", \"C\", \"C\", \"C\", \"C\", \"C\", \"Z\"]]}, {\"data\": \"data06\", \"xindex\": 0, \"yindex\": 1, \"coordinates\": \"axes\", \"id\": \"el133140092472367136pts\", \"facecolor\": \"#1B9E77\", \"edgecolor\": \"none\", \"edgewidth\": 1.0, \"alpha\": 1, \"zorder\": 1000002.0, \"markerpath\": [[[0.0, 9.0], [2.3868279, 9.0], [4.676218837063681, 8.051703224294176], [6.3639610306789285, 6.3639610306789285], [8.051703224294176, 4.676218837063681], [9.0, 2.3868279], [9.0, 0.0], [9.0, -2.3868279], [8.051703224294176, -4.676218837063681], [6.3639610306789285, -6.3639610306789285], [4.676218837063681, -8.051703224294176], [2.3868279, -9.0], [0.0, -9.0], [-2.3868279, -9.0], [-4.676218837063681, -8.051703224294176], [-6.3639610306789285, -6.3639610306789285], [-8.051703224294176, -4.676218837063681], [-9.0, -2.3868279], [-9.0, 0.0], [-9.0, 2.3868279], [-8.051703224294176, 4.676218837063681], [-6.3639610306789285, 6.3639610306789285], [-4.676218837063681, 8.051703224294176], [-2.3868279, 9.0], [0.0, 9.0]], [\"M\", \"C\", \"C\", \"C\", \"C\", \"C\", \"C\", \"C\", \"C\", \"Z\"]]}, {\"data\": \"data06\", \"xindex\": 0, \"yindex\": 2, \"coordinates\": \"axes\", \"id\": \"el133140092472368624pts\", \"facecolor\": \"#D95F02\", \"edgecolor\": \"none\", \"edgewidth\": 1.0, \"alpha\": 1, \"zorder\": 1000002.0, \"markerpath\": [[[0.0, 9.0], [2.3868279, 9.0], [4.676218837063681, 8.051703224294176], [6.3639610306789285, 6.3639610306789285], [8.051703224294176, 4.676218837063681], [9.0, 2.3868279], [9.0, 0.0], [9.0, -2.3868279], [8.051703224294176, -4.676218837063681], [6.3639610306789285, -6.3639610306789285], [4.676218837063681, -8.051703224294176], [2.3868279, -9.0], [0.0, -9.0], [-2.3868279, -9.0], [-4.676218837063681, -8.051703224294176], [-6.3639610306789285, -6.3639610306789285], [-8.051703224294176, -4.676218837063681], [-9.0, -2.3868279], [-9.0, 0.0], [-9.0, 2.3868279], [-8.051703224294176, 4.676218837063681], [-6.3639610306789285, 6.3639610306789285], [-4.676218837063681, 8.051703224294176], [-2.3868279, 9.0], [0.0, 9.0]], [\"M\", \"C\", \"C\", \"C\", \"C\", \"C\", \"C\", \"C\", \"C\", \"Z\"]]}, {\"data\": \"data06\", \"xindex\": 0, \"yindex\": 3, \"coordinates\": \"axes\", \"id\": \"el133140092472439808pts\", \"facecolor\": \"#7570B3\", \"edgecolor\": \"none\", \"edgewidth\": 1.0, \"alpha\": 1, \"zorder\": 1000002.0, \"markerpath\": [[[0.0, 9.0], [2.3868279, 9.0], [4.676218837063681, 8.051703224294176], [6.3639610306789285, 6.3639610306789285], [8.051703224294176, 4.676218837063681], [9.0, 2.3868279], [9.0, 0.0], [9.0, -2.3868279], [8.051703224294176, -4.676218837063681], [6.3639610306789285, -6.3639610306789285], [4.676218837063681, -8.051703224294176], [2.3868279, -9.0], [0.0, -9.0], [-2.3868279, -9.0], [-4.676218837063681, -8.051703224294176], [-6.3639610306789285, -6.3639610306789285], [-8.051703224294176, -4.676218837063681], [-9.0, -2.3868279], [-9.0, 0.0], [-9.0, 2.3868279], [-8.051703224294176, 4.676218837063681], [-6.3639610306789285, 6.3639610306789285], [-4.676218837063681, 8.051703224294176], [-2.3868279, 9.0], [0.0, 9.0]], [\"M\", \"C\", \"C\", \"C\", \"C\", \"C\", \"C\", \"C\", \"C\", \"Z\"]]}, {\"data\": \"data06\", \"xindex\": 0, \"yindex\": 4, \"coordinates\": \"axes\", \"id\": \"el133140092472441296pts\", \"facecolor\": \"#E7298A\", \"edgecolor\": \"none\", \"edgewidth\": 1.0, \"alpha\": 1, \"zorder\": 1000002.0, \"markerpath\": [[[0.0, 9.0], [2.3868279, 9.0], [4.676218837063681, 8.051703224294176], [6.3639610306789285, 6.3639610306789285], [8.051703224294176, 4.676218837063681], [9.0, 2.3868279], [9.0, 0.0], [9.0, -2.3868279], [8.051703224294176, -4.676218837063681], [6.3639610306789285, -6.3639610306789285], [4.676218837063681, -8.051703224294176], [2.3868279, -9.0], [0.0, -9.0], [-2.3868279, -9.0], [-4.676218837063681, -8.051703224294176], [-6.3639610306789285, -6.3639610306789285], [-8.051703224294176, -4.676218837063681], [-9.0, -2.3868279], [-9.0, 0.0], [-9.0, 2.3868279], [-8.051703224294176, 4.676218837063681], [-6.3639610306789285, 6.3639610306789285], [-4.676218837063681, 8.051703224294176], [-2.3868279, 9.0], [0.0, 9.0]], [\"M\", \"C\", \"C\", \"C\", \"C\", \"C\", \"C\", \"C\", \"C\", \"Z\"]]}, {\"data\": \"data06\", \"xindex\": 0, \"yindex\": 5, \"coordinates\": \"axes\", \"id\": \"el133140092472442784pts\", \"facecolor\": \"#66A61E\", \"edgecolor\": \"none\", \"edgewidth\": 1.0, \"alpha\": 1, \"zorder\": 1000002.0, \"markerpath\": [[[0.0, 9.0], [2.3868279, 9.0], [4.676218837063681, 8.051703224294176], [6.3639610306789285, 6.3639610306789285], [8.051703224294176, 4.676218837063681], [9.0, 2.3868279], [9.0, 0.0], [9.0, -2.3868279], [8.051703224294176, -4.676218837063681], [6.3639610306789285, -6.3639610306789285], [4.676218837063681, -8.051703224294176], [2.3868279, -9.0], [0.0, -9.0], [-2.3868279, -9.0], [-4.676218837063681, -8.051703224294176], [-6.3639610306789285, -6.3639610306789285], [-8.051703224294176, -4.676218837063681], [-9.0, -2.3868279], [-9.0, 0.0], [-9.0, 2.3868279], [-8.051703224294176, 4.676218837063681], [-6.3639610306789285, 6.3639610306789285], [-4.676218837063681, 8.051703224294176], [-2.3868279, 9.0], [0.0, 9.0]], [\"M\", \"C\", \"C\", \"C\", \"C\", \"C\", \"C\", \"C\", \"C\", \"Z\"]]}], \"texts\": [{\"text\": \"Family, home, war\", \"position\": [0.8204685099846392, 0.21768457198920774], \"coordinates\": \"axes\", \"h_anchor\": \"start\", \"v_baseline\": \"auto\", \"rotation\": -0.0, \"fontsize\": 10.0, \"color\": \"#000000\", \"alpha\": 1, \"zorder\": 1000003.0, \"id\": \"el133140092472366464\"}, {\"text\": \"Police, killed, murders\", \"position\": [0.8204685099846392, 0.17169487368162864], \"coordinates\": \"axes\", \"h_anchor\": \"start\", \"v_baseline\": \"auto\", \"rotation\": -0.0, \"fontsize\": 10.0, \"color\": \"#000000\", \"alpha\": 1, \"zorder\": 1000003.0, \"id\": \"el133140092472367952\"}, {\"text\": \"Father, New York, brothers\", \"position\": [0.8204685099846392, 0.12570517537404954], \"coordinates\": \"axes\", \"h_anchor\": \"start\", \"v_baseline\": \"auto\", \"rotation\": -0.0, \"fontsize\": 10.0, \"color\": \"#000000\", \"alpha\": 1, \"zorder\": 1000003.0, \"id\": \"el133140092472439136\"}, {\"text\": \"Dance, singing, love\", \"position\": [0.8204685099846392, 0.07971547706647045], \"coordinates\": \"axes\", \"h_anchor\": \"start\", \"v_baseline\": \"auto\", \"rotation\": -0.0, \"fontsize\": 10.0, \"color\": \"#000000\", \"alpha\": 1, \"zorder\": 1000003.0, \"id\": \"el133140092472440624\"}, {\"text\": \"Killed, soldiers, captain\", \"position\": [0.8204685099846392, 0.03372577875889135], \"coordinates\": \"axes\", \"h_anchor\": \"start\", \"v_baseline\": \"auto\", \"rotation\": -0.0, \"fontsize\": 10.0, \"color\": \"#000000\", \"alpha\": 1, \"zorder\": 1000003.0, \"id\": \"el133140092472442112\"}], \"collections\": [], \"images\": [], \"sharex\": [], \"sharey\": []}], \"data\": {\"data01\": [[-0.03159215088404366, -0.45663791320402886], [-0.2509077886527682, -0.5748301691298103], [0.5523203950143739, 0.4906695451776374], [-0.0822211719046293, -0.5783371225442145], [-0.016415337094761003, -0.6356033887664564], [0.019707608446931178, -0.6360131358153785], [0.24381678674291052, -0.5041387862290508], [0.08011541418687525, -0.4798779364145004], [-0.1524708594907454, -0.3409184384980287], [-0.020101379300060913, -0.3570984271707861], [-0.22754763513663467, -0.45049222698404334], [0.1287536654528344, -0.6684899512527609], [0.07969434882060063, -0.3889371661029437], [-0.11274056497585859, -0.49926901658843537], [0.18267302179861425, -0.5787625309524596], [0.1563795065783695, -0.21300821701033482], [-0.18334149000822167, -0.5551280766277863], [-0.4533760890831642, -0.4451810757043979], [0.33498008050466554, -0.6458620573675335]], \"data02\": [[0.44206412093578173, -0.27869804841256207], [-0.13227195754649126, 0.5745384801472381], [0.05822957027256338, 0.256929533865531], [-0.43458221470796804, -0.29655933230579506], [0.07164980401234082, 0.13140842985205484], [-0.05321665416838313, 0.12337031922670556], [0.3548063612344581, 0.008230388449868098], [-0.02172250207705443, -0.04277898807708071], [0.3500865831297658, -0.33952163222346426], [0.5307508765954988, 0.1293499548695287], [-0.15353411958657529, -0.3013348801222534], [-0.28445673314938785, 0.27573355826080437], [0.21436568495015884, 0.21833323177235375], [0.31820603526510766, 0.08767290955547546], [-0.19657213727582853, 0.39573854896210925], [0.4928973738021543, -0.14112529581269717], [-0.0697835765252865, 0.5697755231183568], [-0.34789814258235424, -0.3258509720117311], [-0.0876522433589088, -0.20078309954756865], [0.5655872568440865, 0.3427492412662697], [0.6448729810407794, -0.1557495377370637], [-0.028860474947472948, 0.6542407465232705], [0.21979780091087622, 0.48012585338200914], [0.48195453604347716, 0.008013240019345533], [0.4758882198147056, -0.4358383186309247], [-0.551459865435424, 0.3351166974656385], [-0.5674182514385872, -0.35374010333970207], [0.06214704621807539, 0.6101371440051012], [0.3243862951002719, -0.45653595159186383], [-0.18645450426356014, 0.150485309679993], [0.1850753249911779, 0.5789634882504009], [0.6273622875630892, 0.3594269833423288]], \"data03\": [[0.011707339999011584, 0.4624485755347979], [0.6037432800571017, -0.3456991338989089], [-0.4301218469327288, 0.28528616015883534], [0.5177811917071925, -0.2536618659106638], [-0.34166783709147913, 0.6344444329502953], [0.4335012948307977, 0.14567214405204687], [0.34339799473545496, 0.24588751780959872], [0.3442345942883043, -0.13024993477969463], [-0.5962489128496042, 0.19029081995111047], [-0.3031164788430419, 0.47587091621770383], [-0.18141401157117412, 0.47664757937416014], [0.12564351913288888, 0.4177899987124327], [-0.3416411136605303, 0.036359351999961084], [0.6688477850887058, -0.08783283749852551], [-0.6012517387271848, -0.0418859194691775], [-0.34156011933518005, -0.06836233054197617], [-0.19967295689696812, 0.006401158105055958]], \"data04\": [[0.4184044202336738, 0.5850489899951163], [0.6698670628968674, 0.11896605280395367], [-0.20377837648670416, 0.5597732710930737], [0.4020451359180303, 0.49856493148445374], [0.6677334884276219, 0.2695002905230577], [-0.02234991385406897, 0.3387044447457824]], \"data05\": [[0.1842728439475597, -0.011715611328299623], [-0.2587368350262618, -0.26527516559786957], [0.058399024554247426, -0.04612821871658942], [-0.22775176430437058, 0.06867225264698684], [-0.3527560545316662, 0.12706104279951017], [-0.4842963450926421, 0.17299124057611814], [0.19843842072642093, -0.3892916828503908], [-0.5523024142568739, -0.22470452093169108], [-0.17157923142425296, 0.23225249097460976], [0.4157900555927239, 0.4066680050040376], [0.1607366978752424, -0.11945297477856227], [-0.3609008933642027, -0.48196142317941265], [-0.6622802065035606, -0.20503714364142692], [0.20869950117396832, 0.06431546201598057], [0.18357552763037874, 0.3029327061666986], [-0.45990623558854987, 0.007717409858540057], [-0.42084558901816005, 0.46273188035729895], [0.12067866743532428, 0.4813363821584589], [0.2751629686852379, -0.2942902403479915], [-0.3243379724030205, 0.3312099814646893], [-0.3394231160832892, -0.1511074564578018], [-0.5521585808438269, 0.028891781654075178], [-0.4660099693912445, -0.09927639405993571], [-0.5791042079012638, 0.2903462882632784], [-0.5810674876200954, 0.10583683075043433], [-0.20835174801118317, -0.05859486722959816]], \"data06\": [[0.7846262160778291, 0.22841550159430954, 0.18242580328673044, 0.13643610497915135, 0.09044640667157224, 0.04445670836399314], [0.7974270353302613, 0.22841550159430954, 0.18242580328673044, 0.13643610497915135, 0.09044640667157224, 0.04445670836399314], [0.8102278545826934, 0.22841550159430954, 0.18242580328673044, 0.13643610497915135, 0.09044640667157224, 0.04445670836399314]], \"data07\": [[0.7820660522273426, 0.015329899435859717], [0.9910394265232977, 0.015329899435859717], [0.9935995903737841, 0.015329899435859717], [0.9935995903737841, 0.021461859210203577], [0.9935995903737841, 0.24834437086092717], [0.9935995903737841, 0.254476330635271], [0.9910394265232977, 0.254476330635271], [0.7820660522273426, 0.254476330635271], [0.7795058883768562, 0.254476330635271], [0.7795058883768562, 0.24834437086092717], [0.7795058883768562, 0.021461859210203577], [0.7795058883768562, 0.015329899435859717], [0.7820660522273426, 0.015329899435859717]]}, \"id\": \"el133140092434031280\", \"plugins\": [{\"type\": \"reset\"}, {\"type\": \"zoom\", \"button\": true, \"enabled\": false}, {\"type\": \"boxzoom\", \"button\": true, \"enabled\": false}, {\"type\": \"htmltooltip\", \"id\": \"el133140092474729856pts\", \"labels\": [\"Schindler's List\", \"Lawrence of Arabia\", \"The Sound of Music\", \"The Bridge on the River Kwai\", \"Dr. Strangelove or: How I Learned to Stop Worrying and Love the Bomb\", \"Apocalypse Now\", \"The Lord of the Rings: The Return of the King\", \"Gladiator\", \"From Here to Eternity\", \"Saving Private Ryan\", \"Raiders of the Lost Ark\", \"Patton\", \"Jaws\", \"Platoon\", \"Dances with Wolves\", \"The Pianist\", \"All Quiet on the Western Front\", \"The African Queen\", \"Mutiny on the Bounty\"], \"targets\": null, \"hoffset\": 10, \"voffset\": 10}, {\"type\": \"toptoolbar\"}, {\"type\": \"htmltooltip\", \"id\": \"el133140092474728752pts\", \"labels\": [\"The Shawshank Redemption\", \"Raging Bull\", \"One Flew Over the Cuckoo's Nest\", \"The Wizard of Oz\", \"The Godfather: Part II\", \"On the Waterfront\", \"Forrest Gump\", \"E.T. the Extra-Terrestrial\", \"2001: A Space Odyssey\", \"12 Angry Men\", \"Unforgiven\", \"Rocky\", \"To Kill a Mockingbird\", \"The Best Years of Our Lives\", \"My Fair Lady\", \"Braveheart\", \"The Good, the Bad and the Ugly\", \"Butch Cassidy and the Sundance Kid\", \"The Deer Hunter\", \"City Lights\", \"Mr. Smith Goes to Washington\", \"Annie Hall\", \"Terms of Endearment\", \"Giant\", \"The Grapes of Wrath\", \"Shane\", \"The Green Mile\", \"Nashville\", \"Stagecoach\", \"A Clockwork Orange\", \"Wuthering Heights\", \"Yankee Doodle Dandy\"], \"targets\": null, \"hoffset\": 10, \"voffset\": 10}, {\"type\": \"toptoolbar\"}, {\"type\": \"htmltooltip\", \"id\": \"el133140092474728656pts\", \"labels\": [\"Citizen Kane\", \"Titanic\", \"Sunset Blvd.\", \"The Silence of the Lambs\", \"Singin' in the Rain\", \"Gandhi\", \"A Streetcar Named Desire\", \"Ben-Hur\", \"The Apartment\", \"Midnight Cowboy\", \"Rain Man\", \"Good Will Hunting\", \"Fargo\", \"Network\", \"American Graffiti\", \"Pulp Fiction\", \"North by Northwest\"], \"targets\": null, \"hoffset\": 10, \"voffset\": 10}, {\"type\": \"toptoolbar\"}, {\"type\": \"htmltooltip\", \"id\": \"el133140092474730912pts\", \"labels\": [\"It's a Wonderful Life\", \"The Philadelphia Story\", \"An American in Paris\", \"The King's Speech\", \"A Place in the Sun\", \"Tootsie\"], \"targets\": null, \"hoffset\": 10, \"voffset\": 10}, {\"type\": \"toptoolbar\"}, {\"type\": \"htmltooltip\", \"id\": \"el133140092472365120pts\", \"labels\": [\"The Godfather\", \"Casablanca\", \"Gone with the Wind\", \"Psycho\", \"Vertigo\", \"West Side Story\", \"Star Wars\", \"Chinatown\", \"Some Like It Hot\", \"Amadeus\", \"Doctor Zhivago\", \"The Treasure of the Sierra Madre\", \"High Noon\", \"Goodfellas\", \"The Exorcist\", \"The French Connection\", \"It Happened One Night\", \"Out of Africa\", \"Close Encounters of the Third Kind\", \"The Graduate\", \"The Maltese Falcon\", \"Taxi Driver\", \"Double Indemnity\", \"Rebel Without a Cause\", \"Rear Window\", \"The Third Man\"], \"targets\": null, \"hoffset\": 10, \"voffset\": 10}, {\"type\": \"toptoolbar\"}]});\n",
              "   }(mpld3);\n",
              "}else if(typeof define === \"function\" && define.amd){\n",
              "   // require.js is available: use it to load d3/mpld3\n",
              "   require.config({paths: {d3: \"https://d3js.org/d3.v5\"}});\n",
              "   require([\"d3\"], function(d3){\n",
              "      window.d3 = d3;\n",
              "      mpld3_load_lib(\"https://mpld3.github.io/js/mpld3.v0.5.9.js\", function(){\n",
              "         \n",
              "    mpld3.register_plugin(\"htmltooltip\", HtmlTooltipPlugin);\n",
              "    HtmlTooltipPlugin.prototype = Object.create(mpld3.Plugin.prototype);\n",
              "    HtmlTooltipPlugin.prototype.constructor = HtmlTooltipPlugin;\n",
              "    HtmlTooltipPlugin.prototype.requiredProps = [\"id\"];\n",
              "    HtmlTooltipPlugin.prototype.defaultProps = {labels:null,\n",
              "                                                target:null,\n",
              "                                                hoffset:0,\n",
              "                                                voffset:10,\n",
              "                                                targets:null};\n",
              "    function HtmlTooltipPlugin(fig, props){\n",
              "        mpld3.Plugin.call(this, fig, props);\n",
              "    };\n",
              "\n",
              "    HtmlTooltipPlugin.prototype.draw = function(){\n",
              "        var obj = mpld3.get_element(this.props.id);\n",
              "        var labels = this.props.labels;\n",
              "        var targets = this.props.targets;\n",
              "        var tooltip = d3.select(\"body\").append(\"div\")\n",
              "            .attr(\"class\", \"mpld3-tooltip\")\n",
              "            .style(\"position\", \"absolute\")\n",
              "            .style(\"z-index\", \"10\")\n",
              "            .style(\"visibility\", \"hidden\");\n",
              "\n",
              "        obj.elements()\n",
              "            .on(\"mouseover\", function(d, i){\n",
              "                tooltip.html(labels[i])\n",
              "                    .style(\"visibility\", \"visible\");\n",
              "            })\n",
              "            .on(\"mousemove\", function(d, i){\n",
              "                tooltip\n",
              "                .style(\"top\", d3.event.pageY + this.props.voffset + \"px\")\n",
              "                .style(\"left\",d3.event.pageX + this.props.hoffset + \"px\");\n",
              "            }.bind(this))\n",
              "            .on(\"mousedown.callout\", function(d, i){\n",
              "                window.open(targets[i],\"_blank\");\n",
              "            })\n",
              "            .on(\"mouseout\", function(d, i){\n",
              "                tooltip.style(\"visibility\", \"hidden\");\n",
              "            });\n",
              "    };\n",
              "    \n",
              "    mpld3.register_plugin(\"toptoolbar\", TopToolbar);\n",
              "    TopToolbar.prototype = Object.create(mpld3.Plugin.prototype);\n",
              "    TopToolbar.prototype.constructor = TopToolbar;\n",
              "    function TopToolbar(fig, props){\n",
              "        mpld3.Plugin.call(this, fig, props);\n",
              "    };\n",
              "\n",
              "    TopToolbar.prototype.draw = function(){\n",
              "      // the toolbar svg doesn't exist\n",
              "      // yet, so first draw it\n",
              "      this.fig.toolbar.draw();\n",
              "\n",
              "      // then change the y position to be\n",
              "      // at the top of the figure\n",
              "      this.fig.toolbar.toolbar.attr(\"x\", 150);\n",
              "      this.fig.toolbar.toolbar.attr(\"y\", 400);\n",
              "\n",
              "      // then remove the draw function,\n",
              "      // so that it is not called again\n",
              "      this.fig.toolbar.draw = function() {}\n",
              "    }\n",
              "    \n",
              "    mpld3.register_plugin(\"htmltooltip\", HtmlTooltipPlugin);\n",
              "    HtmlTooltipPlugin.prototype = Object.create(mpld3.Plugin.prototype);\n",
              "    HtmlTooltipPlugin.prototype.constructor = HtmlTooltipPlugin;\n",
              "    HtmlTooltipPlugin.prototype.requiredProps = [\"id\"];\n",
              "    HtmlTooltipPlugin.prototype.defaultProps = {labels:null,\n",
              "                                                target:null,\n",
              "                                                hoffset:0,\n",
              "                                                voffset:10,\n",
              "                                                targets:null};\n",
              "    function HtmlTooltipPlugin(fig, props){\n",
              "        mpld3.Plugin.call(this, fig, props);\n",
              "    };\n",
              "\n",
              "    HtmlTooltipPlugin.prototype.draw = function(){\n",
              "        var obj = mpld3.get_element(this.props.id);\n",
              "        var labels = this.props.labels;\n",
              "        var targets = this.props.targets;\n",
              "        var tooltip = d3.select(\"body\").append(\"div\")\n",
              "            .attr(\"class\", \"mpld3-tooltip\")\n",
              "            .style(\"position\", \"absolute\")\n",
              "            .style(\"z-index\", \"10\")\n",
              "            .style(\"visibility\", \"hidden\");\n",
              "\n",
              "        obj.elements()\n",
              "            .on(\"mouseover\", function(d, i){\n",
              "                tooltip.html(labels[i])\n",
              "                    .style(\"visibility\", \"visible\");\n",
              "            })\n",
              "            .on(\"mousemove\", function(d, i){\n",
              "                tooltip\n",
              "                .style(\"top\", d3.event.pageY + this.props.voffset + \"px\")\n",
              "                .style(\"left\",d3.event.pageX + this.props.hoffset + \"px\");\n",
              "            }.bind(this))\n",
              "            .on(\"mousedown.callout\", function(d, i){\n",
              "                window.open(targets[i],\"_blank\");\n",
              "            })\n",
              "            .on(\"mouseout\", function(d, i){\n",
              "                tooltip.style(\"visibility\", \"hidden\");\n",
              "            });\n",
              "    };\n",
              "    \n",
              "    mpld3.register_plugin(\"toptoolbar\", TopToolbar);\n",
              "    TopToolbar.prototype = Object.create(mpld3.Plugin.prototype);\n",
              "    TopToolbar.prototype.constructor = TopToolbar;\n",
              "    function TopToolbar(fig, props){\n",
              "        mpld3.Plugin.call(this, fig, props);\n",
              "    };\n",
              "\n",
              "    TopToolbar.prototype.draw = function(){\n",
              "      // the toolbar svg doesn't exist\n",
              "      // yet, so first draw it\n",
              "      this.fig.toolbar.draw();\n",
              "\n",
              "      // then change the y position to be\n",
              "      // at the top of the figure\n",
              "      this.fig.toolbar.toolbar.attr(\"x\", 150);\n",
              "      this.fig.toolbar.toolbar.attr(\"y\", 400);\n",
              "\n",
              "      // then remove the draw function,\n",
              "      // so that it is not called again\n",
              "      this.fig.toolbar.draw = function() {}\n",
              "    }\n",
              "    \n",
              "    mpld3.register_plugin(\"htmltooltip\", HtmlTooltipPlugin);\n",
              "    HtmlTooltipPlugin.prototype = Object.create(mpld3.Plugin.prototype);\n",
              "    HtmlTooltipPlugin.prototype.constructor = HtmlTooltipPlugin;\n",
              "    HtmlTooltipPlugin.prototype.requiredProps = [\"id\"];\n",
              "    HtmlTooltipPlugin.prototype.defaultProps = {labels:null,\n",
              "                                                target:null,\n",
              "                                                hoffset:0,\n",
              "                                                voffset:10,\n",
              "                                                targets:null};\n",
              "    function HtmlTooltipPlugin(fig, props){\n",
              "        mpld3.Plugin.call(this, fig, props);\n",
              "    };\n",
              "\n",
              "    HtmlTooltipPlugin.prototype.draw = function(){\n",
              "        var obj = mpld3.get_element(this.props.id);\n",
              "        var labels = this.props.labels;\n",
              "        var targets = this.props.targets;\n",
              "        var tooltip = d3.select(\"body\").append(\"div\")\n",
              "            .attr(\"class\", \"mpld3-tooltip\")\n",
              "            .style(\"position\", \"absolute\")\n",
              "            .style(\"z-index\", \"10\")\n",
              "            .style(\"visibility\", \"hidden\");\n",
              "\n",
              "        obj.elements()\n",
              "            .on(\"mouseover\", function(d, i){\n",
              "                tooltip.html(labels[i])\n",
              "                    .style(\"visibility\", \"visible\");\n",
              "            })\n",
              "            .on(\"mousemove\", function(d, i){\n",
              "                tooltip\n",
              "                .style(\"top\", d3.event.pageY + this.props.voffset + \"px\")\n",
              "                .style(\"left\",d3.event.pageX + this.props.hoffset + \"px\");\n",
              "            }.bind(this))\n",
              "            .on(\"mousedown.callout\", function(d, i){\n",
              "                window.open(targets[i],\"_blank\");\n",
              "            })\n",
              "            .on(\"mouseout\", function(d, i){\n",
              "                tooltip.style(\"visibility\", \"hidden\");\n",
              "            });\n",
              "    };\n",
              "    \n",
              "    mpld3.register_plugin(\"toptoolbar\", TopToolbar);\n",
              "    TopToolbar.prototype = Object.create(mpld3.Plugin.prototype);\n",
              "    TopToolbar.prototype.constructor = TopToolbar;\n",
              "    function TopToolbar(fig, props){\n",
              "        mpld3.Plugin.call(this, fig, props);\n",
              "    };\n",
              "\n",
              "    TopToolbar.prototype.draw = function(){\n",
              "      // the toolbar svg doesn't exist\n",
              "      // yet, so first draw it\n",
              "      this.fig.toolbar.draw();\n",
              "\n",
              "      // then change the y position to be\n",
              "      // at the top of the figure\n",
              "      this.fig.toolbar.toolbar.attr(\"x\", 150);\n",
              "      this.fig.toolbar.toolbar.attr(\"y\", 400);\n",
              "\n",
              "      // then remove the draw function,\n",
              "      // so that it is not called again\n",
              "      this.fig.toolbar.draw = function() {}\n",
              "    }\n",
              "    \n",
              "    mpld3.register_plugin(\"htmltooltip\", HtmlTooltipPlugin);\n",
              "    HtmlTooltipPlugin.prototype = Object.create(mpld3.Plugin.prototype);\n",
              "    HtmlTooltipPlugin.prototype.constructor = HtmlTooltipPlugin;\n",
              "    HtmlTooltipPlugin.prototype.requiredProps = [\"id\"];\n",
              "    HtmlTooltipPlugin.prototype.defaultProps = {labels:null,\n",
              "                                                target:null,\n",
              "                                                hoffset:0,\n",
              "                                                voffset:10,\n",
              "                                                targets:null};\n",
              "    function HtmlTooltipPlugin(fig, props){\n",
              "        mpld3.Plugin.call(this, fig, props);\n",
              "    };\n",
              "\n",
              "    HtmlTooltipPlugin.prototype.draw = function(){\n",
              "        var obj = mpld3.get_element(this.props.id);\n",
              "        var labels = this.props.labels;\n",
              "        var targets = this.props.targets;\n",
              "        var tooltip = d3.select(\"body\").append(\"div\")\n",
              "            .attr(\"class\", \"mpld3-tooltip\")\n",
              "            .style(\"position\", \"absolute\")\n",
              "            .style(\"z-index\", \"10\")\n",
              "            .style(\"visibility\", \"hidden\");\n",
              "\n",
              "        obj.elements()\n",
              "            .on(\"mouseover\", function(d, i){\n",
              "                tooltip.html(labels[i])\n",
              "                    .style(\"visibility\", \"visible\");\n",
              "            })\n",
              "            .on(\"mousemove\", function(d, i){\n",
              "                tooltip\n",
              "                .style(\"top\", d3.event.pageY + this.props.voffset + \"px\")\n",
              "                .style(\"left\",d3.event.pageX + this.props.hoffset + \"px\");\n",
              "            }.bind(this))\n",
              "            .on(\"mousedown.callout\", function(d, i){\n",
              "                window.open(targets[i],\"_blank\");\n",
              "            })\n",
              "            .on(\"mouseout\", function(d, i){\n",
              "                tooltip.style(\"visibility\", \"hidden\");\n",
              "            });\n",
              "    };\n",
              "    \n",
              "    mpld3.register_plugin(\"toptoolbar\", TopToolbar);\n",
              "    TopToolbar.prototype = Object.create(mpld3.Plugin.prototype);\n",
              "    TopToolbar.prototype.constructor = TopToolbar;\n",
              "    function TopToolbar(fig, props){\n",
              "        mpld3.Plugin.call(this, fig, props);\n",
              "    };\n",
              "\n",
              "    TopToolbar.prototype.draw = function(){\n",
              "      // the toolbar svg doesn't exist\n",
              "      // yet, so first draw it\n",
              "      this.fig.toolbar.draw();\n",
              "\n",
              "      // then change the y position to be\n",
              "      // at the top of the figure\n",
              "      this.fig.toolbar.toolbar.attr(\"x\", 150);\n",
              "      this.fig.toolbar.toolbar.attr(\"y\", 400);\n",
              "\n",
              "      // then remove the draw function,\n",
              "      // so that it is not called again\n",
              "      this.fig.toolbar.draw = function() {}\n",
              "    }\n",
              "    \n",
              "    mpld3.register_plugin(\"htmltooltip\", HtmlTooltipPlugin);\n",
              "    HtmlTooltipPlugin.prototype = Object.create(mpld3.Plugin.prototype);\n",
              "    HtmlTooltipPlugin.prototype.constructor = HtmlTooltipPlugin;\n",
              "    HtmlTooltipPlugin.prototype.requiredProps = [\"id\"];\n",
              "    HtmlTooltipPlugin.prototype.defaultProps = {labels:null,\n",
              "                                                target:null,\n",
              "                                                hoffset:0,\n",
              "                                                voffset:10,\n",
              "                                                targets:null};\n",
              "    function HtmlTooltipPlugin(fig, props){\n",
              "        mpld3.Plugin.call(this, fig, props);\n",
              "    };\n",
              "\n",
              "    HtmlTooltipPlugin.prototype.draw = function(){\n",
              "        var obj = mpld3.get_element(this.props.id);\n",
              "        var labels = this.props.labels;\n",
              "        var targets = this.props.targets;\n",
              "        var tooltip = d3.select(\"body\").append(\"div\")\n",
              "            .attr(\"class\", \"mpld3-tooltip\")\n",
              "            .style(\"position\", \"absolute\")\n",
              "            .style(\"z-index\", \"10\")\n",
              "            .style(\"visibility\", \"hidden\");\n",
              "\n",
              "        obj.elements()\n",
              "            .on(\"mouseover\", function(d, i){\n",
              "                tooltip.html(labels[i])\n",
              "                    .style(\"visibility\", \"visible\");\n",
              "            })\n",
              "            .on(\"mousemove\", function(d, i){\n",
              "                tooltip\n",
              "                .style(\"top\", d3.event.pageY + this.props.voffset + \"px\")\n",
              "                .style(\"left\",d3.event.pageX + this.props.hoffset + \"px\");\n",
              "            }.bind(this))\n",
              "            .on(\"mousedown.callout\", function(d, i){\n",
              "                window.open(targets[i],\"_blank\");\n",
              "            })\n",
              "            .on(\"mouseout\", function(d, i){\n",
              "                tooltip.style(\"visibility\", \"hidden\");\n",
              "            });\n",
              "    };\n",
              "    \n",
              "    mpld3.register_plugin(\"toptoolbar\", TopToolbar);\n",
              "    TopToolbar.prototype = Object.create(mpld3.Plugin.prototype);\n",
              "    TopToolbar.prototype.constructor = TopToolbar;\n",
              "    function TopToolbar(fig, props){\n",
              "        mpld3.Plugin.call(this, fig, props);\n",
              "    };\n",
              "\n",
              "    TopToolbar.prototype.draw = function(){\n",
              "      // the toolbar svg doesn't exist\n",
              "      // yet, so first draw it\n",
              "      this.fig.toolbar.draw();\n",
              "\n",
              "      // then change the y position to be\n",
              "      // at the top of the figure\n",
              "      this.fig.toolbar.toolbar.attr(\"x\", 150);\n",
              "      this.fig.toolbar.toolbar.attr(\"y\", 400);\n",
              "\n",
              "      // then remove the draw function,\n",
              "      // so that it is not called again\n",
              "      this.fig.toolbar.draw = function() {}\n",
              "    }\n",
              "    \n",
              "         mpld3.draw_figure(\"fig_el1331400924340312805628667678\", {\"width\": 1008.0, \"height\": 432.0, \"axes\": [{\"bbox\": [0.125, 0.125, 0.775, 0.755], \"xlim\": [-0.7022446245855734, 0.7098314809788802], \"ylim\": [-0.7081718721860418, 0.6939226674565514], \"xdomain\": [-0.7022446245855734, 0.7098314809788802], \"ydomain\": [-0.7081718721860418, 0.6939226674565514], \"xscale\": \"linear\", \"yscale\": \"linear\", \"axes\": [{\"position\": \"bottom\", \"nticks\": 0, \"tickvalues\": [], \"tickformat_formatter\": \"\", \"tickformat\": \"\", \"scale\": \"linear\", \"fontsize\": null, \"grid\": {\"gridOn\": false}, \"visible\": false}, {\"position\": \"left\", \"nticks\": 0, \"tickvalues\": [], \"tickformat_formatter\": \"\", \"tickformat\": \"\", \"scale\": \"linear\", \"fontsize\": null, \"grid\": {\"gridOn\": false}, \"visible\": false}], \"axesbg\": \"#FFFFFF\", \"axesbgalpha\": null, \"zoomable\": true, \"id\": \"el133140092431895136\", \"lines\": [], \"paths\": [{\"data\": \"data07\", \"xindex\": 0, \"yindex\": 1, \"coordinates\": \"axes\", \"pathcodes\": [\"M\", \"L\", \"S\", \"L\", \"S\", \"L\", \"S\", \"L\", \"S\", \"Z\"], \"id\": \"el133140092474089184\", \"dasharray\": \"none\", \"alpha\": 0.8, \"facecolor\": \"rgba(255, 255, 255, 0.8)\", \"edgecolor\": \"rgba(204, 204, 204, 0.8)\", \"edgewidth\": 1.0, \"zorder\": 1000000.0}], \"markers\": [{\"data\": \"data01\", \"xindex\": 0, \"yindex\": 1, \"coordinates\": \"data\", \"id\": \"el133140092474729856pts\", \"facecolor\": \"#1B9E77\", \"edgecolor\": \"none\", \"edgewidth\": 1.0, \"alpha\": 1, \"zorder\": 2, \"markerpath\": [[[0.0, 9.0], [2.3868279, 9.0], [4.676218837063681, 8.051703224294176], [6.3639610306789285, 6.3639610306789285], [8.051703224294176, 4.676218837063681], [9.0, 2.3868279], [9.0, 0.0], [9.0, -2.3868279], [8.051703224294176, -4.676218837063681], [6.3639610306789285, -6.3639610306789285], [4.676218837063681, -8.051703224294176], [2.3868279, -9.0], [0.0, -9.0], [-2.3868279, -9.0], [-4.676218837063681, -8.051703224294176], [-6.3639610306789285, -6.3639610306789285], [-8.051703224294176, -4.676218837063681], [-9.0, -2.3868279], [-9.0, 0.0], [-9.0, 2.3868279], [-8.051703224294176, 4.676218837063681], [-6.3639610306789285, 6.3639610306789285], [-4.676218837063681, 8.051703224294176], [-2.3868279, 9.0], [0.0, 9.0]], [\"M\", \"C\", \"C\", \"C\", \"C\", \"C\", \"C\", \"C\", \"C\", \"Z\"]]}, {\"data\": \"data02\", \"xindex\": 0, \"yindex\": 1, \"coordinates\": \"data\", \"id\": \"el133140092474728752pts\", \"facecolor\": \"#D95F02\", \"edgecolor\": \"none\", \"edgewidth\": 1.0, \"alpha\": 1, \"zorder\": 2, \"markerpath\": [[[0.0, 9.0], [2.3868279, 9.0], [4.676218837063681, 8.051703224294176], [6.3639610306789285, 6.3639610306789285], [8.051703224294176, 4.676218837063681], [9.0, 2.3868279], [9.0, 0.0], [9.0, -2.3868279], [8.051703224294176, -4.676218837063681], [6.3639610306789285, -6.3639610306789285], [4.676218837063681, -8.051703224294176], [2.3868279, -9.0], [0.0, -9.0], [-2.3868279, -9.0], [-4.676218837063681, -8.051703224294176], [-6.3639610306789285, -6.3639610306789285], [-8.051703224294176, -4.676218837063681], [-9.0, -2.3868279], [-9.0, 0.0], [-9.0, 2.3868279], [-8.051703224294176, 4.676218837063681], [-6.3639610306789285, 6.3639610306789285], [-4.676218837063681, 8.051703224294176], [-2.3868279, 9.0], [0.0, 9.0]], [\"M\", \"C\", \"C\", \"C\", \"C\", \"C\", \"C\", \"C\", \"C\", \"Z\"]]}, {\"data\": \"data03\", \"xindex\": 0, \"yindex\": 1, \"coordinates\": \"data\", \"id\": \"el133140092474728656pts\", \"facecolor\": \"#7570B3\", \"edgecolor\": \"none\", \"edgewidth\": 1.0, \"alpha\": 1, \"zorder\": 2, \"markerpath\": [[[0.0, 9.0], [2.3868279, 9.0], [4.676218837063681, 8.051703224294176], [6.3639610306789285, 6.3639610306789285], [8.051703224294176, 4.676218837063681], [9.0, 2.3868279], [9.0, 0.0], [9.0, -2.3868279], [8.051703224294176, -4.676218837063681], [6.3639610306789285, -6.3639610306789285], [4.676218837063681, -8.051703224294176], [2.3868279, -9.0], [0.0, -9.0], [-2.3868279, -9.0], [-4.676218837063681, -8.051703224294176], [-6.3639610306789285, -6.3639610306789285], [-8.051703224294176, -4.676218837063681], [-9.0, -2.3868279], [-9.0, 0.0], [-9.0, 2.3868279], [-8.051703224294176, 4.676218837063681], [-6.3639610306789285, 6.3639610306789285], [-4.676218837063681, 8.051703224294176], [-2.3868279, 9.0], [0.0, 9.0]], [\"M\", \"C\", \"C\", \"C\", \"C\", \"C\", \"C\", \"C\", \"C\", \"Z\"]]}, {\"data\": \"data04\", \"xindex\": 0, \"yindex\": 1, \"coordinates\": \"data\", \"id\": \"el133140092474730912pts\", \"facecolor\": \"#E7298A\", \"edgecolor\": \"none\", \"edgewidth\": 1.0, \"alpha\": 1, \"zorder\": 2, \"markerpath\": [[[0.0, 9.0], [2.3868279, 9.0], [4.676218837063681, 8.051703224294176], [6.3639610306789285, 6.3639610306789285], [8.051703224294176, 4.676218837063681], [9.0, 2.3868279], [9.0, 0.0], [9.0, -2.3868279], [8.051703224294176, -4.676218837063681], [6.3639610306789285, -6.3639610306789285], [4.676218837063681, -8.051703224294176], [2.3868279, -9.0], [0.0, -9.0], [-2.3868279, -9.0], [-4.676218837063681, -8.051703224294176], [-6.3639610306789285, -6.3639610306789285], [-8.051703224294176, -4.676218837063681], [-9.0, -2.3868279], [-9.0, 0.0], [-9.0, 2.3868279], [-8.051703224294176, 4.676218837063681], [-6.3639610306789285, 6.3639610306789285], [-4.676218837063681, 8.051703224294176], [-2.3868279, 9.0], [0.0, 9.0]], [\"M\", \"C\", \"C\", \"C\", \"C\", \"C\", \"C\", \"C\", \"C\", \"Z\"]]}, {\"data\": \"data05\", \"xindex\": 0, \"yindex\": 1, \"coordinates\": \"data\", \"id\": \"el133140092472365120pts\", \"facecolor\": \"#66A61E\", \"edgecolor\": \"none\", \"edgewidth\": 1.0, \"alpha\": 1, \"zorder\": 2, \"markerpath\": [[[0.0, 9.0], [2.3868279, 9.0], [4.676218837063681, 8.051703224294176], [6.3639610306789285, 6.3639610306789285], [8.051703224294176, 4.676218837063681], [9.0, 2.3868279], [9.0, 0.0], [9.0, -2.3868279], [8.051703224294176, -4.676218837063681], [6.3639610306789285, -6.3639610306789285], [4.676218837063681, -8.051703224294176], [2.3868279, -9.0], [0.0, -9.0], [-2.3868279, -9.0], [-4.676218837063681, -8.051703224294176], [-6.3639610306789285, -6.3639610306789285], [-8.051703224294176, -4.676218837063681], [-9.0, -2.3868279], [-9.0, 0.0], [-9.0, 2.3868279], [-8.051703224294176, 4.676218837063681], [-6.3639610306789285, 6.3639610306789285], [-4.676218837063681, 8.051703224294176], [-2.3868279, 9.0], [0.0, 9.0]], [\"M\", \"C\", \"C\", \"C\", \"C\", \"C\", \"C\", \"C\", \"C\", \"Z\"]]}, {\"data\": \"data06\", \"xindex\": 0, \"yindex\": 1, \"coordinates\": \"axes\", \"id\": \"el133140092472367136pts\", \"facecolor\": \"#1B9E77\", \"edgecolor\": \"none\", \"edgewidth\": 1.0, \"alpha\": 1, \"zorder\": 1000002.0, \"markerpath\": [[[0.0, 9.0], [2.3868279, 9.0], [4.676218837063681, 8.051703224294176], [6.3639610306789285, 6.3639610306789285], [8.051703224294176, 4.676218837063681], [9.0, 2.3868279], [9.0, 0.0], [9.0, -2.3868279], [8.051703224294176, -4.676218837063681], [6.3639610306789285, -6.3639610306789285], [4.676218837063681, -8.051703224294176], [2.3868279, -9.0], [0.0, -9.0], [-2.3868279, -9.0], [-4.676218837063681, -8.051703224294176], [-6.3639610306789285, -6.3639610306789285], [-8.051703224294176, -4.676218837063681], [-9.0, -2.3868279], [-9.0, 0.0], [-9.0, 2.3868279], [-8.051703224294176, 4.676218837063681], [-6.3639610306789285, 6.3639610306789285], [-4.676218837063681, 8.051703224294176], [-2.3868279, 9.0], [0.0, 9.0]], [\"M\", \"C\", \"C\", \"C\", \"C\", \"C\", \"C\", \"C\", \"C\", \"Z\"]]}, {\"data\": \"data06\", \"xindex\": 0, \"yindex\": 2, \"coordinates\": \"axes\", \"id\": \"el133140092472368624pts\", \"facecolor\": \"#D95F02\", \"edgecolor\": \"none\", \"edgewidth\": 1.0, \"alpha\": 1, \"zorder\": 1000002.0, \"markerpath\": [[[0.0, 9.0], [2.3868279, 9.0], [4.676218837063681, 8.051703224294176], [6.3639610306789285, 6.3639610306789285], [8.051703224294176, 4.676218837063681], [9.0, 2.3868279], [9.0, 0.0], [9.0, -2.3868279], [8.051703224294176, -4.676218837063681], [6.3639610306789285, -6.3639610306789285], [4.676218837063681, -8.051703224294176], [2.3868279, -9.0], [0.0, -9.0], [-2.3868279, -9.0], [-4.676218837063681, -8.051703224294176], [-6.3639610306789285, -6.3639610306789285], [-8.051703224294176, -4.676218837063681], [-9.0, -2.3868279], [-9.0, 0.0], [-9.0, 2.3868279], [-8.051703224294176, 4.676218837063681], [-6.3639610306789285, 6.3639610306789285], [-4.676218837063681, 8.051703224294176], [-2.3868279, 9.0], [0.0, 9.0]], [\"M\", \"C\", \"C\", \"C\", \"C\", \"C\", \"C\", \"C\", \"C\", \"Z\"]]}, {\"data\": \"data06\", \"xindex\": 0, \"yindex\": 3, \"coordinates\": \"axes\", \"id\": \"el133140092472439808pts\", \"facecolor\": \"#7570B3\", \"edgecolor\": \"none\", \"edgewidth\": 1.0, \"alpha\": 1, \"zorder\": 1000002.0, \"markerpath\": [[[0.0, 9.0], [2.3868279, 9.0], [4.676218837063681, 8.051703224294176], [6.3639610306789285, 6.3639610306789285], [8.051703224294176, 4.676218837063681], [9.0, 2.3868279], [9.0, 0.0], [9.0, -2.3868279], [8.051703224294176, -4.676218837063681], [6.3639610306789285, -6.3639610306789285], [4.676218837063681, -8.051703224294176], [2.3868279, -9.0], [0.0, -9.0], [-2.3868279, -9.0], [-4.676218837063681, -8.051703224294176], [-6.3639610306789285, -6.3639610306789285], [-8.051703224294176, -4.676218837063681], [-9.0, -2.3868279], [-9.0, 0.0], [-9.0, 2.3868279], [-8.051703224294176, 4.676218837063681], [-6.3639610306789285, 6.3639610306789285], [-4.676218837063681, 8.051703224294176], [-2.3868279, 9.0], [0.0, 9.0]], [\"M\", \"C\", \"C\", \"C\", \"C\", \"C\", \"C\", \"C\", \"C\", \"Z\"]]}, {\"data\": \"data06\", \"xindex\": 0, \"yindex\": 4, \"coordinates\": \"axes\", \"id\": \"el133140092472441296pts\", \"facecolor\": \"#E7298A\", \"edgecolor\": \"none\", \"edgewidth\": 1.0, \"alpha\": 1, \"zorder\": 1000002.0, \"markerpath\": [[[0.0, 9.0], [2.3868279, 9.0], [4.676218837063681, 8.051703224294176], [6.3639610306789285, 6.3639610306789285], [8.051703224294176, 4.676218837063681], [9.0, 2.3868279], [9.0, 0.0], [9.0, -2.3868279], [8.051703224294176, -4.676218837063681], [6.3639610306789285, -6.3639610306789285], [4.676218837063681, -8.051703224294176], [2.3868279, -9.0], [0.0, -9.0], [-2.3868279, -9.0], [-4.676218837063681, -8.051703224294176], [-6.3639610306789285, -6.3639610306789285], [-8.051703224294176, -4.676218837063681], [-9.0, -2.3868279], [-9.0, 0.0], [-9.0, 2.3868279], [-8.051703224294176, 4.676218837063681], [-6.3639610306789285, 6.3639610306789285], [-4.676218837063681, 8.051703224294176], [-2.3868279, 9.0], [0.0, 9.0]], [\"M\", \"C\", \"C\", \"C\", \"C\", \"C\", \"C\", \"C\", \"C\", \"Z\"]]}, {\"data\": \"data06\", \"xindex\": 0, \"yindex\": 5, \"coordinates\": \"axes\", \"id\": \"el133140092472442784pts\", \"facecolor\": \"#66A61E\", \"edgecolor\": \"none\", \"edgewidth\": 1.0, \"alpha\": 1, \"zorder\": 1000002.0, \"markerpath\": [[[0.0, 9.0], [2.3868279, 9.0], [4.676218837063681, 8.051703224294176], [6.3639610306789285, 6.3639610306789285], [8.051703224294176, 4.676218837063681], [9.0, 2.3868279], [9.0, 0.0], [9.0, -2.3868279], [8.051703224294176, -4.676218837063681], [6.3639610306789285, -6.3639610306789285], [4.676218837063681, -8.051703224294176], [2.3868279, -9.0], [0.0, -9.0], [-2.3868279, -9.0], [-4.676218837063681, -8.051703224294176], [-6.3639610306789285, -6.3639610306789285], [-8.051703224294176, -4.676218837063681], [-9.0, -2.3868279], [-9.0, 0.0], [-9.0, 2.3868279], [-8.051703224294176, 4.676218837063681], [-6.3639610306789285, 6.3639610306789285], [-4.676218837063681, 8.051703224294176], [-2.3868279, 9.0], [0.0, 9.0]], [\"M\", \"C\", \"C\", \"C\", \"C\", \"C\", \"C\", \"C\", \"C\", \"Z\"]]}], \"texts\": [{\"text\": \"Family, home, war\", \"position\": [0.8204685099846392, 0.21768457198920774], \"coordinates\": \"axes\", \"h_anchor\": \"start\", \"v_baseline\": \"auto\", \"rotation\": -0.0, \"fontsize\": 10.0, \"color\": \"#000000\", \"alpha\": 1, \"zorder\": 1000003.0, \"id\": \"el133140092472366464\"}, {\"text\": \"Police, killed, murders\", \"position\": [0.8204685099846392, 0.17169487368162864], \"coordinates\": \"axes\", \"h_anchor\": \"start\", \"v_baseline\": \"auto\", \"rotation\": -0.0, \"fontsize\": 10.0, \"color\": \"#000000\", \"alpha\": 1, \"zorder\": 1000003.0, \"id\": \"el133140092472367952\"}, {\"text\": \"Father, New York, brothers\", \"position\": [0.8204685099846392, 0.12570517537404954], \"coordinates\": \"axes\", \"h_anchor\": \"start\", \"v_baseline\": \"auto\", \"rotation\": -0.0, \"fontsize\": 10.0, \"color\": \"#000000\", \"alpha\": 1, \"zorder\": 1000003.0, \"id\": \"el133140092472439136\"}, {\"text\": \"Dance, singing, love\", \"position\": [0.8204685099846392, 0.07971547706647045], \"coordinates\": \"axes\", \"h_anchor\": \"start\", \"v_baseline\": \"auto\", \"rotation\": -0.0, \"fontsize\": 10.0, \"color\": \"#000000\", \"alpha\": 1, \"zorder\": 1000003.0, \"id\": \"el133140092472440624\"}, {\"text\": \"Killed, soldiers, captain\", \"position\": [0.8204685099846392, 0.03372577875889135], \"coordinates\": \"axes\", \"h_anchor\": \"start\", \"v_baseline\": \"auto\", \"rotation\": -0.0, \"fontsize\": 10.0, \"color\": \"#000000\", \"alpha\": 1, \"zorder\": 1000003.0, \"id\": \"el133140092472442112\"}], \"collections\": [], \"images\": [], \"sharex\": [], \"sharey\": []}], \"data\": {\"data01\": [[-0.03159215088404366, -0.45663791320402886], [-0.2509077886527682, -0.5748301691298103], [0.5523203950143739, 0.4906695451776374], [-0.0822211719046293, -0.5783371225442145], [-0.016415337094761003, -0.6356033887664564], [0.019707608446931178, -0.6360131358153785], [0.24381678674291052, -0.5041387862290508], [0.08011541418687525, -0.4798779364145004], [-0.1524708594907454, -0.3409184384980287], [-0.020101379300060913, -0.3570984271707861], [-0.22754763513663467, -0.45049222698404334], [0.1287536654528344, -0.6684899512527609], [0.07969434882060063, -0.3889371661029437], [-0.11274056497585859, -0.49926901658843537], [0.18267302179861425, -0.5787625309524596], [0.1563795065783695, -0.21300821701033482], [-0.18334149000822167, -0.5551280766277863], [-0.4533760890831642, -0.4451810757043979], [0.33498008050466554, -0.6458620573675335]], \"data02\": [[0.44206412093578173, -0.27869804841256207], [-0.13227195754649126, 0.5745384801472381], [0.05822957027256338, 0.256929533865531], [-0.43458221470796804, -0.29655933230579506], [0.07164980401234082, 0.13140842985205484], [-0.05321665416838313, 0.12337031922670556], [0.3548063612344581, 0.008230388449868098], [-0.02172250207705443, -0.04277898807708071], [0.3500865831297658, -0.33952163222346426], [0.5307508765954988, 0.1293499548695287], [-0.15353411958657529, -0.3013348801222534], [-0.28445673314938785, 0.27573355826080437], [0.21436568495015884, 0.21833323177235375], [0.31820603526510766, 0.08767290955547546], [-0.19657213727582853, 0.39573854896210925], [0.4928973738021543, -0.14112529581269717], [-0.0697835765252865, 0.5697755231183568], [-0.34789814258235424, -0.3258509720117311], [-0.0876522433589088, -0.20078309954756865], [0.5655872568440865, 0.3427492412662697], [0.6448729810407794, -0.1557495377370637], [-0.028860474947472948, 0.6542407465232705], [0.21979780091087622, 0.48012585338200914], [0.48195453604347716, 0.008013240019345533], [0.4758882198147056, -0.4358383186309247], [-0.551459865435424, 0.3351166974656385], [-0.5674182514385872, -0.35374010333970207], [0.06214704621807539, 0.6101371440051012], [0.3243862951002719, -0.45653595159186383], [-0.18645450426356014, 0.150485309679993], [0.1850753249911779, 0.5789634882504009], [0.6273622875630892, 0.3594269833423288]], \"data03\": [[0.011707339999011584, 0.4624485755347979], [0.6037432800571017, -0.3456991338989089], [-0.4301218469327288, 0.28528616015883534], [0.5177811917071925, -0.2536618659106638], [-0.34166783709147913, 0.6344444329502953], [0.4335012948307977, 0.14567214405204687], [0.34339799473545496, 0.24588751780959872], [0.3442345942883043, -0.13024993477969463], [-0.5962489128496042, 0.19029081995111047], [-0.3031164788430419, 0.47587091621770383], [-0.18141401157117412, 0.47664757937416014], [0.12564351913288888, 0.4177899987124327], [-0.3416411136605303, 0.036359351999961084], [0.6688477850887058, -0.08783283749852551], [-0.6012517387271848, -0.0418859194691775], [-0.34156011933518005, -0.06836233054197617], [-0.19967295689696812, 0.006401158105055958]], \"data04\": [[0.4184044202336738, 0.5850489899951163], [0.6698670628968674, 0.11896605280395367], [-0.20377837648670416, 0.5597732710930737], [0.4020451359180303, 0.49856493148445374], [0.6677334884276219, 0.2695002905230577], [-0.02234991385406897, 0.3387044447457824]], \"data05\": [[0.1842728439475597, -0.011715611328299623], [-0.2587368350262618, -0.26527516559786957], [0.058399024554247426, -0.04612821871658942], [-0.22775176430437058, 0.06867225264698684], [-0.3527560545316662, 0.12706104279951017], [-0.4842963450926421, 0.17299124057611814], [0.19843842072642093, -0.3892916828503908], [-0.5523024142568739, -0.22470452093169108], [-0.17157923142425296, 0.23225249097460976], [0.4157900555927239, 0.4066680050040376], [0.1607366978752424, -0.11945297477856227], [-0.3609008933642027, -0.48196142317941265], [-0.6622802065035606, -0.20503714364142692], [0.20869950117396832, 0.06431546201598057], [0.18357552763037874, 0.3029327061666986], [-0.45990623558854987, 0.007717409858540057], [-0.42084558901816005, 0.46273188035729895], [0.12067866743532428, 0.4813363821584589], [0.2751629686852379, -0.2942902403479915], [-0.3243379724030205, 0.3312099814646893], [-0.3394231160832892, -0.1511074564578018], [-0.5521585808438269, 0.028891781654075178], [-0.4660099693912445, -0.09927639405993571], [-0.5791042079012638, 0.2903462882632784], [-0.5810674876200954, 0.10583683075043433], [-0.20835174801118317, -0.05859486722959816]], \"data06\": [[0.7846262160778291, 0.22841550159430954, 0.18242580328673044, 0.13643610497915135, 0.09044640667157224, 0.04445670836399314], [0.7974270353302613, 0.22841550159430954, 0.18242580328673044, 0.13643610497915135, 0.09044640667157224, 0.04445670836399314], [0.8102278545826934, 0.22841550159430954, 0.18242580328673044, 0.13643610497915135, 0.09044640667157224, 0.04445670836399314]], \"data07\": [[0.7820660522273426, 0.015329899435859717], [0.9910394265232977, 0.015329899435859717], [0.9935995903737841, 0.015329899435859717], [0.9935995903737841, 0.021461859210203577], [0.9935995903737841, 0.24834437086092717], [0.9935995903737841, 0.254476330635271], [0.9910394265232977, 0.254476330635271], [0.7820660522273426, 0.254476330635271], [0.7795058883768562, 0.254476330635271], [0.7795058883768562, 0.24834437086092717], [0.7795058883768562, 0.021461859210203577], [0.7795058883768562, 0.015329899435859717], [0.7820660522273426, 0.015329899435859717]]}, \"id\": \"el133140092434031280\", \"plugins\": [{\"type\": \"reset\"}, {\"type\": \"zoom\", \"button\": true, \"enabled\": false}, {\"type\": \"boxzoom\", \"button\": true, \"enabled\": false}, {\"type\": \"htmltooltip\", \"id\": \"el133140092474729856pts\", \"labels\": [\"Schindler's List\", \"Lawrence of Arabia\", \"The Sound of Music\", \"The Bridge on the River Kwai\", \"Dr. Strangelove or: How I Learned to Stop Worrying and Love the Bomb\", \"Apocalypse Now\", \"The Lord of the Rings: The Return of the King\", \"Gladiator\", \"From Here to Eternity\", \"Saving Private Ryan\", \"Raiders of the Lost Ark\", \"Patton\", \"Jaws\", \"Platoon\", \"Dances with Wolves\", \"The Pianist\", \"All Quiet on the Western Front\", \"The African Queen\", \"Mutiny on the Bounty\"], \"targets\": null, \"hoffset\": 10, \"voffset\": 10}, {\"type\": \"toptoolbar\"}, {\"type\": \"htmltooltip\", \"id\": \"el133140092474728752pts\", \"labels\": [\"The Shawshank Redemption\", \"Raging Bull\", \"One Flew Over the Cuckoo's Nest\", \"The Wizard of Oz\", \"The Godfather: Part II\", \"On the Waterfront\", \"Forrest Gump\", \"E.T. the Extra-Terrestrial\", \"2001: A Space Odyssey\", \"12 Angry Men\", \"Unforgiven\", \"Rocky\", \"To Kill a Mockingbird\", \"The Best Years of Our Lives\", \"My Fair Lady\", \"Braveheart\", \"The Good, the Bad and the Ugly\", \"Butch Cassidy and the Sundance Kid\", \"The Deer Hunter\", \"City Lights\", \"Mr. Smith Goes to Washington\", \"Annie Hall\", \"Terms of Endearment\", \"Giant\", \"The Grapes of Wrath\", \"Shane\", \"The Green Mile\", \"Nashville\", \"Stagecoach\", \"A Clockwork Orange\", \"Wuthering Heights\", \"Yankee Doodle Dandy\"], \"targets\": null, \"hoffset\": 10, \"voffset\": 10}, {\"type\": \"toptoolbar\"}, {\"type\": \"htmltooltip\", \"id\": \"el133140092474728656pts\", \"labels\": [\"Citizen Kane\", \"Titanic\", \"Sunset Blvd.\", \"The Silence of the Lambs\", \"Singin' in the Rain\", \"Gandhi\", \"A Streetcar Named Desire\", \"Ben-Hur\", \"The Apartment\", \"Midnight Cowboy\", \"Rain Man\", \"Good Will Hunting\", \"Fargo\", \"Network\", \"American Graffiti\", \"Pulp Fiction\", \"North by Northwest\"], \"targets\": null, \"hoffset\": 10, \"voffset\": 10}, {\"type\": \"toptoolbar\"}, {\"type\": \"htmltooltip\", \"id\": \"el133140092474730912pts\", \"labels\": [\"It's a Wonderful Life\", \"The Philadelphia Story\", \"An American in Paris\", \"The King's Speech\", \"A Place in the Sun\", \"Tootsie\"], \"targets\": null, \"hoffset\": 10, \"voffset\": 10}, {\"type\": \"toptoolbar\"}, {\"type\": \"htmltooltip\", \"id\": \"el133140092472365120pts\", \"labels\": [\"The Godfather\", \"Casablanca\", \"Gone with the Wind\", \"Psycho\", \"Vertigo\", \"West Side Story\", \"Star Wars\", \"Chinatown\", \"Some Like It Hot\", \"Amadeus\", \"Doctor Zhivago\", \"The Treasure of the Sierra Madre\", \"High Noon\", \"Goodfellas\", \"The Exorcist\", \"The French Connection\", \"It Happened One Night\", \"Out of Africa\", \"Close Encounters of the Third Kind\", \"The Graduate\", \"The Maltese Falcon\", \"Taxi Driver\", \"Double Indemnity\", \"Rebel Without a Cause\", \"Rear Window\", \"The Third Man\"], \"targets\": null, \"hoffset\": 10, \"voffset\": 10}, {\"type\": \"toptoolbar\"}]});\n",
              "      });\n",
              "    });\n",
              "}else{\n",
              "    // require.js not available: dynamically load d3 & mpld3\n",
              "    mpld3_load_lib(\"https://d3js.org/d3.v5.js\", function(){\n",
              "         mpld3_load_lib(\"https://mpld3.github.io/js/mpld3.v0.5.9.js\", function(){\n",
              "                 \n",
              "    mpld3.register_plugin(\"htmltooltip\", HtmlTooltipPlugin);\n",
              "    HtmlTooltipPlugin.prototype = Object.create(mpld3.Plugin.prototype);\n",
              "    HtmlTooltipPlugin.prototype.constructor = HtmlTooltipPlugin;\n",
              "    HtmlTooltipPlugin.prototype.requiredProps = [\"id\"];\n",
              "    HtmlTooltipPlugin.prototype.defaultProps = {labels:null,\n",
              "                                                target:null,\n",
              "                                                hoffset:0,\n",
              "                                                voffset:10,\n",
              "                                                targets:null};\n",
              "    function HtmlTooltipPlugin(fig, props){\n",
              "        mpld3.Plugin.call(this, fig, props);\n",
              "    };\n",
              "\n",
              "    HtmlTooltipPlugin.prototype.draw = function(){\n",
              "        var obj = mpld3.get_element(this.props.id);\n",
              "        var labels = this.props.labels;\n",
              "        var targets = this.props.targets;\n",
              "        var tooltip = d3.select(\"body\").append(\"div\")\n",
              "            .attr(\"class\", \"mpld3-tooltip\")\n",
              "            .style(\"position\", \"absolute\")\n",
              "            .style(\"z-index\", \"10\")\n",
              "            .style(\"visibility\", \"hidden\");\n",
              "\n",
              "        obj.elements()\n",
              "            .on(\"mouseover\", function(d, i){\n",
              "                tooltip.html(labels[i])\n",
              "                    .style(\"visibility\", \"visible\");\n",
              "            })\n",
              "            .on(\"mousemove\", function(d, i){\n",
              "                tooltip\n",
              "                .style(\"top\", d3.event.pageY + this.props.voffset + \"px\")\n",
              "                .style(\"left\",d3.event.pageX + this.props.hoffset + \"px\");\n",
              "            }.bind(this))\n",
              "            .on(\"mousedown.callout\", function(d, i){\n",
              "                window.open(targets[i],\"_blank\");\n",
              "            })\n",
              "            .on(\"mouseout\", function(d, i){\n",
              "                tooltip.style(\"visibility\", \"hidden\");\n",
              "            });\n",
              "    };\n",
              "    \n",
              "    mpld3.register_plugin(\"toptoolbar\", TopToolbar);\n",
              "    TopToolbar.prototype = Object.create(mpld3.Plugin.prototype);\n",
              "    TopToolbar.prototype.constructor = TopToolbar;\n",
              "    function TopToolbar(fig, props){\n",
              "        mpld3.Plugin.call(this, fig, props);\n",
              "    };\n",
              "\n",
              "    TopToolbar.prototype.draw = function(){\n",
              "      // the toolbar svg doesn't exist\n",
              "      // yet, so first draw it\n",
              "      this.fig.toolbar.draw();\n",
              "\n",
              "      // then change the y position to be\n",
              "      // at the top of the figure\n",
              "      this.fig.toolbar.toolbar.attr(\"x\", 150);\n",
              "      this.fig.toolbar.toolbar.attr(\"y\", 400);\n",
              "\n",
              "      // then remove the draw function,\n",
              "      // so that it is not called again\n",
              "      this.fig.toolbar.draw = function() {}\n",
              "    }\n",
              "    \n",
              "    mpld3.register_plugin(\"htmltooltip\", HtmlTooltipPlugin);\n",
              "    HtmlTooltipPlugin.prototype = Object.create(mpld3.Plugin.prototype);\n",
              "    HtmlTooltipPlugin.prototype.constructor = HtmlTooltipPlugin;\n",
              "    HtmlTooltipPlugin.prototype.requiredProps = [\"id\"];\n",
              "    HtmlTooltipPlugin.prototype.defaultProps = {labels:null,\n",
              "                                                target:null,\n",
              "                                                hoffset:0,\n",
              "                                                voffset:10,\n",
              "                                                targets:null};\n",
              "    function HtmlTooltipPlugin(fig, props){\n",
              "        mpld3.Plugin.call(this, fig, props);\n",
              "    };\n",
              "\n",
              "    HtmlTooltipPlugin.prototype.draw = function(){\n",
              "        var obj = mpld3.get_element(this.props.id);\n",
              "        var labels = this.props.labels;\n",
              "        var targets = this.props.targets;\n",
              "        var tooltip = d3.select(\"body\").append(\"div\")\n",
              "            .attr(\"class\", \"mpld3-tooltip\")\n",
              "            .style(\"position\", \"absolute\")\n",
              "            .style(\"z-index\", \"10\")\n",
              "            .style(\"visibility\", \"hidden\");\n",
              "\n",
              "        obj.elements()\n",
              "            .on(\"mouseover\", function(d, i){\n",
              "                tooltip.html(labels[i])\n",
              "                    .style(\"visibility\", \"visible\");\n",
              "            })\n",
              "            .on(\"mousemove\", function(d, i){\n",
              "                tooltip\n",
              "                .style(\"top\", d3.event.pageY + this.props.voffset + \"px\")\n",
              "                .style(\"left\",d3.event.pageX + this.props.hoffset + \"px\");\n",
              "            }.bind(this))\n",
              "            .on(\"mousedown.callout\", function(d, i){\n",
              "                window.open(targets[i],\"_blank\");\n",
              "            })\n",
              "            .on(\"mouseout\", function(d, i){\n",
              "                tooltip.style(\"visibility\", \"hidden\");\n",
              "            });\n",
              "    };\n",
              "    \n",
              "    mpld3.register_plugin(\"toptoolbar\", TopToolbar);\n",
              "    TopToolbar.prototype = Object.create(mpld3.Plugin.prototype);\n",
              "    TopToolbar.prototype.constructor = TopToolbar;\n",
              "    function TopToolbar(fig, props){\n",
              "        mpld3.Plugin.call(this, fig, props);\n",
              "    };\n",
              "\n",
              "    TopToolbar.prototype.draw = function(){\n",
              "      // the toolbar svg doesn't exist\n",
              "      // yet, so first draw it\n",
              "      this.fig.toolbar.draw();\n",
              "\n",
              "      // then change the y position to be\n",
              "      // at the top of the figure\n",
              "      this.fig.toolbar.toolbar.attr(\"x\", 150);\n",
              "      this.fig.toolbar.toolbar.attr(\"y\", 400);\n",
              "\n",
              "      // then remove the draw function,\n",
              "      // so that it is not called again\n",
              "      this.fig.toolbar.draw = function() {}\n",
              "    }\n",
              "    \n",
              "    mpld3.register_plugin(\"htmltooltip\", HtmlTooltipPlugin);\n",
              "    HtmlTooltipPlugin.prototype = Object.create(mpld3.Plugin.prototype);\n",
              "    HtmlTooltipPlugin.prototype.constructor = HtmlTooltipPlugin;\n",
              "    HtmlTooltipPlugin.prototype.requiredProps = [\"id\"];\n",
              "    HtmlTooltipPlugin.prototype.defaultProps = {labels:null,\n",
              "                                                target:null,\n",
              "                                                hoffset:0,\n",
              "                                                voffset:10,\n",
              "                                                targets:null};\n",
              "    function HtmlTooltipPlugin(fig, props){\n",
              "        mpld3.Plugin.call(this, fig, props);\n",
              "    };\n",
              "\n",
              "    HtmlTooltipPlugin.prototype.draw = function(){\n",
              "        var obj = mpld3.get_element(this.props.id);\n",
              "        var labels = this.props.labels;\n",
              "        var targets = this.props.targets;\n",
              "        var tooltip = d3.select(\"body\").append(\"div\")\n",
              "            .attr(\"class\", \"mpld3-tooltip\")\n",
              "            .style(\"position\", \"absolute\")\n",
              "            .style(\"z-index\", \"10\")\n",
              "            .style(\"visibility\", \"hidden\");\n",
              "\n",
              "        obj.elements()\n",
              "            .on(\"mouseover\", function(d, i){\n",
              "                tooltip.html(labels[i])\n",
              "                    .style(\"visibility\", \"visible\");\n",
              "            })\n",
              "            .on(\"mousemove\", function(d, i){\n",
              "                tooltip\n",
              "                .style(\"top\", d3.event.pageY + this.props.voffset + \"px\")\n",
              "                .style(\"left\",d3.event.pageX + this.props.hoffset + \"px\");\n",
              "            }.bind(this))\n",
              "            .on(\"mousedown.callout\", function(d, i){\n",
              "                window.open(targets[i],\"_blank\");\n",
              "            })\n",
              "            .on(\"mouseout\", function(d, i){\n",
              "                tooltip.style(\"visibility\", \"hidden\");\n",
              "            });\n",
              "    };\n",
              "    \n",
              "    mpld3.register_plugin(\"toptoolbar\", TopToolbar);\n",
              "    TopToolbar.prototype = Object.create(mpld3.Plugin.prototype);\n",
              "    TopToolbar.prototype.constructor = TopToolbar;\n",
              "    function TopToolbar(fig, props){\n",
              "        mpld3.Plugin.call(this, fig, props);\n",
              "    };\n",
              "\n",
              "    TopToolbar.prototype.draw = function(){\n",
              "      // the toolbar svg doesn't exist\n",
              "      // yet, so first draw it\n",
              "      this.fig.toolbar.draw();\n",
              "\n",
              "      // then change the y position to be\n",
              "      // at the top of the figure\n",
              "      this.fig.toolbar.toolbar.attr(\"x\", 150);\n",
              "      this.fig.toolbar.toolbar.attr(\"y\", 400);\n",
              "\n",
              "      // then remove the draw function,\n",
              "      // so that it is not called again\n",
              "      this.fig.toolbar.draw = function() {}\n",
              "    }\n",
              "    \n",
              "    mpld3.register_plugin(\"htmltooltip\", HtmlTooltipPlugin);\n",
              "    HtmlTooltipPlugin.prototype = Object.create(mpld3.Plugin.prototype);\n",
              "    HtmlTooltipPlugin.prototype.constructor = HtmlTooltipPlugin;\n",
              "    HtmlTooltipPlugin.prototype.requiredProps = [\"id\"];\n",
              "    HtmlTooltipPlugin.prototype.defaultProps = {labels:null,\n",
              "                                                target:null,\n",
              "                                                hoffset:0,\n",
              "                                                voffset:10,\n",
              "                                                targets:null};\n",
              "    function HtmlTooltipPlugin(fig, props){\n",
              "        mpld3.Plugin.call(this, fig, props);\n",
              "    };\n",
              "\n",
              "    HtmlTooltipPlugin.prototype.draw = function(){\n",
              "        var obj = mpld3.get_element(this.props.id);\n",
              "        var labels = this.props.labels;\n",
              "        var targets = this.props.targets;\n",
              "        var tooltip = d3.select(\"body\").append(\"div\")\n",
              "            .attr(\"class\", \"mpld3-tooltip\")\n",
              "            .style(\"position\", \"absolute\")\n",
              "            .style(\"z-index\", \"10\")\n",
              "            .style(\"visibility\", \"hidden\");\n",
              "\n",
              "        obj.elements()\n",
              "            .on(\"mouseover\", function(d, i){\n",
              "                tooltip.html(labels[i])\n",
              "                    .style(\"visibility\", \"visible\");\n",
              "            })\n",
              "            .on(\"mousemove\", function(d, i){\n",
              "                tooltip\n",
              "                .style(\"top\", d3.event.pageY + this.props.voffset + \"px\")\n",
              "                .style(\"left\",d3.event.pageX + this.props.hoffset + \"px\");\n",
              "            }.bind(this))\n",
              "            .on(\"mousedown.callout\", function(d, i){\n",
              "                window.open(targets[i],\"_blank\");\n",
              "            })\n",
              "            .on(\"mouseout\", function(d, i){\n",
              "                tooltip.style(\"visibility\", \"hidden\");\n",
              "            });\n",
              "    };\n",
              "    \n",
              "    mpld3.register_plugin(\"toptoolbar\", TopToolbar);\n",
              "    TopToolbar.prototype = Object.create(mpld3.Plugin.prototype);\n",
              "    TopToolbar.prototype.constructor = TopToolbar;\n",
              "    function TopToolbar(fig, props){\n",
              "        mpld3.Plugin.call(this, fig, props);\n",
              "    };\n",
              "\n",
              "    TopToolbar.prototype.draw = function(){\n",
              "      // the toolbar svg doesn't exist\n",
              "      // yet, so first draw it\n",
              "      this.fig.toolbar.draw();\n",
              "\n",
              "      // then change the y position to be\n",
              "      // at the top of the figure\n",
              "      this.fig.toolbar.toolbar.attr(\"x\", 150);\n",
              "      this.fig.toolbar.toolbar.attr(\"y\", 400);\n",
              "\n",
              "      // then remove the draw function,\n",
              "      // so that it is not called again\n",
              "      this.fig.toolbar.draw = function() {}\n",
              "    }\n",
              "    \n",
              "    mpld3.register_plugin(\"htmltooltip\", HtmlTooltipPlugin);\n",
              "    HtmlTooltipPlugin.prototype = Object.create(mpld3.Plugin.prototype);\n",
              "    HtmlTooltipPlugin.prototype.constructor = HtmlTooltipPlugin;\n",
              "    HtmlTooltipPlugin.prototype.requiredProps = [\"id\"];\n",
              "    HtmlTooltipPlugin.prototype.defaultProps = {labels:null,\n",
              "                                                target:null,\n",
              "                                                hoffset:0,\n",
              "                                                voffset:10,\n",
              "                                                targets:null};\n",
              "    function HtmlTooltipPlugin(fig, props){\n",
              "        mpld3.Plugin.call(this, fig, props);\n",
              "    };\n",
              "\n",
              "    HtmlTooltipPlugin.prototype.draw = function(){\n",
              "        var obj = mpld3.get_element(this.props.id);\n",
              "        var labels = this.props.labels;\n",
              "        var targets = this.props.targets;\n",
              "        var tooltip = d3.select(\"body\").append(\"div\")\n",
              "            .attr(\"class\", \"mpld3-tooltip\")\n",
              "            .style(\"position\", \"absolute\")\n",
              "            .style(\"z-index\", \"10\")\n",
              "            .style(\"visibility\", \"hidden\");\n",
              "\n",
              "        obj.elements()\n",
              "            .on(\"mouseover\", function(d, i){\n",
              "                tooltip.html(labels[i])\n",
              "                    .style(\"visibility\", \"visible\");\n",
              "            })\n",
              "            .on(\"mousemove\", function(d, i){\n",
              "                tooltip\n",
              "                .style(\"top\", d3.event.pageY + this.props.voffset + \"px\")\n",
              "                .style(\"left\",d3.event.pageX + this.props.hoffset + \"px\");\n",
              "            }.bind(this))\n",
              "            .on(\"mousedown.callout\", function(d, i){\n",
              "                window.open(targets[i],\"_blank\");\n",
              "            })\n",
              "            .on(\"mouseout\", function(d, i){\n",
              "                tooltip.style(\"visibility\", \"hidden\");\n",
              "            });\n",
              "    };\n",
              "    \n",
              "    mpld3.register_plugin(\"toptoolbar\", TopToolbar);\n",
              "    TopToolbar.prototype = Object.create(mpld3.Plugin.prototype);\n",
              "    TopToolbar.prototype.constructor = TopToolbar;\n",
              "    function TopToolbar(fig, props){\n",
              "        mpld3.Plugin.call(this, fig, props);\n",
              "    };\n",
              "\n",
              "    TopToolbar.prototype.draw = function(){\n",
              "      // the toolbar svg doesn't exist\n",
              "      // yet, so first draw it\n",
              "      this.fig.toolbar.draw();\n",
              "\n",
              "      // then change the y position to be\n",
              "      // at the top of the figure\n",
              "      this.fig.toolbar.toolbar.attr(\"x\", 150);\n",
              "      this.fig.toolbar.toolbar.attr(\"y\", 400);\n",
              "\n",
              "      // then remove the draw function,\n",
              "      // so that it is not called again\n",
              "      this.fig.toolbar.draw = function() {}\n",
              "    }\n",
              "    \n",
              "                 mpld3.draw_figure(\"fig_el1331400924340312805628667678\", {\"width\": 1008.0, \"height\": 432.0, \"axes\": [{\"bbox\": [0.125, 0.125, 0.775, 0.755], \"xlim\": [-0.7022446245855734, 0.7098314809788802], \"ylim\": [-0.7081718721860418, 0.6939226674565514], \"xdomain\": [-0.7022446245855734, 0.7098314809788802], \"ydomain\": [-0.7081718721860418, 0.6939226674565514], \"xscale\": \"linear\", \"yscale\": \"linear\", \"axes\": [{\"position\": \"bottom\", \"nticks\": 0, \"tickvalues\": [], \"tickformat_formatter\": \"\", \"tickformat\": \"\", \"scale\": \"linear\", \"fontsize\": null, \"grid\": {\"gridOn\": false}, \"visible\": false}, {\"position\": \"left\", \"nticks\": 0, \"tickvalues\": [], \"tickformat_formatter\": \"\", \"tickformat\": \"\", \"scale\": \"linear\", \"fontsize\": null, \"grid\": {\"gridOn\": false}, \"visible\": false}], \"axesbg\": \"#FFFFFF\", \"axesbgalpha\": null, \"zoomable\": true, \"id\": \"el133140092431895136\", \"lines\": [], \"paths\": [{\"data\": \"data07\", \"xindex\": 0, \"yindex\": 1, \"coordinates\": \"axes\", \"pathcodes\": [\"M\", \"L\", \"S\", \"L\", \"S\", \"L\", \"S\", \"L\", \"S\", \"Z\"], \"id\": \"el133140092474089184\", \"dasharray\": \"none\", \"alpha\": 0.8, \"facecolor\": \"rgba(255, 255, 255, 0.8)\", \"edgecolor\": \"rgba(204, 204, 204, 0.8)\", \"edgewidth\": 1.0, \"zorder\": 1000000.0}], \"markers\": [{\"data\": \"data01\", \"xindex\": 0, \"yindex\": 1, \"coordinates\": \"data\", \"id\": \"el133140092474729856pts\", \"facecolor\": \"#1B9E77\", \"edgecolor\": \"none\", \"edgewidth\": 1.0, \"alpha\": 1, \"zorder\": 2, \"markerpath\": [[[0.0, 9.0], [2.3868279, 9.0], [4.676218837063681, 8.051703224294176], [6.3639610306789285, 6.3639610306789285], [8.051703224294176, 4.676218837063681], [9.0, 2.3868279], [9.0, 0.0], [9.0, -2.3868279], [8.051703224294176, -4.676218837063681], [6.3639610306789285, -6.3639610306789285], [4.676218837063681, -8.051703224294176], [2.3868279, -9.0], [0.0, -9.0], [-2.3868279, -9.0], [-4.676218837063681, -8.051703224294176], [-6.3639610306789285, -6.3639610306789285], [-8.051703224294176, -4.676218837063681], [-9.0, -2.3868279], [-9.0, 0.0], [-9.0, 2.3868279], [-8.051703224294176, 4.676218837063681], [-6.3639610306789285, 6.3639610306789285], [-4.676218837063681, 8.051703224294176], [-2.3868279, 9.0], [0.0, 9.0]], [\"M\", \"C\", \"C\", \"C\", \"C\", \"C\", \"C\", \"C\", \"C\", \"Z\"]]}, {\"data\": \"data02\", \"xindex\": 0, \"yindex\": 1, \"coordinates\": \"data\", \"id\": \"el133140092474728752pts\", \"facecolor\": \"#D95F02\", \"edgecolor\": \"none\", \"edgewidth\": 1.0, \"alpha\": 1, \"zorder\": 2, \"markerpath\": [[[0.0, 9.0], [2.3868279, 9.0], [4.676218837063681, 8.051703224294176], [6.3639610306789285, 6.3639610306789285], [8.051703224294176, 4.676218837063681], [9.0, 2.3868279], [9.0, 0.0], [9.0, -2.3868279], [8.051703224294176, -4.676218837063681], [6.3639610306789285, -6.3639610306789285], [4.676218837063681, -8.051703224294176], [2.3868279, -9.0], [0.0, -9.0], [-2.3868279, -9.0], [-4.676218837063681, -8.051703224294176], [-6.3639610306789285, -6.3639610306789285], [-8.051703224294176, -4.676218837063681], [-9.0, -2.3868279], [-9.0, 0.0], [-9.0, 2.3868279], [-8.051703224294176, 4.676218837063681], [-6.3639610306789285, 6.3639610306789285], [-4.676218837063681, 8.051703224294176], [-2.3868279, 9.0], [0.0, 9.0]], [\"M\", \"C\", \"C\", \"C\", \"C\", \"C\", \"C\", \"C\", \"C\", \"Z\"]]}, {\"data\": \"data03\", \"xindex\": 0, \"yindex\": 1, \"coordinates\": \"data\", \"id\": \"el133140092474728656pts\", \"facecolor\": \"#7570B3\", \"edgecolor\": \"none\", \"edgewidth\": 1.0, \"alpha\": 1, \"zorder\": 2, \"markerpath\": [[[0.0, 9.0], [2.3868279, 9.0], [4.676218837063681, 8.051703224294176], [6.3639610306789285, 6.3639610306789285], [8.051703224294176, 4.676218837063681], [9.0, 2.3868279], [9.0, 0.0], [9.0, -2.3868279], [8.051703224294176, -4.676218837063681], [6.3639610306789285, -6.3639610306789285], [4.676218837063681, -8.051703224294176], [2.3868279, -9.0], [0.0, -9.0], [-2.3868279, -9.0], [-4.676218837063681, -8.051703224294176], [-6.3639610306789285, -6.3639610306789285], [-8.051703224294176, -4.676218837063681], [-9.0, -2.3868279], [-9.0, 0.0], [-9.0, 2.3868279], [-8.051703224294176, 4.676218837063681], [-6.3639610306789285, 6.3639610306789285], [-4.676218837063681, 8.051703224294176], [-2.3868279, 9.0], [0.0, 9.0]], [\"M\", \"C\", \"C\", \"C\", \"C\", \"C\", \"C\", \"C\", \"C\", \"Z\"]]}, {\"data\": \"data04\", \"xindex\": 0, \"yindex\": 1, \"coordinates\": \"data\", \"id\": \"el133140092474730912pts\", \"facecolor\": \"#E7298A\", \"edgecolor\": \"none\", \"edgewidth\": 1.0, \"alpha\": 1, \"zorder\": 2, \"markerpath\": [[[0.0, 9.0], [2.3868279, 9.0], [4.676218837063681, 8.051703224294176], [6.3639610306789285, 6.3639610306789285], [8.051703224294176, 4.676218837063681], [9.0, 2.3868279], [9.0, 0.0], [9.0, -2.3868279], [8.051703224294176, -4.676218837063681], [6.3639610306789285, -6.3639610306789285], [4.676218837063681, -8.051703224294176], [2.3868279, -9.0], [0.0, -9.0], [-2.3868279, -9.0], [-4.676218837063681, -8.051703224294176], [-6.3639610306789285, -6.3639610306789285], [-8.051703224294176, -4.676218837063681], [-9.0, -2.3868279], [-9.0, 0.0], [-9.0, 2.3868279], [-8.051703224294176, 4.676218837063681], [-6.3639610306789285, 6.3639610306789285], [-4.676218837063681, 8.051703224294176], [-2.3868279, 9.0], [0.0, 9.0]], [\"M\", \"C\", \"C\", \"C\", \"C\", \"C\", \"C\", \"C\", \"C\", \"Z\"]]}, {\"data\": \"data05\", \"xindex\": 0, \"yindex\": 1, \"coordinates\": \"data\", \"id\": \"el133140092472365120pts\", \"facecolor\": \"#66A61E\", \"edgecolor\": \"none\", \"edgewidth\": 1.0, \"alpha\": 1, \"zorder\": 2, \"markerpath\": [[[0.0, 9.0], [2.3868279, 9.0], [4.676218837063681, 8.051703224294176], [6.3639610306789285, 6.3639610306789285], [8.051703224294176, 4.676218837063681], [9.0, 2.3868279], [9.0, 0.0], [9.0, -2.3868279], [8.051703224294176, -4.676218837063681], [6.3639610306789285, -6.3639610306789285], [4.676218837063681, -8.051703224294176], [2.3868279, -9.0], [0.0, -9.0], [-2.3868279, -9.0], [-4.676218837063681, -8.051703224294176], [-6.3639610306789285, -6.3639610306789285], [-8.051703224294176, -4.676218837063681], [-9.0, -2.3868279], [-9.0, 0.0], [-9.0, 2.3868279], [-8.051703224294176, 4.676218837063681], [-6.3639610306789285, 6.3639610306789285], [-4.676218837063681, 8.051703224294176], [-2.3868279, 9.0], [0.0, 9.0]], [\"M\", \"C\", \"C\", \"C\", \"C\", \"C\", \"C\", \"C\", \"C\", \"Z\"]]}, {\"data\": \"data06\", \"xindex\": 0, \"yindex\": 1, \"coordinates\": \"axes\", \"id\": \"el133140092472367136pts\", \"facecolor\": \"#1B9E77\", \"edgecolor\": \"none\", \"edgewidth\": 1.0, \"alpha\": 1, \"zorder\": 1000002.0, \"markerpath\": [[[0.0, 9.0], [2.3868279, 9.0], [4.676218837063681, 8.051703224294176], [6.3639610306789285, 6.3639610306789285], [8.051703224294176, 4.676218837063681], [9.0, 2.3868279], [9.0, 0.0], [9.0, -2.3868279], [8.051703224294176, -4.676218837063681], [6.3639610306789285, -6.3639610306789285], [4.676218837063681, -8.051703224294176], [2.3868279, -9.0], [0.0, -9.0], [-2.3868279, -9.0], [-4.676218837063681, -8.051703224294176], [-6.3639610306789285, -6.3639610306789285], [-8.051703224294176, -4.676218837063681], [-9.0, -2.3868279], [-9.0, 0.0], [-9.0, 2.3868279], [-8.051703224294176, 4.676218837063681], [-6.3639610306789285, 6.3639610306789285], [-4.676218837063681, 8.051703224294176], [-2.3868279, 9.0], [0.0, 9.0]], [\"M\", \"C\", \"C\", \"C\", \"C\", \"C\", \"C\", \"C\", \"C\", \"Z\"]]}, {\"data\": \"data06\", \"xindex\": 0, \"yindex\": 2, \"coordinates\": \"axes\", \"id\": \"el133140092472368624pts\", \"facecolor\": \"#D95F02\", \"edgecolor\": \"none\", \"edgewidth\": 1.0, \"alpha\": 1, \"zorder\": 1000002.0, \"markerpath\": [[[0.0, 9.0], [2.3868279, 9.0], [4.676218837063681, 8.051703224294176], [6.3639610306789285, 6.3639610306789285], [8.051703224294176, 4.676218837063681], [9.0, 2.3868279], [9.0, 0.0], [9.0, -2.3868279], [8.051703224294176, -4.676218837063681], [6.3639610306789285, -6.3639610306789285], [4.676218837063681, -8.051703224294176], [2.3868279, -9.0], [0.0, -9.0], [-2.3868279, -9.0], [-4.676218837063681, -8.051703224294176], [-6.3639610306789285, -6.3639610306789285], [-8.051703224294176, -4.676218837063681], [-9.0, -2.3868279], [-9.0, 0.0], [-9.0, 2.3868279], [-8.051703224294176, 4.676218837063681], [-6.3639610306789285, 6.3639610306789285], [-4.676218837063681, 8.051703224294176], [-2.3868279, 9.0], [0.0, 9.0]], [\"M\", \"C\", \"C\", \"C\", \"C\", \"C\", \"C\", \"C\", \"C\", \"Z\"]]}, {\"data\": \"data06\", \"xindex\": 0, \"yindex\": 3, \"coordinates\": \"axes\", \"id\": \"el133140092472439808pts\", \"facecolor\": \"#7570B3\", \"edgecolor\": \"none\", \"edgewidth\": 1.0, \"alpha\": 1, \"zorder\": 1000002.0, \"markerpath\": [[[0.0, 9.0], [2.3868279, 9.0], [4.676218837063681, 8.051703224294176], [6.3639610306789285, 6.3639610306789285], [8.051703224294176, 4.676218837063681], [9.0, 2.3868279], [9.0, 0.0], [9.0, -2.3868279], [8.051703224294176, -4.676218837063681], [6.3639610306789285, -6.3639610306789285], [4.676218837063681, -8.051703224294176], [2.3868279, -9.0], [0.0, -9.0], [-2.3868279, -9.0], [-4.676218837063681, -8.051703224294176], [-6.3639610306789285, -6.3639610306789285], [-8.051703224294176, -4.676218837063681], [-9.0, -2.3868279], [-9.0, 0.0], [-9.0, 2.3868279], [-8.051703224294176, 4.676218837063681], [-6.3639610306789285, 6.3639610306789285], [-4.676218837063681, 8.051703224294176], [-2.3868279, 9.0], [0.0, 9.0]], [\"M\", \"C\", \"C\", \"C\", \"C\", \"C\", \"C\", \"C\", \"C\", \"Z\"]]}, {\"data\": \"data06\", \"xindex\": 0, \"yindex\": 4, \"coordinates\": \"axes\", \"id\": \"el133140092472441296pts\", \"facecolor\": \"#E7298A\", \"edgecolor\": \"none\", \"edgewidth\": 1.0, \"alpha\": 1, \"zorder\": 1000002.0, \"markerpath\": [[[0.0, 9.0], [2.3868279, 9.0], [4.676218837063681, 8.051703224294176], [6.3639610306789285, 6.3639610306789285], [8.051703224294176, 4.676218837063681], [9.0, 2.3868279], [9.0, 0.0], [9.0, -2.3868279], [8.051703224294176, -4.676218837063681], [6.3639610306789285, -6.3639610306789285], [4.676218837063681, -8.051703224294176], [2.3868279, -9.0], [0.0, -9.0], [-2.3868279, -9.0], [-4.676218837063681, -8.051703224294176], [-6.3639610306789285, -6.3639610306789285], [-8.051703224294176, -4.676218837063681], [-9.0, -2.3868279], [-9.0, 0.0], [-9.0, 2.3868279], [-8.051703224294176, 4.676218837063681], [-6.3639610306789285, 6.3639610306789285], [-4.676218837063681, 8.051703224294176], [-2.3868279, 9.0], [0.0, 9.0]], [\"M\", \"C\", \"C\", \"C\", \"C\", \"C\", \"C\", \"C\", \"C\", \"Z\"]]}, {\"data\": \"data06\", \"xindex\": 0, \"yindex\": 5, \"coordinates\": \"axes\", \"id\": \"el133140092472442784pts\", \"facecolor\": \"#66A61E\", \"edgecolor\": \"none\", \"edgewidth\": 1.0, \"alpha\": 1, \"zorder\": 1000002.0, \"markerpath\": [[[0.0, 9.0], [2.3868279, 9.0], [4.676218837063681, 8.051703224294176], [6.3639610306789285, 6.3639610306789285], [8.051703224294176, 4.676218837063681], [9.0, 2.3868279], [9.0, 0.0], [9.0, -2.3868279], [8.051703224294176, -4.676218837063681], [6.3639610306789285, -6.3639610306789285], [4.676218837063681, -8.051703224294176], [2.3868279, -9.0], [0.0, -9.0], [-2.3868279, -9.0], [-4.676218837063681, -8.051703224294176], [-6.3639610306789285, -6.3639610306789285], [-8.051703224294176, -4.676218837063681], [-9.0, -2.3868279], [-9.0, 0.0], [-9.0, 2.3868279], [-8.051703224294176, 4.676218837063681], [-6.3639610306789285, 6.3639610306789285], [-4.676218837063681, 8.051703224294176], [-2.3868279, 9.0], [0.0, 9.0]], [\"M\", \"C\", \"C\", \"C\", \"C\", \"C\", \"C\", \"C\", \"C\", \"Z\"]]}], \"texts\": [{\"text\": \"Family, home, war\", \"position\": [0.8204685099846392, 0.21768457198920774], \"coordinates\": \"axes\", \"h_anchor\": \"start\", \"v_baseline\": \"auto\", \"rotation\": -0.0, \"fontsize\": 10.0, \"color\": \"#000000\", \"alpha\": 1, \"zorder\": 1000003.0, \"id\": \"el133140092472366464\"}, {\"text\": \"Police, killed, murders\", \"position\": [0.8204685099846392, 0.17169487368162864], \"coordinates\": \"axes\", \"h_anchor\": \"start\", \"v_baseline\": \"auto\", \"rotation\": -0.0, \"fontsize\": 10.0, \"color\": \"#000000\", \"alpha\": 1, \"zorder\": 1000003.0, \"id\": \"el133140092472367952\"}, {\"text\": \"Father, New York, brothers\", \"position\": [0.8204685099846392, 0.12570517537404954], \"coordinates\": \"axes\", \"h_anchor\": \"start\", \"v_baseline\": \"auto\", \"rotation\": -0.0, \"fontsize\": 10.0, \"color\": \"#000000\", \"alpha\": 1, \"zorder\": 1000003.0, \"id\": \"el133140092472439136\"}, {\"text\": \"Dance, singing, love\", \"position\": [0.8204685099846392, 0.07971547706647045], \"coordinates\": \"axes\", \"h_anchor\": \"start\", \"v_baseline\": \"auto\", \"rotation\": -0.0, \"fontsize\": 10.0, \"color\": \"#000000\", \"alpha\": 1, \"zorder\": 1000003.0, \"id\": \"el133140092472440624\"}, {\"text\": \"Killed, soldiers, captain\", \"position\": [0.8204685099846392, 0.03372577875889135], \"coordinates\": \"axes\", \"h_anchor\": \"start\", \"v_baseline\": \"auto\", \"rotation\": -0.0, \"fontsize\": 10.0, \"color\": \"#000000\", \"alpha\": 1, \"zorder\": 1000003.0, \"id\": \"el133140092472442112\"}], \"collections\": [], \"images\": [], \"sharex\": [], \"sharey\": []}], \"data\": {\"data01\": [[-0.03159215088404366, -0.45663791320402886], [-0.2509077886527682, -0.5748301691298103], [0.5523203950143739, 0.4906695451776374], [-0.0822211719046293, -0.5783371225442145], [-0.016415337094761003, -0.6356033887664564], [0.019707608446931178, -0.6360131358153785], [0.24381678674291052, -0.5041387862290508], [0.08011541418687525, -0.4798779364145004], [-0.1524708594907454, -0.3409184384980287], [-0.020101379300060913, -0.3570984271707861], [-0.22754763513663467, -0.45049222698404334], [0.1287536654528344, -0.6684899512527609], [0.07969434882060063, -0.3889371661029437], [-0.11274056497585859, -0.49926901658843537], [0.18267302179861425, -0.5787625309524596], [0.1563795065783695, -0.21300821701033482], [-0.18334149000822167, -0.5551280766277863], [-0.4533760890831642, -0.4451810757043979], [0.33498008050466554, -0.6458620573675335]], \"data02\": [[0.44206412093578173, -0.27869804841256207], [-0.13227195754649126, 0.5745384801472381], [0.05822957027256338, 0.256929533865531], [-0.43458221470796804, -0.29655933230579506], [0.07164980401234082, 0.13140842985205484], [-0.05321665416838313, 0.12337031922670556], [0.3548063612344581, 0.008230388449868098], [-0.02172250207705443, -0.04277898807708071], [0.3500865831297658, -0.33952163222346426], [0.5307508765954988, 0.1293499548695287], [-0.15353411958657529, -0.3013348801222534], [-0.28445673314938785, 0.27573355826080437], [0.21436568495015884, 0.21833323177235375], [0.31820603526510766, 0.08767290955547546], [-0.19657213727582853, 0.39573854896210925], [0.4928973738021543, -0.14112529581269717], [-0.0697835765252865, 0.5697755231183568], [-0.34789814258235424, -0.3258509720117311], [-0.0876522433589088, -0.20078309954756865], [0.5655872568440865, 0.3427492412662697], [0.6448729810407794, -0.1557495377370637], [-0.028860474947472948, 0.6542407465232705], [0.21979780091087622, 0.48012585338200914], [0.48195453604347716, 0.008013240019345533], [0.4758882198147056, -0.4358383186309247], [-0.551459865435424, 0.3351166974656385], [-0.5674182514385872, -0.35374010333970207], [0.06214704621807539, 0.6101371440051012], [0.3243862951002719, -0.45653595159186383], [-0.18645450426356014, 0.150485309679993], [0.1850753249911779, 0.5789634882504009], [0.6273622875630892, 0.3594269833423288]], \"data03\": [[0.011707339999011584, 0.4624485755347979], [0.6037432800571017, -0.3456991338989089], [-0.4301218469327288, 0.28528616015883534], [0.5177811917071925, -0.2536618659106638], [-0.34166783709147913, 0.6344444329502953], [0.4335012948307977, 0.14567214405204687], [0.34339799473545496, 0.24588751780959872], [0.3442345942883043, -0.13024993477969463], [-0.5962489128496042, 0.19029081995111047], [-0.3031164788430419, 0.47587091621770383], [-0.18141401157117412, 0.47664757937416014], [0.12564351913288888, 0.4177899987124327], [-0.3416411136605303, 0.036359351999961084], [0.6688477850887058, -0.08783283749852551], [-0.6012517387271848, -0.0418859194691775], [-0.34156011933518005, -0.06836233054197617], [-0.19967295689696812, 0.006401158105055958]], \"data04\": [[0.4184044202336738, 0.5850489899951163], [0.6698670628968674, 0.11896605280395367], [-0.20377837648670416, 0.5597732710930737], [0.4020451359180303, 0.49856493148445374], [0.6677334884276219, 0.2695002905230577], [-0.02234991385406897, 0.3387044447457824]], \"data05\": [[0.1842728439475597, -0.011715611328299623], [-0.2587368350262618, -0.26527516559786957], [0.058399024554247426, -0.04612821871658942], [-0.22775176430437058, 0.06867225264698684], [-0.3527560545316662, 0.12706104279951017], [-0.4842963450926421, 0.17299124057611814], [0.19843842072642093, -0.3892916828503908], [-0.5523024142568739, -0.22470452093169108], [-0.17157923142425296, 0.23225249097460976], [0.4157900555927239, 0.4066680050040376], [0.1607366978752424, -0.11945297477856227], [-0.3609008933642027, -0.48196142317941265], [-0.6622802065035606, -0.20503714364142692], [0.20869950117396832, 0.06431546201598057], [0.18357552763037874, 0.3029327061666986], [-0.45990623558854987, 0.007717409858540057], [-0.42084558901816005, 0.46273188035729895], [0.12067866743532428, 0.4813363821584589], [0.2751629686852379, -0.2942902403479915], [-0.3243379724030205, 0.3312099814646893], [-0.3394231160832892, -0.1511074564578018], [-0.5521585808438269, 0.028891781654075178], [-0.4660099693912445, -0.09927639405993571], [-0.5791042079012638, 0.2903462882632784], [-0.5810674876200954, 0.10583683075043433], [-0.20835174801118317, -0.05859486722959816]], \"data06\": [[0.7846262160778291, 0.22841550159430954, 0.18242580328673044, 0.13643610497915135, 0.09044640667157224, 0.04445670836399314], [0.7974270353302613, 0.22841550159430954, 0.18242580328673044, 0.13643610497915135, 0.09044640667157224, 0.04445670836399314], [0.8102278545826934, 0.22841550159430954, 0.18242580328673044, 0.13643610497915135, 0.09044640667157224, 0.04445670836399314]], \"data07\": [[0.7820660522273426, 0.015329899435859717], [0.9910394265232977, 0.015329899435859717], [0.9935995903737841, 0.015329899435859717], [0.9935995903737841, 0.021461859210203577], [0.9935995903737841, 0.24834437086092717], [0.9935995903737841, 0.254476330635271], [0.9910394265232977, 0.254476330635271], [0.7820660522273426, 0.254476330635271], [0.7795058883768562, 0.254476330635271], [0.7795058883768562, 0.24834437086092717], [0.7795058883768562, 0.021461859210203577], [0.7795058883768562, 0.015329899435859717], [0.7820660522273426, 0.015329899435859717]]}, \"id\": \"el133140092434031280\", \"plugins\": [{\"type\": \"reset\"}, {\"type\": \"zoom\", \"button\": true, \"enabled\": false}, {\"type\": \"boxzoom\", \"button\": true, \"enabled\": false}, {\"type\": \"htmltooltip\", \"id\": \"el133140092474729856pts\", \"labels\": [\"Schindler's List\", \"Lawrence of Arabia\", \"The Sound of Music\", \"The Bridge on the River Kwai\", \"Dr. Strangelove or: How I Learned to Stop Worrying and Love the Bomb\", \"Apocalypse Now\", \"The Lord of the Rings: The Return of the King\", \"Gladiator\", \"From Here to Eternity\", \"Saving Private Ryan\", \"Raiders of the Lost Ark\", \"Patton\", \"Jaws\", \"Platoon\", \"Dances with Wolves\", \"The Pianist\", \"All Quiet on the Western Front\", \"The African Queen\", \"Mutiny on the Bounty\"], \"targets\": null, \"hoffset\": 10, \"voffset\": 10}, {\"type\": \"toptoolbar\"}, {\"type\": \"htmltooltip\", \"id\": \"el133140092474728752pts\", \"labels\": [\"The Shawshank Redemption\", \"Raging Bull\", \"One Flew Over the Cuckoo's Nest\", \"The Wizard of Oz\", \"The Godfather: Part II\", \"On the Waterfront\", \"Forrest Gump\", \"E.T. the Extra-Terrestrial\", \"2001: A Space Odyssey\", \"12 Angry Men\", \"Unforgiven\", \"Rocky\", \"To Kill a Mockingbird\", \"The Best Years of Our Lives\", \"My Fair Lady\", \"Braveheart\", \"The Good, the Bad and the Ugly\", \"Butch Cassidy and the Sundance Kid\", \"The Deer Hunter\", \"City Lights\", \"Mr. Smith Goes to Washington\", \"Annie Hall\", \"Terms of Endearment\", \"Giant\", \"The Grapes of Wrath\", \"Shane\", \"The Green Mile\", \"Nashville\", \"Stagecoach\", \"A Clockwork Orange\", \"Wuthering Heights\", \"Yankee Doodle Dandy\"], \"targets\": null, \"hoffset\": 10, \"voffset\": 10}, {\"type\": \"toptoolbar\"}, {\"type\": \"htmltooltip\", \"id\": \"el133140092474728656pts\", \"labels\": [\"Citizen Kane\", \"Titanic\", \"Sunset Blvd.\", \"The Silence of the Lambs\", \"Singin' in the Rain\", \"Gandhi\", \"A Streetcar Named Desire\", \"Ben-Hur\", \"The Apartment\", \"Midnight Cowboy\", \"Rain Man\", \"Good Will Hunting\", \"Fargo\", \"Network\", \"American Graffiti\", \"Pulp Fiction\", \"North by Northwest\"], \"targets\": null, \"hoffset\": 10, \"voffset\": 10}, {\"type\": \"toptoolbar\"}, {\"type\": \"htmltooltip\", \"id\": \"el133140092474730912pts\", \"labels\": [\"It's a Wonderful Life\", \"The Philadelphia Story\", \"An American in Paris\", \"The King's Speech\", \"A Place in the Sun\", \"Tootsie\"], \"targets\": null, \"hoffset\": 10, \"voffset\": 10}, {\"type\": \"toptoolbar\"}, {\"type\": \"htmltooltip\", \"id\": \"el133140092472365120pts\", \"labels\": [\"The Godfather\", \"Casablanca\", \"Gone with the Wind\", \"Psycho\", \"Vertigo\", \"West Side Story\", \"Star Wars\", \"Chinatown\", \"Some Like It Hot\", \"Amadeus\", \"Doctor Zhivago\", \"The Treasure of the Sierra Madre\", \"High Noon\", \"Goodfellas\", \"The Exorcist\", \"The French Connection\", \"It Happened One Night\", \"Out of Africa\", \"Close Encounters of the Third Kind\", \"The Graduate\", \"The Maltese Falcon\", \"Taxi Driver\", \"Double Indemnity\", \"Rebel Without a Cause\", \"Rear Window\", \"The Third Man\"], \"targets\": null, \"hoffset\": 10, \"voffset\": 10}, {\"type\": \"toptoolbar\"}]});\n",
              "            })\n",
              "         });\n",
              "}\n",
              "</script>"
            ]
          },
          "metadata": {},
          "execution_count": 134
        }
      ],
      "metadata": {
        "colab": {
          "base_uri": "https://localhost:8080/",
          "height": 453
        },
        "id": "5WYjEEFwX5e4",
        "outputId": "83f7e521-e5b1-4b85-cb1f-06e47b8de04d"
      },
      "execution_count": null
    },
    {
      "cell_type": "markdown",
      "source": [
        "#Hierarchical document clustering"
      ],
      "metadata": {
        "id": "GWs-zRGTX5e4"
      }
    },
    {
      "cell_type": "code",
      "source": [
        "from scipy.cluster.hierarchy import ward, dendrogram\n",
        "\n",
        "linkage_matrix = ward(dist) #define the linkage_matrix using ward clustering pre-computed distances\n",
        "\n",
        "fig, ax = plt.subplots(figsize=(15, 20)) # set size\n",
        "ax = dendrogram(linkage_matrix, orientation=\"right\", labels=titles);\n",
        "\n",
        "plt.tick_params(\\\n",
        "    axis= 'x',          # changes apply to the x-axis\n",
        "    which='both',      # both major and minor ticks are affected\n",
        "    bottom='off',      # ticks along the bottom edge are off\n",
        "    top='off',         # ticks along the top edge are off\n",
        "    labelbottom='off')\n",
        "\n",
        "plt.tight_layout() #show plot with tight layout\n",
        "\n",
        "#uncomment below to save figure\n",
        "plt.savefig('ward_clusters.png', dpi=200) #save figure as ward_clusters"
      ],
      "outputs": [
        {
          "output_type": "display_data",
          "data": {
            "text/plain": [
              "<Figure size 1080x1440 with 1 Axes>"
            ],
            "image/png": "[encoded data removed]"
          },
          "metadata": {
            "needs_background": "light"
          }
        }
      ],
      "metadata": {
        "colab": {
          "base_uri": "https://localhost:8080/",
          "height": 1000
        },
        "id": "jswzcrhJX5e4",
        "outputId": "2e83f968-f278-4c2e-a9ef-a5d4fef3a298"
      },
      "execution_count": null
    }
  ]
}