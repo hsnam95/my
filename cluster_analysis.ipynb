{
  "nbformat": 4,
  "nbformat_minor": 0,
  "metadata": {
    "colab": {
      "provenance": [],
      "include_colab_link": true
    },
    "language_info": {
      "name": "python"
    },
    "kernelspec": {
      "name": "python3",
      "display_name": "Python 3"
    },
    "gpuClass": "standard"
  },
  "cells": [
    {
      "cell_type": "markdown",
      "metadata": {
        "id": "view-in-github",
        "colab_type": "text"
      },
      "source": [
        "<a href=\"https://colab.research.google.com/github/hsnam95/my/blob/main/cluster_analysis.ipynb\" target=\"_parent\"><img src=\"https://colab.research.google.com/assets/colab-badge.svg\" alt=\"Open In Colab\"/></a>"
      ]
    },
    {
      "cell_type": "markdown",
      "source": [
        "[home](http://www.brandonrose.org)"
      ],
      "metadata": {
        "id": "HorDuoXxX5en"
      }
    },
    {
      "cell_type": "markdown",
      "source": [
        "#Document Clustering with Python"
      ],
      "metadata": {
        "id": "CygnJNw2X5eq"
      }
    },
    {
      "cell_type": "markdown",
      "source": [
        "<img src='https://github.com/brandomr/document_cluster/blob/master/header_short.jpg?raw=1'>\n",
        "\n",
        "In this guide, I will explain how to cluster a set of documents using Python. My motivating example is to identify the latent structures within the synopses of the top 100 films of all time (per an IMDB list). See [the original post](http://www.brandonrose.org/top100) for a more detailed discussion on the example. This guide covers:\n",
        "\n",
        "<ul>\n",
        "<li> tokenizing and stemming each synopsis\n",
        "<li> transforming the corpus into vector space using [tf-idf](http://en.wikipedia.org/wiki/Tf%E2%80%93idf)\n",
        "<li> calculating cosine distance between each document as a measure of similarity\n",
        "<li> clustering the documents using the [k-means algorithm](http://en.wikipedia.org/wiki/K-means_clustering)\n",
        "<li> using [multidimensional scaling](http://en.wikipedia.org/wiki/Multidimensional_scaling) to reduce dimensionality within the corpus\n",
        "<li> plotting the clustering output using [matplotlib](http://matplotlib.org/) and [mpld3](http://mpld3.github.io/)\n",
        "<li> conducting a hierarchical clustering on the corpus using [Ward clustering](http://en.wikipedia.org/wiki/Ward%27s_method)\n",
        "<li> plotting a Ward dendrogram\n",
        "<li> topic modeling using [Latent Dirichlet Allocation (LDA)](http://en.wikipedia.org/wiki/Latent_Dirichlet_allocation)\n",
        "</ul>"
      ],
      "metadata": {
        "id": "R93dHU40X5er"
      }
    },
    {
      "cell_type": "markdown",
      "source": [
        "##Contents"
      ],
      "metadata": {
        "id": "IimIHGcjX5es"
      }
    },
    {
      "cell_type": "markdown",
      "source": [
        "<ul>\n",
        "<li>[Stopwords, stemming, and tokenization](#Stopwords,-stemming,-and-tokenizing)\n",
        "<li>[Tf-idf and document similarity](#Tf-idf-and-document-similarity)\n",
        "<li>[K-means clustering](#K-means-clustering)\n",
        "<li>[Multidimensional scaling](#Multidimensional-scaling)\n",
        "<li>[Visualizing document clusters](#Visualizing-document-clusters)\n",
        "<li>[Hierarchical document clustering](#Hierarchical-document-clustering)\n",
        "<li>[Latent Dirichlet Allocation (LDA)](#Latent-Dirichlet-Allocation)\n",
        "</ul>"
      ],
      "metadata": {
        "id": "6_eNlthUX5es"
      }
    },
    {
      "cell_type": "markdown",
      "source": [
        "But first, I import everything I am going to need up front"
      ],
      "metadata": {
        "id": "0uhNLrHCX5es"
      }
    },
    {
      "cell_type": "code",
      "source": [
        "import numpy as np\n",
        "import pandas as pd\n",
        "import nltk\n",
        "from bs4 import BeautifulSoup\n",
        "import re\n",
        "import os\n",
        "import codecs\n",
        "from sklearn import feature_extraction\n",
        "!pip install mpld3\n",
        "import mpld3"
      ],
      "outputs": [
        {
          "output_type": "stream",
          "name": "stdout",
          "text": [
            "Looking in indexes: https://pypi.org/simple, https://us-python.pkg.dev/colab-wheels/public/simple/\n",
            "Collecting mpld3\n",
            "  Downloading mpld3-0.5.9-py3-none-any.whl (201 kB)\n",
            "\u001b[2K     \u001b[90m━━━━━━━━━━━━━━━━━━━━━━━━━━━━━━━━━━━━━━━\u001b[0m \u001b[32m201.2/201.2 KB\u001b[0m \u001b[31m1.5 MB/s\u001b[0m eta \u001b[36m0:00:00\u001b[0m\n",
            "\u001b[?25hRequirement already satisfied: jinja2 in /usr/local/lib/python3.9/dist-packages (from mpld3) (3.1.2)\n",
            "Requirement already satisfied: matplotlib in /usr/local/lib/python3.9/dist-packages (from mpld3) (3.7.1)\n",
            "Requirement already satisfied: MarkupSafe>=2.0 in /usr/local/lib/python3.9/dist-packages (from jinja2->mpld3) (2.1.2)\n",
            "Requirement already satisfied: python-dateutil>=2.7 in /usr/local/lib/python3.9/dist-packages (from matplotlib->mpld3) (2.8.2)\n",
            "Requirement already satisfied: pyparsing>=2.3.1 in /usr/local/lib/python3.9/dist-packages (from matplotlib->mpld3) (3.0.9)\n",
            "Requirement already satisfied: numpy>=1.20 in /usr/local/lib/python3.9/dist-packages (from matplotlib->mpld3) (1.22.4)\n",
            "Requirement already satisfied: packaging>=20.0 in /usr/local/lib/python3.9/dist-packages (from matplotlib->mpld3) (23.0)\n",
            "Requirement already satisfied: kiwisolver>=1.0.1 in /usr/local/lib/python3.9/dist-packages (from matplotlib->mpld3) (1.4.4)\n",
            "Requirement already satisfied: fonttools>=4.22.0 in /usr/local/lib/python3.9/dist-packages (from matplotlib->mpld3) (4.39.2)\n",
            "Requirement already satisfied: pillow>=6.2.0 in /usr/local/lib/python3.9/dist-packages (from matplotlib->mpld3) (8.4.0)\n",
            "Requirement already satisfied: contourpy>=1.0.1 in /usr/local/lib/python3.9/dist-packages (from matplotlib->mpld3) (1.0.7)\n",
            "Requirement already satisfied: importlib-resources>=3.2.0 in /usr/local/lib/python3.9/dist-packages (from matplotlib->mpld3) (5.12.0)\n",
            "Requirement already satisfied: cycler>=0.10 in /usr/local/lib/python3.9/dist-packages (from matplotlib->mpld3) (0.11.0)\n",
            "Requirement already satisfied: zipp>=3.1.0 in /usr/local/lib/python3.9/dist-packages (from importlib-resources>=3.2.0->matplotlib->mpld3) (3.15.0)\n",
            "Requirement already satisfied: six>=1.5 in /usr/local/lib/python3.9/dist-packages (from python-dateutil>=2.7->matplotlib->mpld3) (1.16.0)\n",
            "Installing collected packages: mpld3\n",
            "Successfully installed mpld3-0.5.9\n"
          ]
        }
      ],
      "metadata": {
        "colab": {
          "base_uri": "https://localhost:8080/"
        },
        "id": "mJXJ1Sk2X5et",
        "outputId": "e4a17cde-1164-4354-9d04-156c52f80cbd"
      },
      "execution_count": 2
    },
    {
      "cell_type": "markdown",
      "source": [
        "#Stopwords, stemming, and tokenizing"
      ],
      "metadata": {
        "id": "mVpQBp8gX5eu"
      }
    },
    {
      "cell_type": "code",
      "source": [
        "#import three lists: titles, links and wikipedia synopses\n",
        "titles = open('title_list.txt').read().split('\\n')\n",
        "#ensures that only the first 100 are read in\n",
        "titles = titles[:100]\n",
        "\n",
        "links = open('link_list_imdb.txt').read().split('\\n')\n",
        "links = links[:100]\n",
        "\n",
        "synopses_wiki = open('synopses_list_wiki.txt').read().split('\\n BREAKS HERE')\n",
        "synopses_wiki = synopses_wiki[:100]\n",
        "\n",
        "synopses_clean_wiki = []\n",
        "for text in synopses_wiki:\n",
        "    text = BeautifulSoup(text, 'html.parser').getText()\n",
        "    #strips html formatting and converts to unicode\n",
        "    synopses_clean_wiki.append(text)\n",
        "\n",
        "synopses_wiki = synopses_clean_wiki\n",
        "    \n",
        "    \n",
        "genres = open('genres_list.txt').read().split('\\n')\n",
        "genres = genres[:100]\n",
        "\n",
        "print(str(len(titles)) + ' titles')\n",
        "print(str(len(links)) + ' links')\n",
        "print(str(len(synopses_wiki)) + ' synopses')\n",
        "print(str(len(genres)) + ' genres')"
      ],
      "outputs": [
        {
          "output_type": "stream",
          "name": "stdout",
          "text": [
            "100 titles\n",
            "100 links\n",
            "100 synopses\n",
            "100 genres\n"
          ]
        }
      ],
      "metadata": {
        "colab": {
          "base_uri": "https://localhost:8080/"
        },
        "id": "YhI2gxBTX5eu",
        "outputId": "2889a9ae-be56-4bd7-ee3b-121863f0bca9"
      },
      "execution_count": 5
    },
    {
      "cell_type": "code",
      "source": [
        "synopses_imdb = open('synopses_list_imdb.txt').read().split('\\n BREAKS HERE')\n",
        "synopses_imdb = synopses_imdb[:100]\n",
        "\n",
        "synopses_clean_imdb = []\n",
        "\n",
        "for text in synopses_imdb:\n",
        "    text = BeautifulSoup(text, 'html.parser').getText()\n",
        "    #strips html formatting and converts to unicode\n",
        "    synopses_clean_imdb.append(text)\n",
        "\n",
        "synopses_imdb = synopses_clean_imdb"
      ],
      "outputs": [],
      "metadata": {
        "id": "JIe8zfjOX5ev"
      },
      "execution_count": 6
    },
    {
      "cell_type": "code",
      "source": [
        "synopses = []\n",
        "\n",
        "for i in range(len(synopses_wiki)):\n",
        "    item = synopses_wiki[i] + synopses_imdb[i]\n",
        "    synopses.append(item)"
      ],
      "outputs": [],
      "metadata": {
        "id": "qBxlpX5WX5ew"
      },
      "execution_count": 7
    },
    {
      "cell_type": "code",
      "source": [
        "# generates index for each item in the corpora (in this case it's just rank) and I'll use this for scoring later\n",
        "ranks = []\n",
        "\n",
        "for i in range(0,len(titles)):\n",
        "    ranks.append(i)"
      ],
      "outputs": [],
      "metadata": {
        "id": "rKDTJcq3X5ew"
      },
      "execution_count": 8
    },
    {
      "cell_type": "markdown",
      "source": [
        "This section is focused on defining some functions to manipulate the synopses. First, I load [NLTK's](http://www.nltk.org/) list of English stop words. [Stop words](http://en.wikipedia.org/wiki/Stop_words) are words like \"a\", \"the\", or \"in\" which don't convey significant meaning. I'm sure there are much better explanations of this out there."
      ],
      "metadata": {
        "id": "YKzNJ_RjX5ew"
      }
    },
    {
      "cell_type": "code",
      "source": [
        "# load nltk's English stopwords as variable called 'stopwords'\n",
        "nltk.download('stopwords')\n",
        "stopwords = nltk.corpus.stopwords.words('english')"
      ],
      "outputs": [
        {
          "output_type": "stream",
          "name": "stderr",
          "text": [
            "[nltk_data] Downloading package stopwords to /root/nltk_data...\n",
            "[nltk_data]   Unzipping corpora/stopwords.zip.\n"
          ]
        }
      ],
      "metadata": {
        "colab": {
          "base_uri": "https://localhost:8080/"
        },
        "id": "T8spOHk_X5ex",
        "outputId": "5dec6f95-d658-47a2-c76c-1b00f2378f0e"
      },
      "execution_count": 10
    },
    {
      "cell_type": "markdown",
      "source": [
        "Next I import the [Snowball Stemmer](http://snowball.tartarus.org/) which is actually part of NLTK. [Stemming](http://en.wikipedia.org/wiki/Stemming) is just the process of breaking a word down into its root."
      ],
      "metadata": {
        "id": "P8y82RPSX5ex"
      }
    },
    {
      "cell_type": "code",
      "source": [
        "# load nltk's SnowballStemmer as variabled 'stemmer'\n",
        "from nltk.stem.snowball import SnowballStemmer\n",
        "stemmer = SnowballStemmer(\"english\")"
      ],
      "outputs": [],
      "metadata": {
        "id": "43JPzCDKX5ex"
      },
      "execution_count": 11
    },
    {
      "cell_type": "markdown",
      "source": [
        "\n",
        "Below I define two functions:\n",
        "\n",
        "<ul>\n",
        "<li> *tokenize_and_stem*: tokenizes (splits the synopsis into a list of its respective words (or tokens) and also stems each token <li> *tokenize_only*: tokenizes the synopsis only\n",
        "</ul>\n",
        "\n",
        "I use both these functions to create a dictionary which becomes important in case I want to use stems for an algorithm, but later convert stems back to their full words for presentation purposes. Guess what, I do want to do that!\n",
        "\n"
      ],
      "metadata": {
        "id": "N-nFhvhvX5ey"
      }
    },
    {
      "cell_type": "code",
      "source": [
        "# here I define a tokenizer and stemmer which returns the set of stems in the text that it is passed\n",
        "\n",
        "def tokenize_and_stem(text):\n",
        "    # first tokenize by sentence, then by word to ensure that punctuation is caught as it's own token\n",
        "    tokens = [word for sent in nltk.sent_tokenize(text) for word in nltk.word_tokenize(sent)]\n",
        "    filtered_tokens = []\n",
        "    # filter out any tokens not containing letters (e.g., numeric tokens, raw punctuation)\n",
        "    for token in tokens:\n",
        "        if re.search('[a-zA-Z]', token):\n",
        "            filtered_tokens.append(token)\n",
        "    stems = [stemmer.stem(t) for t in filtered_tokens]\n",
        "    return stems\n",
        "\n",
        "\n",
        "def tokenize_only(text):\n",
        "    # first tokenize by sentence, then by word to ensure that punctuation is caught as it's own token\n",
        "    tokens = [word.lower() for sent in nltk.sent_tokenize(text) for word in nltk.word_tokenize(sent)]\n",
        "    filtered_tokens = []\n",
        "    # filter out any tokens not containing letters (e.g., numeric tokens, raw punctuation)\n",
        "    for token in tokens:\n",
        "        if re.search('[a-zA-Z]', token):\n",
        "            filtered_tokens.append(token)\n",
        "    return filtered_tokens"
      ],
      "outputs": [],
      "metadata": {
        "id": "litqG7S-X5ey"
      },
      "execution_count": 12
    },
    {
      "cell_type": "markdown",
      "source": [
        "Below I use my stemming/tokenizing and tokenizing functions to iterate over the list of synopses to create two vocabularies: one stemmed and one only tokenized. "
      ],
      "metadata": {
        "id": "NYUHHBvTX5ey"
      }
    },
    {
      "cell_type": "code",
      "source": [
        "nltk.download('punkt')\n",
        "\n",
        "totalvocab_stemmed = []\n",
        "totalvocab_tokenized = []\n",
        "for i in synopses:\n",
        "    allwords_stemmed = tokenize_and_stem(i)\n",
        "    totalvocab_stemmed.extend(allwords_stemmed)\n",
        "    \n",
        "    allwords_tokenized = tokenize_only(i)\n",
        "    totalvocab_tokenized.extend(allwords_tokenized)"
      ],
      "outputs": [
        {
          "output_type": "stream",
          "name": "stderr",
          "text": [
            "[nltk_data] Downloading package punkt to /root/nltk_data...\n",
            "[nltk_data]   Unzipping tokenizers/punkt.zip.\n"
          ]
        }
      ],
      "metadata": {
        "colab": {
          "base_uri": "https://localhost:8080/"
        },
        "id": "zeaKiYRRX5ey",
        "outputId": "ac0c9faa-2ffd-4eb2-af10-36e8a77651e4"
      },
      "execution_count": 14
    },
    {
      "cell_type": "markdown",
      "source": [
        "Using these two lists, I create a pandas DataFrame with the stemmed vocabulary as the index and the tokenized words as the column. The benefit of this is it provides an efficient way to look up a stem and return a full token. The downside here is that stems to tokens are one to many: the stem 'run' could be associated with 'ran', 'runs', 'running', etc. For my purposes this is fine--I'm perfectly happy returning the first token associated with the stem I need to look up."
      ],
      "metadata": {
        "id": "tyAP7qhvX5ez"
      }
    },
    {
      "cell_type": "code",
      "source": [
        "vocab_frame = pd.DataFrame({'words': totalvocab_tokenized}, index = totalvocab_stemmed)"
      ],
      "outputs": [],
      "metadata": {
        "id": "eUZOYgDOX5ez"
      },
      "execution_count": 15
    },
    {
      "cell_type": "markdown",
      "source": [
        "##Tf-idf and document similarity"
      ],
      "metadata": {
        "id": "nEoYbgnMX5ez"
      }
    },
    {
      "cell_type": "markdown",
      "source": [
        "<img src='http://www.jiem.org/index.php/jiem/article/viewFile/293/252/2402' align='right' style=\"margin-left:10px\">\n",
        "\n",
        "Here, I define term frequency-inverse document frequency (tf-idf) vectorizer parameters and then convert the *synopses* list into a tf-idf matrix. \n",
        "\n",
        "To get a Tf-idf matrix, first count word occurrences by document. This is transformed into a document-term matrix (dtm). This is also just called a term frequency matrix. An example of a dtm is here at right.\n",
        "\n",
        "Then apply the term frequency-inverse document frequency weighting: words that occur frequently within a document but not frequently within the corpus receive a higher weighting as these words are assumed to contain more meaning in relation to the document.\n",
        "\n",
        "A couple things to note about the parameters I define below:\n",
        "\n",
        "<ul>\n",
        "<li> max_df: this is the maximum frequency within the documents a given feature can have to be used in the tfi-idf matrix. If the term is in greater than 80% of the documents it probably cares little meanining (in the context of film synopses)\n",
        "<li> min_idf: this could be an integer (e.g. 5) and the term would have to be in at least 5 of the documents to be considered. Here I pass 0.2; the term must be in at least 20% of the document. I found that if I allowed a lower min_df I ended up basing clustering on names--for example \"Michael\" or \"Tom\" are names found in several of the movies and the synopses use these names frequently, but the names carry no real meaning.\n",
        "<li> ngram_range: this just means I'll look at unigrams, bigrams and trigrams. See [n-grams](http://en.wikipedia.org/wiki/N-gram)\n",
        "</ul>"
      ],
      "metadata": {
        "id": "KKTGYmjPX5ez"
      }
    },
    {
      "cell_type": "code",
      "source": [
        "from sklearn.feature_extraction.text import TfidfVectorizer\n",
        "\n",
        "tfidf_vectorizer = TfidfVectorizer(max_df=0.8, max_features=200000,\n",
        "                                 min_df=0.2, stop_words='english',\n",
        "                                 use_idf=True, tokenizer=tokenize_and_stem, ngram_range=(1,3))\n",
        "\n",
        "%time tfidf_matrix = tfidf_vectorizer.fit_transform(synopses)\n",
        "\n",
        "print(tfidf_matrix.shape)"
      ],
      "outputs": [
        {
          "output_type": "stream",
          "name": "stderr",
          "text": [
            "/usr/local/lib/python3.9/dist-packages/sklearn/feature_extraction/text.py:528: UserWarning: The parameter 'token_pattern' will not be used since 'tokenizer' is not None'\n",
            "  warnings.warn(\n",
            "/usr/local/lib/python3.9/dist-packages/sklearn/feature_extraction/text.py:409: UserWarning: Your stop_words may be inconsistent with your preprocessing. Tokenizing the stop words generated tokens ['abov', 'afterward', 'alon', 'alreadi', 'alway', 'ani', 'anoth', 'anyon', 'anyth', 'anywher', 'becam', 'becaus', 'becom', 'befor', 'besid', 'cri', 'describ', 'dure', 'els', 'elsewher', 'empti', 'everi', 'everyon', 'everyth', 'everywher', 'fifti', 'forti', 'henc', 'hereaft', 'herebi', 'howev', 'hundr', 'inde', 'mani', 'meanwhil', 'moreov', 'nobodi', 'noon', 'noth', 'nowher', 'onc', 'onli', 'otherwis', 'ourselv', 'perhap', 'pleas', 'sever', 'sinc', 'sincer', 'sixti', 'someon', 'someth', 'sometim', 'somewher', 'themselv', 'thenc', 'thereaft', 'therebi', 'therefor', 'togeth', 'twelv', 'twenti', 'veri', 'whatev', 'whenc', 'whenev', 'wherea', 'whereaft', 'wherebi', 'wherev', 'whi', 'yourselv'] not in stop_words.\n",
            "  warnings.warn(\n"
          ]
        },
        {
          "output_type": "stream",
          "name": "stdout",
          "text": [
            "CPU times: user 7.38 s, sys: 67.7 ms, total: 7.45 s\n",
            "Wall time: 7.5 s\n",
            "(100, 563)\n"
          ]
        }
      ],
      "metadata": {
        "colab": {
          "base_uri": "https://localhost:8080/"
        },
        "id": "WbkJgpbXX5e0",
        "outputId": "f94fc75c-47a5-4332-c7a3-ca03187fdf95"
      },
      "execution_count": 16
    },
    {
      "cell_type": "code",
      "source": [
        "terms = tfidf_vectorizer.get_feature_names_out()"
      ],
      "outputs": [],
      "metadata": {
        "id": "pzybU1vpX5e0"
      },
      "execution_count": 18
    },
    {
      "cell_type": "code",
      "source": [
        "from sklearn.metrics.pairwise import cosine_similarity\n",
        "dist = 1 - cosine_similarity(tfidf_matrix)"
      ],
      "outputs": [],
      "metadata": {
        "id": "AAkUj3bRX5e0"
      },
      "execution_count": 19
    },
    {
      "cell_type": "markdown",
      "source": [
        "#K-means clustering"
      ],
      "metadata": {
        "id": "vk7-2hoEX5e0"
      }
    },
    {
      "cell_type": "markdown",
      "source": [
        "Now onto the fun part. Using the tf-idf matrix, you can run a slew of clustering algorithms to better understand the hidden structure within the synopses. I first chose [k-means](http://en.wikipedia.org/wiki/K-means_clustering). K-means initializes with a pre-determined number of clusters (I chose 5). Each observation is assigned to a cluster (cluster assignment) so as to minimize the within cluster sum of squares. Next, the mean of the clustered observations is calculated and used as the new cluster centroid. Then, observations are reassigned to clusters and  centroids recalculated in an iterative process until the algorithm reaches convergence.\n",
        "\n",
        "I found it took several runs for the algorithm to converge a global optimum as k-means is susceptible to reaching local optima. "
      ],
      "metadata": {
        "id": "r6gOxQWnX5e0"
      }
    },
    {
      "cell_type": "code",
      "source": [
        "!pip uninstall scikit-learn\n",
        "!pip install sklearn\n",
        "\n",
        "from sklearn.cluster import KMeans\n",
        "\n",
        "num_clusters = 5\n",
        "\n",
        "km = KMeans(n_clusters=num_clusters)\n",
        "\n",
        "%time km.fit(tfidf_matrix)\n",
        "\n",
        "clusters = km.labels_.tolist()"
      ],
      "outputs": [
        {
          "output_type": "stream",
          "name": "stdout",
          "text": [
            "\u001b[33mWARNING: Skipping scikit-learn as it is not installed.\u001b[0m\u001b[33m\n",
            "\u001b[0mLooking in indexes: https://pypi.org/simple, https://us-python.pkg.dev/colab-wheels/public/simple/\n",
            "Requirement already satisfied: sklearn in /usr/local/lib/python3.9/dist-packages (0.0.post1)\n",
            "CPU times: user 200 ms, sys: 126 ms, total: 326 ms\n",
            "Wall time: 176 ms\n"
          ]
        },
        {
          "output_type": "stream",
          "name": "stderr",
          "text": [
            "/usr/local/lib/python3.9/dist-packages/sklearn/cluster/_kmeans.py:870: FutureWarning: The default value of `n_init` will change from 10 to 'auto' in 1.4. Set the value of `n_init` explicitly to suppress the warning\n"
          ]
        }
      ],
      "metadata": {
        "colab": {
          "base_uri": "https://localhost:8080/"
        },
        "id": "NX2WP0w8X5e1",
        "outputId": "0849cdfa-495b-4edb-ede0-32f4c1b402de"
      },
      "execution_count": 35
    },
    {
      "cell_type": "code",
      "source": [
        "import joblib\n",
        "\n",
        "joblib.dump(km,  'doc_cluster.pkl')\n",
        "km = joblib.load('doc_cluster.pkl')\n",
        "clusters = km.labels_.tolist()"
      ],
      "outputs": [],
      "metadata": {
        "id": "3G73DX6dX5e1"
      },
      "execution_count": 39
    },
    {
      "cell_type": "code",
      "source": [
        "import pandas as pd\n",
        "\n",
        "films = { 'title': titles, 'rank': ranks, 'synopsis': synopses, 'cluster': clusters, 'genre': genres }\n",
        "\n",
        "frame = pd.DataFrame(films, index = [clusters] , columns = ['rank', 'title', 'cluster', 'genre'])"
      ],
      "outputs": [],
      "metadata": {
        "id": "AMBbBODFX5e1"
      },
      "execution_count": 40
    },
    {
      "cell_type": "code",
      "source": [
        "frame['cluster'].value_counts()"
      ],
      "outputs": [
        {
          "output_type": "execute_result",
          "data": {
            "text/plain": [
              "0    46\n",
              "3    26\n",
              "1    15\n",
              "4     7\n",
              "2     6\n",
              "Name: cluster, dtype: int64"
            ]
          },
          "metadata": {},
          "execution_count": 41
        }
      ],
      "metadata": {
        "colab": {
          "base_uri": "https://localhost:8080/"
        },
        "id": "pwX6bp63X5e1",
        "outputId": "e92c6497-c0a8-4bae-ac97-73b7be2ec491"
      },
      "execution_count": 41
    },
    {
      "cell_type": "code",
      "source": [
        "grouped = frame['rank'].groupby(frame['cluster'])\n",
        "\n",
        "grouped.mean()"
      ],
      "outputs": [
        {
          "output_type": "execute_result",
          "data": {
            "text/plain": [
              "cluster\n",
              "0    50.195652\n",
              "1    46.600000\n",
              "2    62.166667\n",
              "3    43.153846\n",
              "4    63.857143\n",
              "Name: rank, dtype: float64"
            ]
          },
          "metadata": {},
          "execution_count": 42
        }
      ],
      "metadata": {
        "colab": {
          "base_uri": "https://localhost:8080/"
        },
        "id": "nK8VziiXX5e1",
        "outputId": "01919dae-fd63-4643-97ff-4707618176d4"
      },
      "execution_count": 42
    },
    {
      "cell_type": "code",
      "source": [],
      "metadata": {
        "id": "qGNUC-aV-yYm"
      },
      "execution_count": null,
      "outputs": []
    },
    {
      "cell_type": "code",
      "source": [
        "from __future__ import print_function\n",
        "\n",
        "print(\"Top terms per cluster:\")\n",
        "print()\n",
        "order_centroids = km.cluster_centers_.argsort()[:, ::-1]\n",
        "for i in range(num_clusters):\n",
        "    print(\"Cluster %d words:\" % i, end='')\n",
        "    for ind in order_centroids[i, :6]:\n",
        "        print(' %s' % vocab_frame.loc[terms[ind].split(' ')].values.tolist()[0][0].encode('utf-8', 'ignore'), end=',')\n",
        "    print()\n",
        "    print()\n",
        "    print(\"Cluster %d titles:\" % i, end='')\n",
        "    for title in frame.loc[i]['title'].values.tolist():\n",
        "        print(' %s,' % title, end='')\n",
        "    print()\n",
        "    print()"
      ],
      "outputs": [
        {
          "output_type": "stream",
          "name": "stdout",
          "text": [
            "Top terms per cluster:\n",
            "\n",
            "Cluster 0 words: b'police', b'killed', b'car', b'friends', b'says', b\"n't\",\n",
            "\n",
            "Cluster 0 titles: The Shawshank Redemption, Casablanca, One Flew Over the Cuckoo's Nest, The Wizard of Oz, Psycho, Sunset Blvd., Vertigo, On the Waterfront, West Side Story, Star Wars, E.T. the Extra-Terrestrial, 2001: A Space Odyssey, The Silence of the Lambs, Chinatown, Singin' in the Rain, Some Like It Hot, 12 Angry Men, Amadeus, Gandhi, Unforgiven, Raiders of the Lost Ark, Rocky, To Kill a Mockingbird, The Good, the Bad and the Ugly, The Apartment, The Exorcist, The Deer Hunter, The French Connection, Midnight Cowboy, Mr. Smith Goes to Washington, Annie Hall, Good Will Hunting, Fargo, Shane, Close Encounters of the Third Kind, The Graduate, American Graffiti, Pulp Fiction, The Maltese Falcon, Taxi Driver, Wuthering Heights, Double Indemnity, Rebel Without a Cause, Rear Window, The Third Man, North by Northwest,\n",
            "\n",
            "Cluster 1 words: b'soldiers', b'army', b'general', b'killed', b'battles', b'war',\n",
            "\n",
            "Cluster 1 titles: Lawrence of Arabia, The Bridge on the River Kwai, Dr. Strangelove or: How I Learned to Stop Worrying and Love the Bomb, The Lord of the Rings: The Return of the King, Gladiator, From Here to Eternity, Saving Private Ryan, Patton, Braveheart, Platoon, Dances with Wolves, All Quiet on the Western Front, City Lights, The Green Mile, Network,\n",
            "\n",
            "Cluster 2 words: b'george', b'marries', b'family', b'perform', b'john', b'james',\n",
            "\n",
            "Cluster 2 titles: It's a Wonderful Life, The Philadelphia Story, The King's Speech, A Place in the Sun, Tootsie, Yankee Doodle Dandy,\n",
            "\n",
            "Cluster 3 words: b'family', b'war', b'new', b'father', b'marries', b'home',\n",
            "\n",
            "Cluster 3 titles: The Godfather, Schindler's List, Raging Bull, Gone with the Wind, Citizen Kane, Titanic, The Godfather: Part II, Forrest Gump, A Streetcar Named Desire, An American in Paris, The Best Years of Our Lives, My Fair Lady, Ben-Hur, Doctor Zhivago, Butch Cassidy and the Sundance Kid, The Treasure of the Sierra Madre, High Noon, The Pianist, Goodfellas, It Happened One Night, Rain Man, Out of Africa, Terms of Endearment, Giant, The Grapes of Wrath, Stagecoach,\n",
            "\n",
            "Cluster 4 words: b'captain', b'mr.', b'water', b'singing', b'attempt', b'command',\n",
            "\n",
            "Cluster 4 titles: The Sound of Music, Apocalypse Now, Jaws, Nashville, The African Queen, Mutiny on the Bounty, A Clockwork Orange,\n",
            "\n"
          ]
        }
      ],
      "metadata": {
        "colab": {
          "base_uri": "https://localhost:8080/"
        },
        "id": "5H8-oxTjX5e1",
        "outputId": "f9983336-f699-4dd9-821a-59cac1acc13b"
      },
      "execution_count": 65
    },
    {
      "cell_type": "code",
      "source": [
        "#This is purely to help export tables to html and to correct for my 0 start rank (so that Godfather is 1, not 0)\n",
        "frame['Rank'] = frame['rank'] + 1\n",
        "frame['Title'] = frame['title']"
      ],
      "outputs": [],
      "metadata": {
        "id": "Z47w7CMXX5e2"
      },
      "execution_count": 66
    },
    {
      "cell_type": "code",
      "source": [
        "#export tables to HTML\n",
        "print(frame[['Rank', 'Title']].loc[frame['cluster'] == 1].to_html(index=False))"
      ],
      "outputs": [
        {
          "output_type": "stream",
          "name": "stdout",
          "text": [
            "<table border=\"1\" class=\"dataframe\">\n",
            "  <thead>\n",
            "    <tr style=\"text-align: right;\">\n",
            "      <th>Rank</th>\n",
            "      <th>Title</th>\n",
            "    </tr>\n",
            "  </thead>\n",
            "  <tbody>\n",
            "    <tr>\n",
            "      <td>11</td>\n",
            "      <td>Lawrence of Arabia</td>\n",
            "    </tr>\n",
            "    <tr>\n",
            "      <td>25</td>\n",
            "      <td>The Bridge on the River Kwai</td>\n",
            "    </tr>\n",
            "    <tr>\n",
            "      <td>30</td>\n",
            "      <td>Dr. Strangelove or: How I Learned to Stop Worrying and Love the Bomb</td>\n",
            "    </tr>\n",
            "    <tr>\n",
            "      <td>34</td>\n",
            "      <td>The Lord of the Rings: The Return of the King</td>\n",
            "    </tr>\n",
            "    <tr>\n",
            "      <td>35</td>\n",
            "      <td>Gladiator</td>\n",
            "    </tr>\n",
            "    <tr>\n",
            "      <td>36</td>\n",
            "      <td>From Here to Eternity</td>\n",
            "    </tr>\n",
            "    <tr>\n",
            "      <td>37</td>\n",
            "      <td>Saving Private Ryan</td>\n",
            "    </tr>\n",
            "    <tr>\n",
            "      <td>49</td>\n",
            "      <td>Patton</td>\n",
            "    </tr>\n",
            "    <tr>\n",
            "      <td>51</td>\n",
            "      <td>Braveheart</td>\n",
            "    </tr>\n",
            "    <tr>\n",
            "      <td>56</td>\n",
            "      <td>Platoon</td>\n",
            "    </tr>\n",
            "    <tr>\n",
            "      <td>58</td>\n",
            "      <td>Dances with Wolves</td>\n",
            "    </tr>\n",
            "    <tr>\n",
            "      <td>63</td>\n",
            "      <td>All Quiet on the Western Front</td>\n",
            "    </tr>\n",
            "    <tr>\n",
            "      <td>65</td>\n",
            "      <td>City Lights</td>\n",
            "    </tr>\n",
            "    <tr>\n",
            "      <td>81</td>\n",
            "      <td>The Green Mile</td>\n",
            "    </tr>\n",
            "    <tr>\n",
            "      <td>83</td>\n",
            "      <td>Network</td>\n",
            "    </tr>\n",
            "  </tbody>\n",
            "</table>\n"
          ]
        }
      ],
      "metadata": {
        "colab": {
          "base_uri": "https://localhost:8080/"
        },
        "id": "j81_IbcdX5e2",
        "outputId": "d43ee7f5-bede-4bda-e22d-3b22c74eed2f"
      },
      "execution_count": 67
    },
    {
      "cell_type": "markdown",
      "source": [
        "#Multidimensional scaling"
      ],
      "metadata": {
        "id": "fB_MfatuX5e2"
      }
    },
    {
      "cell_type": "code",
      "source": [
        "import os  # for os.path.basename\n",
        "\n",
        "import matplotlib.pyplot as plt\n",
        "import matplotlib as mpl\n",
        "\n",
        "from sklearn.manifold import MDS\n",
        "\n",
        "MDS()\n",
        "\n",
        "# two components as we're plotting points in a two-dimensional plane\n",
        "# \"precomputed\" because we provide a distance matrix\n",
        "# we will also specify `random_state` so the plot is reproducible.\n",
        "mds = MDS(n_components=2, dissimilarity=\"precomputed\", random_state=1)\n",
        "\n",
        "pos = mds.fit_transform(dist)  # shape (n_components, n_samples)\n",
        "\n",
        "xs, ys = pos[:, 0], pos[:, 1]"
      ],
      "outputs": [
        {
          "output_type": "stream",
          "name": "stderr",
          "text": [
            "/usr/local/lib/python3.9/dist-packages/sklearn/manifold/_mds.py:299: FutureWarning: The default value of `normalized_stress` will change to `'auto'` in version 1.4. To suppress this warning, manually set the value of `normalized_stress`.\n"
          ]
        }
      ],
      "metadata": {
        "colab": {
          "base_uri": "https://localhost:8080/"
        },
        "id": "DmSj4dOTX5e2",
        "outputId": "d77407e2-9ae6-4562-f81a-720830411fb5"
      },
      "execution_count": 68
    },
    {
      "cell_type": "code",
      "source": [
        "#strip any proper nouns (NNP) or plural proper nouns (NNPS) from a text\n",
        "from nltk.tag import pos_tag\n",
        "\n",
        "def strip_proppers_POS(text):\n",
        "    tagged = pos_tag(text.split()) #use NLTK's part of speech tagger\n",
        "    non_propernouns = [word for word,pos in tagged if pos != 'NNP' and pos != 'NNPS']\n",
        "    return non_propernouns"
      ],
      "outputs": [],
      "metadata": {
        "id": "wFuEmfAZX5e3"
      },
      "execution_count": 69
    },
    {
      "cell_type": "markdown",
      "source": [
        "##Visualizing document clusters"
      ],
      "metadata": {
        "id": "Y2KJOCQNX5e3"
      }
    },
    {
      "cell_type": "code",
      "source": [
        "#set up colors per clusters using a dict\n",
        "cluster_colors = {0: '#1b9e77', 1: '#d95f02', 2: '#7570b3', 3: '#e7298a', 4: '#66a61e'}\n",
        "\n",
        "#set up cluster names using a dict\n",
        "cluster_names = {0: 'Family, home, war', \n",
        "                 1: 'Police, killed, murders', \n",
        "                 2: 'Father, New York, brothers', \n",
        "                 3: 'Dance, singing, love', \n",
        "                 4: 'Killed, soldiers, captain'}"
      ],
      "outputs": [],
      "metadata": {
        "id": "VYl5k_4oX5e3"
      },
      "execution_count": 70
    },
    {
      "cell_type": "code",
      "source": [
        "%matplotlib inline"
      ],
      "outputs": [],
      "metadata": {
        "id": "qmeXmKjjX5e3"
      },
      "execution_count": 55
    },
    {
      "cell_type": "code",
      "source": [
        "#create data frame that has the result of the MDS plus the cluster numbers and titles\n",
        "df = pd.DataFrame(dict(x=xs, y=ys, label=clusters, title=titles)) \n",
        "\n",
        "#group by cluster\n",
        "groups = df.groupby('label')\n",
        "\n",
        "\n",
        "# set up plot\n",
        "fig, ax = plt.subplots(figsize=(17, 9)) # set size\n",
        "ax.margins(0.05) # Optional, just adds 5% padding to the autoscaling\n",
        "\n",
        "#iterate through groups to layer the plot\n",
        "#note that I use the cluster_name and cluster_color dicts with the 'name' lookup to return the appropriate color/label\n",
        "for name, group in groups:\n",
        "    ax.plot(group.x, group.y, marker='o', linestyle='', ms=12, label=cluster_names[name], color=cluster_colors[name], mec='none')\n",
        "    ax.set_aspect('auto')\n",
        "    ax.tick_params(\\\n",
        "        axis= 'x',          # changes apply to the x-axis\n",
        "        which='both',      # both major and minor ticks are affected\n",
        "        bottom='off',      # ticks along the bottom edge are off\n",
        "        top='off',         # ticks along the top edge are off\n",
        "        labelbottom='off')\n",
        "    ax.tick_params(\\\n",
        "        axis= 'y',         # changes apply to the y-axis\n",
        "        which='both',      # both major and minor ticks are affected\n",
        "        left='off',      # ticks along the bottom edge are off\n",
        "        top='off',         # ticks along the top edge are off\n",
        "        labelleft='off')\n",
        "    \n",
        "ax.legend(numpoints=1)  #show legend with only 1 point\n",
        "\n",
        "#add label in x,y position with the label as the film title\n",
        "for i in range(len(df)):\n",
        "    ax.text(df.loc[i]['x'], df.loc[i]['y'], df.loc[i]['title'], size=8)  \n",
        "\n",
        "    \n",
        "    \n",
        "plt.show() #show the plot\n",
        "\n",
        "#uncomment the below to save the plot if need be\n",
        "#plt.savefig('clusters_small_noaxes.png', dpi=200)"
      ],
      "outputs": [
        {
          "output_type": "display_data",
          "data": {
            "text/plain": [
              "<Figure size 1224x648 with 1 Axes>"
            ],
            "image/png": "[encoded data removed]"
          },
          "metadata": {
            "needs_background": "light"
          }
        }
      ],
      "metadata": {
        "colab": {
          "base_uri": "https://localhost:8080/",
          "height": 408
        },
        "id": "QhbGPbfbX5e3",
        "outputId": "13fc2ae9-f77f-4de6-a518-7a422ac0fbd3"
      },
      "execution_count": 71
    },
    {
      "cell_type": "code",
      "source": [
        "plt.close()"
      ],
      "outputs": [],
      "metadata": {
        "id": "7v7VkPi1X5e3"
      },
      "execution_count": 72
    },
    {
      "cell_type": "markdown",
      "source": [
        "The clustering plot looks great, but it pains my eyes to see overlapping labels. Having some experience with [D3.js](http://d3js.org/) I knew one solution would be to use a browser based/javascript interactive. Fortunately, I recently stumbled upon [mpld3](https://mpld3.github.io/) a matplotlib wrapper for D3. Mpld3 basically let's you use matplotlib syntax to create web interactives. It has a really easy, high-level API for adding tooltips on mouse hover, which is what I am interested in.\n",
        "\n",
        "It also has some nice functionality for zooming and panning. The below javascript snippet basicaly defines a custom location for where the zoom/pan toggle resides. Don't worry about it too much and you actually don't need to use it, but it helped for formatting purposes when exporting to the web later. The only thing you might want to change is the x and y attr for the position of the toolbar."
      ],
      "metadata": {
        "id": "1np2KzpkX5e3"
      }
    },
    {
      "cell_type": "code",
      "source": [
        "#define custom toolbar location\n",
        "class TopToolbar(mpld3.plugins.PluginBase):\n",
        "    \"\"\"Plugin for moving toolbar to top of figure\"\"\"\n",
        "\n",
        "    JAVASCRIPT = \"\"\"\n",
        "    mpld3.register_plugin(\"toptoolbar\", TopToolbar);\n",
        "    TopToolbar.prototype = Object.create(mpld3.Plugin.prototype);\n",
        "    TopToolbar.prototype.constructor = TopToolbar;\n",
        "    function TopToolbar(fig, props){\n",
        "        mpld3.Plugin.call(this, fig, props);\n",
        "    };\n",
        "\n",
        "    TopToolbar.prototype.draw = function(){\n",
        "      // the toolbar svg doesn't exist\n",
        "      // yet, so first draw it\n",
        "      this.fig.toolbar.draw();\n",
        "\n",
        "      // then change the y position to be\n",
        "      // at the top of the figure\n",
        "      this.fig.toolbar.toolbar.attr(\"x\", 150);\n",
        "      this.fig.toolbar.toolbar.attr(\"y\", 400);\n",
        "\n",
        "      // then remove the draw function,\n",
        "      // so that it is not called again\n",
        "      this.fig.toolbar.draw = function() {}\n",
        "    }\n",
        "    \"\"\"\n",
        "    def __init__(self):\n",
        "        self.dict_ = {\"type\": \"toptoolbar\"}"
      ],
      "outputs": [],
      "metadata": {
        "id": "qYajJM-IX5e4"
      },
      "execution_count": 73
    },
    {
      "cell_type": "code",
      "source": [
        "#create data frame that has the result of the MDS plus the cluster numbers and titles\n",
        "df = pd.DataFrame(dict(x=xs, y=ys, label=clusters, title=titles)) \n",
        "\n",
        "#group by cluster\n",
        "groups = df.groupby('label')\n",
        "\n",
        "#define custom css to format the font and to remove the axis labeling\n",
        "css = \"\"\"\n",
        "text.mpld3-text, div.mpld3-tooltip {\n",
        "  font-family:Arial, Helvetica, sans-serif;\n",
        "}\n",
        "\n",
        "g.mpld3-xaxis, g.mpld3-yaxis {\n",
        "display: none; }\n",
        "\"\"\"\n",
        "\n",
        "# Plot \n",
        "fig, ax = plt.subplots(figsize=(14,6)) #set plot size\n",
        "ax.margins(0.03) # Optional, just adds 5% padding to the autoscaling\n",
        "\n",
        "#iterate through groups to layer the plot\n",
        "#note that I use the cluster_name and cluster_color dicts with the 'name' lookup to return the appropriate color/label\n",
        "for name, group in groups:\n",
        "    points = ax.plot(group.x, group.y, marker='o', linestyle='', ms=18, label=cluster_names[name], mec='none', color=cluster_colors[name])\n",
        "    ax.set_aspect('auto')\n",
        "    labels = [i for i in group.title]\n",
        "    \n",
        "    #set tooltip using points, labels and the already defined 'css'\n",
        "    tooltip = mpld3.plugins.PointHTMLTooltip(points[0], labels,\n",
        "                                       voffset=10, hoffset=10, css=css)\n",
        "    #connect tooltip to fig\n",
        "    mpld3.plugins.connect(fig, tooltip, TopToolbar())    \n",
        "    \n",
        "    #set tick marks as blank\n",
        "    ax.axes.get_xaxis().set_ticks([])\n",
        "    ax.axes.get_yaxis().set_ticks([])\n",
        "    \n",
        "    #set axis as blank\n",
        "    ax.axes.get_xaxis().set_visible(False)\n",
        "    ax.axes.get_yaxis().set_visible(False)\n",
        "\n",
        "    \n",
        "ax.legend(numpoints=1) #show legend with only one dot\n",
        "\n",
        "mpld3.display() #show the plot\n",
        "\n",
        "#uncomment the below to export to html\n",
        "#html = mpld3.fig_to_html(fig)\n",
        "#print(html)"
      ],
      "outputs": [
        {
          "output_type": "execute_result",
          "data": {
            "text/plain": [
              "<IPython.core.display.HTML object>"
            ],
            "text/html": [
              "\n",
              "\n",
              "<style>\n",
              "\n",
              "text.mpld3-text, div.mpld3-tooltip {\n",
              "  font-family:Arial, Helvetica, sans-serif;\n",
              "}\n",
              "\n",
              "g.mpld3-xaxis, g.mpld3-yaxis {\n",
              "display: none; }\n",
              "\n",
              "text.mpld3-text, div.mpld3-tooltip {\n",
              "  font-family:Arial, Helvetica, sans-serif;\n",
              "}\n",
              "\n",
              "g.mpld3-xaxis, g.mpld3-yaxis {\n",
              "display: none; }\n",
              "\n",
              "text.mpld3-text, div.mpld3-tooltip {\n",
              "  font-family:Arial, Helvetica, sans-serif;\n",
              "}\n",
              "\n",
              "g.mpld3-xaxis, g.mpld3-yaxis {\n",
              "display: none; }\n",
              "\n",
              "text.mpld3-text, div.mpld3-tooltip {\n",
              "  font-family:Arial, Helvetica, sans-serif;\n",
              "}\n",
              "\n",
              "g.mpld3-xaxis, g.mpld3-yaxis {\n",
              "display: none; }\n",
              "\n",
              "text.mpld3-text, div.mpld3-tooltip {\n",
              "  font-family:Arial, Helvetica, sans-serif;\n",
              "}\n",
              "\n",
              "g.mpld3-xaxis, g.mpld3-yaxis {\n",
              "display: none; }\n",
              "\n",
              "</style>\n",
              "\n",
              "<div id=\"fig_el133140092434836352855752880\"></div>\n",
              "<script>\n",
              "function mpld3_load_lib(url, callback){\n",
              "  var s = document.createElement('script');\n",
              "  s.src = url;\n",
              "  s.async = true;\n",
              "  s.onreadystatechange = s.onload = callback;\n",
              "  s.onerror = function(){console.warn(\"failed to load library \" + url);};\n",
              "  document.getElementsByTagName(\"head\")[0].appendChild(s);\n",
              "}\n",
              "\n",
              "if(typeof(mpld3) !== \"undefined\" && mpld3._mpld3IsLoaded){\n",
              "   // already loaded: just create the figure\n",
              "   !function(mpld3){\n",
              "       \n",
              "    mpld3.register_plugin(\"htmltooltip\", HtmlTooltipPlugin);\n",
              "    HtmlTooltipPlugin.prototype = Object.create(mpld3.Plugin.prototype);\n",
              "    HtmlTooltipPlugin.prototype.constructor = HtmlTooltipPlugin;\n",
              "    HtmlTooltipPlugin.prototype.requiredProps = [\"id\"];\n",
              "    HtmlTooltipPlugin.prototype.defaultProps = {labels:null,\n",
              "                                                target:null,\n",
              "                                                hoffset:0,\n",
              "                                                voffset:10,\n",
              "                                                targets:null};\n",
              "    function HtmlTooltipPlugin(fig, props){\n",
              "        mpld3.Plugin.call(this, fig, props);\n",
              "    };\n",
              "\n",
              "    HtmlTooltipPlugin.prototype.draw = function(){\n",
              "        var obj = mpld3.get_element(this.props.id);\n",
              "        var labels = this.props.labels;\n",
              "        var targets = this.props.targets;\n",
              "        var tooltip = d3.select(\"body\").append(\"div\")\n",
              "            .attr(\"class\", \"mpld3-tooltip\")\n",
              "            .style(\"position\", \"absolute\")\n",
              "            .style(\"z-index\", \"10\")\n",
              "            .style(\"visibility\", \"hidden\");\n",
              "\n",
              "        obj.elements()\n",
              "            .on(\"mouseover\", function(d, i){\n",
              "                tooltip.html(labels[i])\n",
              "                    .style(\"visibility\", \"visible\");\n",
              "            })\n",
              "            .on(\"mousemove\", function(d, i){\n",
              "                tooltip\n",
              "                .style(\"top\", d3.event.pageY + this.props.voffset + \"px\")\n",
              "                .style(\"left\",d3.event.pageX + this.props.hoffset + \"px\");\n",
              "            }.bind(this))\n",
              "            .on(\"mousedown.callout\", function(d, i){\n",
              "                window.open(targets[i],\"_blank\");\n",
              "            })\n",
              "            .on(\"mouseout\", function(d, i){\n",
              "                tooltip.style(\"visibility\", \"hidden\");\n",
              "            });\n",
              "    };\n",
              "    \n",
              "    mpld3.register_plugin(\"toptoolbar\", TopToolbar);\n",
              "    TopToolbar.prototype = Object.create(mpld3.Plugin.prototype);\n",
              "    TopToolbar.prototype.constructor = TopToolbar;\n",
              "    function TopToolbar(fig, props){\n",
              "        mpld3.Plugin.call(this, fig, props);\n",
              "    };\n",
              "\n",
              "    TopToolbar.prototype.draw = function(){\n",
              "      // the toolbar svg doesn't exist\n",
              "      // yet, so first draw it\n",
              "      this.fig.toolbar.draw();\n",
              "\n",
              "      // then change the y position to be\n",
              "      // at the top of the figure\n",
              "      this.fig.toolbar.toolbar.attr(\"x\", 150);\n",
              "      this.fig.toolbar.toolbar.attr(\"y\", 400);\n",
              "\n",
              "      // then remove the draw function,\n",
              "      // so that it is not called again\n",
              "      this.fig.toolbar.draw = function() {}\n",
              "    }\n",
              "    \n",
              "    mpld3.register_plugin(\"htmltooltip\", HtmlTooltipPlugin);\n",
              "    HtmlTooltipPlugin.prototype = Object.create(mpld3.Plugin.prototype);\n",
              "    HtmlTooltipPlugin.prototype.constructor = HtmlTooltipPlugin;\n",
              "    HtmlTooltipPlugin.prototype.requiredProps = [\"id\"];\n",
              "    HtmlTooltipPlugin.prototype.defaultProps = {labels:null,\n",
              "                                                target:null,\n",
              "                                                hoffset:0,\n",
              "                                                voffset:10,\n",
              "                                                targets:null};\n",
              "    function HtmlTooltipPlugin(fig, props){\n",
              "        mpld3.Plugin.call(this, fig, props);\n",
              "    };\n",
              "\n",
              "    HtmlTooltipPlugin.prototype.draw = function(){\n",
              "        var obj = mpld3.get_element(this.props.id);\n",
              "        var labels = this.props.labels;\n",
              "        var targets = this.props.targets;\n",
              "        var tooltip = d3.select(\"body\").append(\"div\")\n",
              "            .attr(\"class\", \"mpld3-tooltip\")\n",
              "            .style(\"position\", \"absolute\")\n",
              "            .style(\"z-index\", \"10\")\n",
              "            .style(\"visibility\", \"hidden\");\n",
              "\n",
              "        obj.elements()\n",
              "            .on(\"mouseover\", function(d, i){\n",
              "                tooltip.html(labels[i])\n",
              "                    .style(\"visibility\", \"visible\");\n",
              "            })\n",
              "            .on(\"mousemove\", function(d, i){\n",
              "                tooltip\n",
              "                .style(\"top\", d3.event.pageY + this.props.voffset + \"px\")\n",
              "                .style(\"left\",d3.event.pageX + this.props.hoffset + \"px\");\n",
              "            }.bind(this))\n",
              "            .on(\"mousedown.callout\", function(d, i){\n",
              "                window.open(targets[i],\"_blank\");\n",
              "            })\n",
              "            .on(\"mouseout\", function(d, i){\n",
              "                tooltip.style(\"visibility\", \"hidden\");\n",
              "            });\n",
              "    };\n",
              "    \n",
              "    mpld3.register_plugin(\"toptoolbar\", TopToolbar);\n",
              "    TopToolbar.prototype = Object.create(mpld3.Plugin.prototype);\n",
              "    TopToolbar.prototype.constructor = TopToolbar;\n",
              "    function TopToolbar(fig, props){\n",
              "        mpld3.Plugin.call(this, fig, props);\n",
              "    };\n",
              "\n",
              "    TopToolbar.prototype.draw = function(){\n",
              "      // the toolbar svg doesn't exist\n",
              "      // yet, so first draw it\n",
              "      this.fig.toolbar.draw();\n",
              "\n",
              "      // then change the y position to be\n",
              "      // at the top of the figure\n",
              "      this.fig.toolbar.toolbar.attr(\"x\", 150);\n",
              "      this.fig.toolbar.toolbar.attr(\"y\", 400);\n",
              "\n",
              "      // then remove the draw function,\n",
              "      // so that it is not called again\n",
              "      this.fig.toolbar.draw = function() {}\n",
              "    }\n",
              "    \n",
              "    mpld3.register_plugin(\"htmltooltip\", HtmlTooltipPlugin);\n",
              "    HtmlTooltipPlugin.prototype = Object.create(mpld3.Plugin.prototype);\n",
              "    HtmlTooltipPlugin.prototype.constructor = HtmlTooltipPlugin;\n",
              "    HtmlTooltipPlugin.prototype.requiredProps = [\"id\"];\n",
              "    HtmlTooltipPlugin.prototype.defaultProps = {labels:null,\n",
              "                                                target:null,\n",
              "                                                hoffset:0,\n",
              "                                                voffset:10,\n",
              "                                                targets:null};\n",
              "    function HtmlTooltipPlugin(fig, props){\n",
              "        mpld3.Plugin.call(this, fig, props);\n",
              "    };\n",
              "\n",
              "    HtmlTooltipPlugin.prototype.draw = function(){\n",
              "        var obj = mpld3.get_element(this.props.id);\n",
              "        var labels = this.props.labels;\n",
              "        var targets = this.props.targets;\n",
              "        var tooltip = d3.select(\"body\").append(\"div\")\n",
              "            .attr(\"class\", \"mpld3-tooltip\")\n",
              "            .style(\"position\", \"absolute\")\n",
              "            .style(\"z-index\", \"10\")\n",
              "            .style(\"visibility\", \"hidden\");\n",
              "\n",
              "        obj.elements()\n",
              "            .on(\"mouseover\", function(d, i){\n",
              "                tooltip.html(labels[i])\n",
              "                    .style(\"visibility\", \"visible\");\n",
              "            })\n",
              "            .on(\"mousemove\", function(d, i){\n",
              "                tooltip\n",
              "                .style(\"top\", d3.event.pageY + this.props.voffset + \"px\")\n",
              "                .style(\"left\",d3.event.pageX + this.props.hoffset + \"px\");\n",
              "            }.bind(this))\n",
              "            .on(\"mousedown.callout\", function(d, i){\n",
              "                window.open(targets[i],\"_blank\");\n",
              "            })\n",
              "            .on(\"mouseout\", function(d, i){\n",
              "                tooltip.style(\"visibility\", \"hidden\");\n",
              "            });\n",
              "    };\n",
              "    \n",
              "    mpld3.register_plugin(\"toptoolbar\", TopToolbar);\n",
              "    TopToolbar.prototype = Object.create(mpld3.Plugin.prototype);\n",
              "    TopToolbar.prototype.constructor = TopToolbar;\n",
              "    function TopToolbar(fig, props){\n",
              "        mpld3.Plugin.call(this, fig, props);\n",
              "    };\n",
              "\n",
              "    TopToolbar.prototype.draw = function(){\n",
              "      // the toolbar svg doesn't exist\n",
              "      // yet, so first draw it\n",
              "      this.fig.toolbar.draw();\n",
              "\n",
              "      // then change the y position to be\n",
              "      // at the top of the figure\n",
              "      this.fig.toolbar.toolbar.attr(\"x\", 150);\n",
              "      this.fig.toolbar.toolbar.attr(\"y\", 400);\n",
              "\n",
              "      // then remove the draw function,\n",
              "      // so that it is not called again\n",
              "      this.fig.toolbar.draw = function() {}\n",
              "    }\n",
              "    \n",
              "    mpld3.register_plugin(\"htmltooltip\", HtmlTooltipPlugin);\n",
              "    HtmlTooltipPlugin.prototype = Object.create(mpld3.Plugin.prototype);\n",
              "    HtmlTooltipPlugin.prototype.constructor = HtmlTooltipPlugin;\n",
              "    HtmlTooltipPlugin.prototype.requiredProps = [\"id\"];\n",
              "    HtmlTooltipPlugin.prototype.defaultProps = {labels:null,\n",
              "                                                target:null,\n",
              "                                                hoffset:0,\n",
              "                                                voffset:10,\n",
              "                                                targets:null};\n",
              "    function HtmlTooltipPlugin(fig, props){\n",
              "        mpld3.Plugin.call(this, fig, props);\n",
              "    };\n",
              "\n",
              "    HtmlTooltipPlugin.prototype.draw = function(){\n",
              "        var obj = mpld3.get_element(this.props.id);\n",
              "        var labels = this.props.labels;\n",
              "        var targets = this.props.targets;\n",
              "        var tooltip = d3.select(\"body\").append(\"div\")\n",
              "            .attr(\"class\", \"mpld3-tooltip\")\n",
              "            .style(\"position\", \"absolute\")\n",
              "            .style(\"z-index\", \"10\")\n",
              "            .style(\"visibility\", \"hidden\");\n",
              "\n",
              "        obj.elements()\n",
              "            .on(\"mouseover\", function(d, i){\n",
              "                tooltip.html(labels[i])\n",
              "                    .style(\"visibility\", \"visible\");\n",
              "            })\n",
              "            .on(\"mousemove\", function(d, i){\n",
              "                tooltip\n",
              "                .style(\"top\", d3.event.pageY + this.props.voffset + \"px\")\n",
              "                .style(\"left\",d3.event.pageX + this.props.hoffset + \"px\");\n",
              "            }.bind(this))\n",
              "            .on(\"mousedown.callout\", function(d, i){\n",
              "                window.open(targets[i],\"_blank\");\n",
              "            })\n",
              "            .on(\"mouseout\", function(d, i){\n",
              "                tooltip.style(\"visibility\", \"hidden\");\n",
              "            });\n",
              "    };\n",
              "    \n",
              "    mpld3.register_plugin(\"toptoolbar\", TopToolbar);\n",
              "    TopToolbar.prototype = Object.create(mpld3.Plugin.prototype);\n",
              "    TopToolbar.prototype.constructor = TopToolbar;\n",
              "    function TopToolbar(fig, props){\n",
              "        mpld3.Plugin.call(this, fig, props);\n",
              "    };\n",
              "\n",
              "    TopToolbar.prototype.draw = function(){\n",
              "      // the toolbar svg doesn't exist\n",
              "      // yet, so first draw it\n",
              "      this.fig.toolbar.draw();\n",
              "\n",
              "      // then change the y position to be\n",
              "      // at the top of the figure\n",
              "      this.fig.toolbar.toolbar.attr(\"x\", 150);\n",
              "      this.fig.toolbar.toolbar.attr(\"y\", 400);\n",
              "\n",
              "      // then remove the draw function,\n",
              "      // so that it is not called again\n",
              "      this.fig.toolbar.draw = function() {}\n",
              "    }\n",
              "    \n",
              "    mpld3.register_plugin(\"htmltooltip\", HtmlTooltipPlugin);\n",
              "    HtmlTooltipPlugin.prototype = Object.create(mpld3.Plugin.prototype);\n",
              "    HtmlTooltipPlugin.prototype.constructor = HtmlTooltipPlugin;\n",
              "    HtmlTooltipPlugin.prototype.requiredProps = [\"id\"];\n",
              "    HtmlTooltipPlugin.prototype.defaultProps = {labels:null,\n",
              "                                                target:null,\n",
              "                                                hoffset:0,\n",
              "                                                voffset:10,\n",
              "                                                targets:null};\n",
              "    function HtmlTooltipPlugin(fig, props){\n",
              "        mpld3.Plugin.call(this, fig, props);\n",
              "    };\n",
              "\n",
              "    HtmlTooltipPlugin.prototype.draw = function(){\n",
              "        var obj = mpld3.get_element(this.props.id);\n",
              "        var labels = this.props.labels;\n",
              "        var targets = this.props.targets;\n",
              "        var tooltip = d3.select(\"body\").append(\"div\")\n",
              "            .attr(\"class\", \"mpld3-tooltip\")\n",
              "            .style(\"position\", \"absolute\")\n",
              "            .style(\"z-index\", \"10\")\n",
              "            .style(\"visibility\", \"hidden\");\n",
              "\n",
              "        obj.elements()\n",
              "            .on(\"mouseover\", function(d, i){\n",
              "                tooltip.html(labels[i])\n",
              "                    .style(\"visibility\", \"visible\");\n",
              "            })\n",
              "            .on(\"mousemove\", function(d, i){\n",
              "                tooltip\n",
              "                .style(\"top\", d3.event.pageY + this.props.voffset + \"px\")\n",
              "                .style(\"left\",d3.event.pageX + this.props.hoffset + \"px\");\n",
              "            }.bind(this))\n",
              "            .on(\"mousedown.callout\", function(d, i){\n",
              "                window.open(targets[i],\"_blank\");\n",
              "            })\n",
              "            .on(\"mouseout\", function(d, i){\n",
              "                tooltip.style(\"visibility\", \"hidden\");\n",
              "            });\n",
              "    };\n",
              "    \n",
              "    mpld3.register_plugin(\"toptoolbar\", TopToolbar);\n",
              "    TopToolbar.prototype = Object.create(mpld3.Plugin.prototype);\n",
              "    TopToolbar.prototype.constructor = TopToolbar;\n",
              "    function TopToolbar(fig, props){\n",
              "        mpld3.Plugin.call(this, fig, props);\n",
              "    };\n",
              "\n",
              "    TopToolbar.prototype.draw = function(){\n",
              "      // the toolbar svg doesn't exist\n",
              "      // yet, so first draw it\n",
              "      this.fig.toolbar.draw();\n",
              "\n",
              "      // then change the y position to be\n",
              "      // at the top of the figure\n",
              "      this.fig.toolbar.toolbar.attr(\"x\", 150);\n",
              "      this.fig.toolbar.toolbar.attr(\"y\", 400);\n",
              "\n",
              "      // then remove the draw function,\n",
              "      // so that it is not called again\n",
              "      this.fig.toolbar.draw = function() {}\n",
              "    }\n",
              "    \n",
              "       mpld3.draw_figure(\"fig_el133140092434836352855752880\", {\"width\": 1008.0, \"height\": 432.0, \"axes\": [{\"bbox\": [0.125, 0.125, 0.775, 0.755], \"xlim\": [-0.7022446245855734, 0.7098314809788802], \"ylim\": [-0.7081718721860418, 0.6939226674565514], \"xdomain\": [-0.7022446245855734, 0.7098314809788802], \"ydomain\": [-0.7081718721860418, 0.6939226674565514], \"xscale\": \"linear\", \"yscale\": \"linear\", \"axes\": [{\"position\": \"bottom\", \"nticks\": 0, \"tickvalues\": [], \"tickformat_formatter\": \"\", \"tickformat\": \"\", \"scale\": \"linear\", \"fontsize\": null, \"grid\": {\"gridOn\": false}, \"visible\": false}, {\"position\": \"left\", \"nticks\": 0, \"tickvalues\": [], \"tickformat_formatter\": \"\", \"tickformat\": \"\", \"scale\": \"linear\", \"fontsize\": null, \"grid\": {\"gridOn\": false}, \"visible\": false}], \"axesbg\": \"#FFFFFF\", \"axesbgalpha\": null, \"zoomable\": true, \"id\": \"el133140092430738528\", \"lines\": [], \"paths\": [{\"data\": \"data07\", \"xindex\": 0, \"yindex\": 1, \"coordinates\": \"axes\", \"pathcodes\": [\"M\", \"L\", \"S\", \"L\", \"S\", \"L\", \"S\", \"L\", \"S\", \"Z\"], \"id\": \"el133140092430476096\", \"dasharray\": \"none\", \"alpha\": 0.8, \"facecolor\": \"rgba(255, 255, 255, 0.8)\", \"edgecolor\": \"rgba(204, 204, 204, 0.8)\", \"edgewidth\": 1.0, \"zorder\": 1000000.0}], \"markers\": [{\"data\": \"data01\", \"xindex\": 0, \"yindex\": 1, \"coordinates\": \"data\", \"id\": \"el133140092430477440pts\", \"facecolor\": \"#1B9E77\", \"edgecolor\": \"none\", \"edgewidth\": 1.0, \"alpha\": 1, \"zorder\": 2, \"markerpath\": [[[0.0, 9.0], [2.3868279, 9.0], [4.676218837063681, 8.051703224294176], [6.3639610306789285, 6.3639610306789285], [8.051703224294176, 4.676218837063681], [9.0, 2.3868279], [9.0, 0.0], [9.0, -2.3868279], [8.051703224294176, -4.676218837063681], [6.3639610306789285, -6.3639610306789285], [4.676218837063681, -8.051703224294176], [2.3868279, -9.0], [0.0, -9.0], [-2.3868279, -9.0], [-4.676218837063681, -8.051703224294176], [-6.3639610306789285, -6.3639610306789285], [-8.051703224294176, -4.676218837063681], [-9.0, -2.3868279], [-9.0, 0.0], [-9.0, 2.3868279], [-8.051703224294176, 4.676218837063681], [-6.3639610306789285, 6.3639610306789285], [-4.676218837063681, 8.051703224294176], [-2.3868279, 9.0], [0.0, 9.0]], [\"M\", \"C\", \"C\", \"C\", \"C\", \"C\", \"C\", \"C\", \"C\", \"Z\"]]}, {\"data\": \"data02\", \"xindex\": 0, \"yindex\": 1, \"coordinates\": \"data\", \"id\": \"el133140092430476336pts\", \"facecolor\": \"#D95F02\", \"edgecolor\": \"none\", \"edgewidth\": 1.0, \"alpha\": 1, \"zorder\": 2, \"markerpath\": [[[0.0, 9.0], [2.3868279, 9.0], [4.676218837063681, 8.051703224294176], [6.3639610306789285, 6.3639610306789285], [8.051703224294176, 4.676218837063681], [9.0, 2.3868279], [9.0, 0.0], [9.0, -2.3868279], [8.051703224294176, -4.676218837063681], [6.3639610306789285, -6.3639610306789285], [4.676218837063681, -8.051703224294176], [2.3868279, -9.0], [0.0, -9.0], [-2.3868279, -9.0], [-4.676218837063681, -8.051703224294176], [-6.3639610306789285, -6.3639610306789285], [-8.051703224294176, -4.676218837063681], [-9.0, -2.3868279], [-9.0, 0.0], [-9.0, 2.3868279], [-8.051703224294176, 4.676218837063681], [-6.3639610306789285, 6.3639610306789285], [-4.676218837063681, 8.051703224294176], [-2.3868279, 9.0], [0.0, 9.0]], [\"M\", \"C\", \"C\", \"C\", \"C\", \"C\", \"C\", \"C\", \"C\", \"Z\"]]}, {\"data\": \"data03\", \"xindex\": 0, \"yindex\": 1, \"coordinates\": \"data\", \"id\": \"el133140092430476432pts\", \"facecolor\": \"#7570B3\", \"edgecolor\": \"none\", \"edgewidth\": 1.0, \"alpha\": 1, \"zorder\": 2, \"markerpath\": [[[0.0, 9.0], [2.3868279, 9.0], [4.676218837063681, 8.051703224294176], [6.3639610306789285, 6.3639610306789285], [8.051703224294176, 4.676218837063681], [9.0, 2.3868279], [9.0, 0.0], [9.0, -2.3868279], [8.051703224294176, -4.676218837063681], [6.3639610306789285, -6.3639610306789285], [4.676218837063681, -8.051703224294176], [2.3868279, -9.0], [0.0, -9.0], [-2.3868279, -9.0], [-4.676218837063681, -8.051703224294176], [-6.3639610306789285, -6.3639610306789285], [-8.051703224294176, -4.676218837063681], [-9.0, -2.3868279], [-9.0, 0.0], [-9.0, 2.3868279], [-8.051703224294176, 4.676218837063681], [-6.3639610306789285, 6.3639610306789285], [-4.676218837063681, 8.051703224294176], [-2.3868279, 9.0], [0.0, 9.0]], [\"M\", \"C\", \"C\", \"C\", \"C\", \"C\", \"C\", \"C\", \"C\", \"Z\"]]}, {\"data\": \"data04\", \"xindex\": 0, \"yindex\": 1, \"coordinates\": \"data\", \"id\": \"el133140092430524720pts\", \"facecolor\": \"#E7298A\", \"edgecolor\": \"none\", \"edgewidth\": 1.0, \"alpha\": 1, \"zorder\": 2, \"markerpath\": [[[0.0, 9.0], [2.3868279, 9.0], [4.676218837063681, 8.051703224294176], [6.3639610306789285, 6.3639610306789285], [8.051703224294176, 4.676218837063681], [9.0, 2.3868279], [9.0, 0.0], [9.0, -2.3868279], [8.051703224294176, -4.676218837063681], [6.3639610306789285, -6.3639610306789285], [4.676218837063681, -8.051703224294176], [2.3868279, -9.0], [0.0, -9.0], [-2.3868279, -9.0], [-4.676218837063681, -8.051703224294176], [-6.3639610306789285, -6.3639610306789285], [-8.051703224294176, -4.676218837063681], [-9.0, -2.3868279], [-9.0, 0.0], [-9.0, 2.3868279], [-8.051703224294176, 4.676218837063681], [-6.3639610306789285, 6.3639610306789285], [-4.676218837063681, 8.051703224294176], [-2.3868279, 9.0], [0.0, 9.0]], [\"M\", \"C\", \"C\", \"C\", \"C\", \"C\", \"C\", \"C\", \"C\", \"Z\"]]}, {\"data\": \"data05\", \"xindex\": 0, \"yindex\": 1, \"coordinates\": \"data\", \"id\": \"el133140092431248784pts\", \"facecolor\": \"#66A61E\", \"edgecolor\": \"none\", \"edgewidth\": 1.0, \"alpha\": 1, \"zorder\": 2, \"markerpath\": [[[0.0, 9.0], [2.3868279, 9.0], [4.676218837063681, 8.051703224294176], [6.3639610306789285, 6.3639610306789285], [8.051703224294176, 4.676218837063681], [9.0, 2.3868279], [9.0, 0.0], [9.0, -2.3868279], [8.051703224294176, -4.676218837063681], [6.3639610306789285, -6.3639610306789285], [4.676218837063681, -8.051703224294176], [2.3868279, -9.0], [0.0, -9.0], [-2.3868279, -9.0], [-4.676218837063681, -8.051703224294176], [-6.3639610306789285, -6.3639610306789285], [-8.051703224294176, -4.676218837063681], [-9.0, -2.3868279], [-9.0, 0.0], [-9.0, 2.3868279], [-8.051703224294176, 4.676218837063681], [-6.3639610306789285, 6.3639610306789285], [-4.676218837063681, 8.051703224294176], [-2.3868279, 9.0], [0.0, 9.0]], [\"M\", \"C\", \"C\", \"C\", \"C\", \"C\", \"C\", \"C\", \"C\", \"Z\"]]}, {\"data\": \"data06\", \"xindex\": 0, \"yindex\": 1, \"coordinates\": \"axes\", \"id\": \"el133140092430526400pts\", \"facecolor\": \"#1B9E77\", \"edgecolor\": \"none\", \"edgewidth\": 1.0, \"alpha\": 1, \"zorder\": 1000002.0, \"markerpath\": [[[0.0, 9.0], [2.3868279, 9.0], [4.676218837063681, 8.051703224294176], [6.3639610306789285, 6.3639610306789285], [8.051703224294176, 4.676218837063681], [9.0, 2.3868279], [9.0, 0.0], [9.0, -2.3868279], [8.051703224294176, -4.676218837063681], [6.3639610306789285, -6.3639610306789285], [4.676218837063681, -8.051703224294176], [2.3868279, -9.0], [0.0, -9.0], [-2.3868279, -9.0], [-4.676218837063681, -8.051703224294176], [-6.3639610306789285, -6.3639610306789285], [-8.051703224294176, -4.676218837063681], [-9.0, -2.3868279], [-9.0, 0.0], [-9.0, 2.3868279], [-8.051703224294176, 4.676218837063681], [-6.3639610306789285, 6.3639610306789285], [-4.676218837063681, 8.051703224294176], [-2.3868279, 9.0], [0.0, 9.0]], [\"M\", \"C\", \"C\", \"C\", \"C\", \"C\", \"C\", \"C\", \"C\", \"Z\"]]}, {\"data\": \"data06\", \"xindex\": 0, \"yindex\": 2, \"coordinates\": \"axes\", \"id\": \"el133140092430527888pts\", \"facecolor\": \"#D95F02\", \"edgecolor\": \"none\", \"edgewidth\": 1.0, \"alpha\": 1, \"zorder\": 1000002.0, \"markerpath\": [[[0.0, 9.0], [2.3868279, 9.0], [4.676218837063681, 8.051703224294176], [6.3639610306789285, 6.3639610306789285], [8.051703224294176, 4.676218837063681], [9.0, 2.3868279], [9.0, 0.0], [9.0, -2.3868279], [8.051703224294176, -4.676218837063681], [6.3639610306789285, -6.3639610306789285], [4.676218837063681, -8.051703224294176], [2.3868279, -9.0], [0.0, -9.0], [-2.3868279, -9.0], [-4.676218837063681, -8.051703224294176], [-6.3639610306789285, -6.3639610306789285], [-8.051703224294176, -4.676218837063681], [-9.0, -2.3868279], [-9.0, 0.0], [-9.0, 2.3868279], [-8.051703224294176, 4.676218837063681], [-6.3639610306789285, 6.3639610306789285], [-4.676218837063681, 8.051703224294176], [-2.3868279, 9.0], [0.0, 9.0]], [\"M\", \"C\", \"C\", \"C\", \"C\", \"C\", \"C\", \"C\", \"C\", \"Z\"]]}, {\"data\": \"data06\", \"xindex\": 0, \"yindex\": 3, \"coordinates\": \"axes\", \"id\": \"el133140092430562208pts\", \"facecolor\": \"#7570B3\", \"edgecolor\": \"none\", \"edgewidth\": 1.0, \"alpha\": 1, \"zorder\": 1000002.0, \"markerpath\": [[[0.0, 9.0], [2.3868279, 9.0], [4.676218837063681, 8.051703224294176], [6.3639610306789285, 6.3639610306789285], [8.051703224294176, 4.676218837063681], [9.0, 2.3868279], [9.0, 0.0], [9.0, -2.3868279], [8.051703224294176, -4.676218837063681], [6.3639610306789285, -6.3639610306789285], [4.676218837063681, -8.051703224294176], [2.3868279, -9.0], [0.0, -9.0], [-2.3868279, -9.0], [-4.676218837063681, -8.051703224294176], [-6.3639610306789285, -6.3639610306789285], [-8.051703224294176, -4.676218837063681], [-9.0, -2.3868279], [-9.0, 0.0], [-9.0, 2.3868279], [-8.051703224294176, 4.676218837063681], [-6.3639610306789285, 6.3639610306789285], [-4.676218837063681, 8.051703224294176], [-2.3868279, 9.0], [0.0, 9.0]], [\"M\", \"C\", \"C\", \"C\", \"C\", \"C\", \"C\", \"C\", \"C\", \"Z\"]]}, {\"data\": \"data06\", \"xindex\": 0, \"yindex\": 4, \"coordinates\": \"axes\", \"id\": \"el133140092430563696pts\", \"facecolor\": \"#E7298A\", \"edgecolor\": \"none\", \"edgewidth\": 1.0, \"alpha\": 1, \"zorder\": 1000002.0, \"markerpath\": [[[0.0, 9.0], [2.3868279, 9.0], [4.676218837063681, 8.051703224294176], [6.3639610306789285, 6.3639610306789285], [8.051703224294176, 4.676218837063681], [9.0, 2.3868279], [9.0, 0.0], [9.0, -2.3868279], [8.051703224294176, -4.676218837063681], [6.3639610306789285, -6.3639610306789285], [4.676218837063681, -8.051703224294176], [2.3868279, -9.0], [0.0, -9.0], [-2.3868279, -9.0], [-4.676218837063681, -8.051703224294176], [-6.3639610306789285, -6.3639610306789285], [-8.051703224294176, -4.676218837063681], [-9.0, -2.3868279], [-9.0, 0.0], [-9.0, 2.3868279], [-8.051703224294176, 4.676218837063681], [-6.3639610306789285, 6.3639610306789285], [-4.676218837063681, 8.051703224294176], [-2.3868279, 9.0], [0.0, 9.0]], [\"M\", \"C\", \"C\", \"C\", \"C\", \"C\", \"C\", \"C\", \"C\", \"Z\"]]}, {\"data\": \"data06\", \"xindex\": 0, \"yindex\": 5, \"coordinates\": \"axes\", \"id\": \"el133140092430565184pts\", \"facecolor\": \"#66A61E\", \"edgecolor\": \"none\", \"edgewidth\": 1.0, \"alpha\": 1, \"zorder\": 1000002.0, \"markerpath\": [[[0.0, 9.0], [2.3868279, 9.0], [4.676218837063681, 8.051703224294176], [6.3639610306789285, 6.3639610306789285], [8.051703224294176, 4.676218837063681], [9.0, 2.3868279], [9.0, 0.0], [9.0, -2.3868279], [8.051703224294176, -4.676218837063681], [6.3639610306789285, -6.3639610306789285], [4.676218837063681, -8.051703224294176], [2.3868279, -9.0], [0.0, -9.0], [-2.3868279, -9.0], [-4.676218837063681, -8.051703224294176], [-6.3639610306789285, -6.3639610306789285], [-8.051703224294176, -4.676218837063681], [-9.0, -2.3868279], [-9.0, 0.0], [-9.0, 2.3868279], [-8.051703224294176, 4.676218837063681], [-6.3639610306789285, 6.3639610306789285], [-4.676218837063681, 8.051703224294176], [-2.3868279, 9.0], [0.0, 9.0]], [\"M\", \"C\", \"C\", \"C\", \"C\", \"C\", \"C\", \"C\", \"C\", \"Z\"]]}], \"texts\": [{\"text\": \"Family, home, war\", \"position\": [0.8204685099846392, 0.21768457198920774], \"coordinates\": \"axes\", \"h_anchor\": \"start\", \"v_baseline\": \"auto\", \"rotation\": -0.0, \"fontsize\": 10.0, \"color\": \"#000000\", \"alpha\": 1, \"zorder\": 1000003.0, \"id\": \"el133140092430525728\"}, {\"text\": \"Police, killed, murders\", \"position\": [0.8204685099846392, 0.17169487368162864], \"coordinates\": \"axes\", \"h_anchor\": \"start\", \"v_baseline\": \"auto\", \"rotation\": -0.0, \"fontsize\": 10.0, \"color\": \"#000000\", \"alpha\": 1, \"zorder\": 1000003.0, \"id\": \"el133140092430527216\"}, {\"text\": \"Father, New York, brothers\", \"position\": [0.8204685099846392, 0.12570517537404954], \"coordinates\": \"axes\", \"h_anchor\": \"start\", \"v_baseline\": \"auto\", \"rotation\": -0.0, \"fontsize\": 10.0, \"color\": \"#000000\", \"alpha\": 1, \"zorder\": 1000003.0, \"id\": \"el133140092430561536\"}, {\"text\": \"Dance, singing, love\", \"position\": [0.8204685099846392, 0.07971547706647045], \"coordinates\": \"axes\", \"h_anchor\": \"start\", \"v_baseline\": \"auto\", \"rotation\": -0.0, \"fontsize\": 10.0, \"color\": \"#000000\", \"alpha\": 1, \"zorder\": 1000003.0, \"id\": \"el133140092430563024\"}, {\"text\": \"Killed, soldiers, captain\", \"position\": [0.8204685099846392, 0.03372577875889135], \"coordinates\": \"axes\", \"h_anchor\": \"start\", \"v_baseline\": \"auto\", \"rotation\": -0.0, \"fontsize\": 10.0, \"color\": \"#000000\", \"alpha\": 1, \"zorder\": 1000003.0, \"id\": \"el133140092430564512\"}], \"collections\": [], \"images\": [], \"sharex\": [], \"sharey\": []}], \"data\": {\"data01\": [[0.44206412093578173, -0.27869804841256207], [-0.2587368350262618, -0.26527516559786957], [0.05822957027256338, 0.256929533865531], [-0.43458221470796804, -0.29655933230579506], [-0.22775176430437058, 0.06867225264698684], [-0.4301218469327288, 0.28528616015883534], [-0.3527560545316662, 0.12706104279951017], [-0.05321665416838313, 0.12337031922670556], [-0.4842963450926421, 0.17299124057611814], [0.19843842072642093, -0.3892916828503908], [-0.02172250207705443, -0.04277898807708071], [0.3500865831297658, -0.33952163222346426], [0.5177811917071925, -0.2536618659106638], [-0.5523024142568739, -0.22470452093169108], [-0.34166783709147913, 0.6344444329502953], [-0.17157923142425296, 0.23225249097460976], [0.5307508765954988, 0.1293499548695287], [0.4157900555927239, 0.4066680050040376], [0.4335012948307977, 0.14567214405204687], [-0.15353411958657529, -0.3013348801222534], [-0.22754763513663467, -0.45049222698404334], [-0.28445673314938785, 0.27573355826080437], [0.21436568495015884, 0.21833323177235375], [-0.0697835765252865, 0.5697755231183568], [-0.5962489128496042, 0.19029081995111047], [0.18357552763037874, 0.3029327061666986], [-0.0876522433589088, -0.20078309954756865], [-0.45990623558854987, 0.007717409858540057], [-0.3031164788430419, 0.47587091621770383], [0.6448729810407794, -0.1557495377370637], [-0.028860474947472948, 0.6542407465232705], [0.12564351913288888, 0.4177899987124327], [-0.3416411136605303, 0.036359351999961084], [-0.551459865435424, 0.3351166974656385], [0.2751629686852379, -0.2942902403479915], [-0.3243379724030205, 0.3312099814646893], [-0.6012517387271848, -0.0418859194691775], [-0.34156011933518005, -0.06836233054197617], [-0.3394231160832892, -0.1511074564578018], [-0.5521585808438269, 0.028891781654075178], [0.1850753249911779, 0.5789634882504009], [-0.4660099693912445, -0.09927639405993571], [-0.5791042079012638, 0.2903462882632784], [-0.5810674876200954, 0.10583683075043433], [-0.20835174801118317, -0.05859486722959816], [-0.19967295689696812, 0.006401158105055958]], \"data02\": [[-0.2509077886527682, -0.5748301691298103], [-0.0822211719046293, -0.5783371225442145], [-0.016415337094761003, -0.6356033887664564], [0.24381678674291052, -0.5041387862290508], [0.08011541418687525, -0.4798779364145004], [-0.1524708594907454, -0.3409184384980287], [-0.020101379300060913, -0.3570984271707861], [0.1287536654528344, -0.6684899512527609], [0.4928973738021543, -0.14112529581269717], [-0.11274056497585859, -0.49926901658843537], [0.18267302179861425, -0.5787625309524596], [-0.18334149000822167, -0.5551280766277863], [0.5655872568440865, 0.3427492412662697], [-0.5674182514385872, -0.35374010333970207], [0.6688477850887058, -0.08783283749852551]], \"data03\": [[0.4184044202336738, 0.5850489899951163], [0.6698670628968674, 0.11896605280395367], [0.4020451359180303, 0.49856493148445374], [0.6677334884276219, 0.2695002905230577], [-0.02234991385406897, 0.3387044447457824], [0.6273622875630892, 0.3594269833423288]], \"data04\": [[0.1842728439475597, -0.011715611328299623], [-0.03159215088404366, -0.45663791320402886], [-0.13227195754649126, 0.5745384801472381], [0.058399024554247426, -0.04612821871658942], [0.011707339999011584, 0.4624485755347979], [0.6037432800571017, -0.3456991338989089], [0.07164980401234082, 0.13140842985205484], [0.3548063612344581, 0.008230388449868098], [0.34339799473545496, 0.24588751780959872], [-0.20377837648670416, 0.5597732710930737], [0.31820603526510766, 0.08767290955547546], [-0.19657213727582853, 0.39573854896210925], [0.3442345942883043, -0.13024993477969463], [0.1607366978752424, -0.11945297477856227], [-0.34789814258235424, -0.3258509720117311], [-0.3609008933642027, -0.48196142317941265], [-0.6622802065035606, -0.20503714364142692], [0.1563795065783695, -0.21300821701033482], [0.20869950117396832, 0.06431546201598057], [-0.42084558901816005, 0.46273188035729895], [-0.18141401157117412, 0.47664757937416014], [0.12067866743532428, 0.4813363821584589], [0.21979780091087622, 0.48012585338200914], [0.48195453604347716, 0.008013240019345533], [0.4758882198147056, -0.4358383186309247], [0.3243862951002719, -0.45653595159186383]], \"data05\": [[0.5523203950143739, 0.4906695451776374], [0.019707608446931178, -0.6360131358153785], [0.07969434882060063, -0.3889371661029437], [0.06214704621807539, 0.6101371440051012], [-0.4533760890831642, -0.4451810757043979], [0.33498008050466554, -0.6458620573675335], [-0.18645450426356014, 0.150485309679993]], \"data06\": [[0.7846262160778291, 0.22841550159430954, 0.18242580328673044, 0.13643610497915135, 0.09044640667157224, 0.04445670836399314], [0.7974270353302613, 0.22841550159430954, 0.18242580328673044, 0.13643610497915135, 0.09044640667157224, 0.04445670836399314], [0.8102278545826934, 0.22841550159430954, 0.18242580328673044, 0.13643610497915135, 0.09044640667157224, 0.04445670836399314]], \"data07\": [[0.7820660522273426, 0.015329899435859717], [0.9910394265232977, 0.015329899435859717], [0.9935995903737841, 0.015329899435859717], [0.9935995903737841, 0.021461859210203577], [0.9935995903737841, 0.24834437086092717], [0.9935995903737841, 0.254476330635271], [0.9910394265232977, 0.254476330635271], [0.7820660522273426, 0.254476330635271], [0.7795058883768562, 0.254476330635271], [0.7795058883768562, 0.24834437086092717], [0.7795058883768562, 0.021461859210203577], [0.7795058883768562, 0.015329899435859717], [0.7820660522273426, 0.015329899435859717]]}, \"id\": \"el133140092434836352\", \"plugins\": [{\"type\": \"reset\"}, {\"type\": \"zoom\", \"button\": true, \"enabled\": false}, {\"type\": \"boxzoom\", \"button\": true, \"enabled\": false}, {\"type\": \"htmltooltip\", \"id\": \"el133140092430477440pts\", \"labels\": [\"The Shawshank Redemption\", \"Casablanca\", \"One Flew Over the Cuckoo's Nest\", \"The Wizard of Oz\", \"Psycho\", \"Sunset Blvd.\", \"Vertigo\", \"On the Waterfront\", \"West Side Story\", \"Star Wars\", \"E.T. the Extra-Terrestrial\", \"2001: A Space Odyssey\", \"The Silence of the Lambs\", \"Chinatown\", \"Singin' in the Rain\", \"Some Like It Hot\", \"12 Angry Men\", \"Amadeus\", \"Gandhi\", \"Unforgiven\", \"Raiders of the Lost Ark\", \"Rocky\", \"To Kill a Mockingbird\", \"The Good, the Bad and the Ugly\", \"The Apartment\", \"The Exorcist\", \"The Deer Hunter\", \"The French Connection\", \"Midnight Cowboy\", \"Mr. Smith Goes to Washington\", \"Annie Hall\", \"Good Will Hunting\", \"Fargo\", \"Shane\", \"Close Encounters of the Third Kind\", \"The Graduate\", \"American Graffiti\", \"Pulp Fiction\", \"The Maltese Falcon\", \"Taxi Driver\", \"Wuthering Heights\", \"Double Indemnity\", \"Rebel Without a Cause\", \"Rear Window\", \"The Third Man\", \"North by Northwest\"], \"targets\": null, \"hoffset\": 10, \"voffset\": 10}, {\"type\": \"toptoolbar\"}, {\"type\": \"htmltooltip\", \"id\": \"el133140092430476336pts\", \"labels\": [\"Lawrence of Arabia\", \"The Bridge on the River Kwai\", \"Dr. Strangelove or: How I Learned to Stop Worrying and Love the Bomb\", \"The Lord of the Rings: The Return of the King\", \"Gladiator\", \"From Here to Eternity\", \"Saving Private Ryan\", \"Patton\", \"Braveheart\", \"Platoon\", \"Dances with Wolves\", \"All Quiet on the Western Front\", \"City Lights\", \"The Green Mile\", \"Network\"], \"targets\": null, \"hoffset\": 10, \"voffset\": 10}, {\"type\": \"toptoolbar\"}, {\"type\": \"htmltooltip\", \"id\": \"el133140092430476432pts\", \"labels\": [\"It's a Wonderful Life\", \"The Philadelphia Story\", \"The King's Speech\", \"A Place in the Sun\", \"Tootsie\", \"Yankee Doodle Dandy\"], \"targets\": null, \"hoffset\": 10, \"voffset\": 10}, {\"type\": \"toptoolbar\"}, {\"type\": \"htmltooltip\", \"id\": \"el133140092430524720pts\", \"labels\": [\"The Godfather\", \"Schindler's List\", \"Raging Bull\", \"Gone with the Wind\", \"Citizen Kane\", \"Titanic\", \"The Godfather: Part II\", \"Forrest Gump\", \"A Streetcar Named Desire\", \"An American in Paris\", \"The Best Years of Our Lives\", \"My Fair Lady\", \"Ben-Hur\", \"Doctor Zhivago\", \"Butch Cassidy and the Sundance Kid\", \"The Treasure of the Sierra Madre\", \"High Noon\", \"The Pianist\", \"Goodfellas\", \"It Happened One Night\", \"Rain Man\", \"Out of Africa\", \"Terms of Endearment\", \"Giant\", \"The Grapes of Wrath\", \"Stagecoach\"], \"targets\": null, \"hoffset\": 10, \"voffset\": 10}, {\"type\": \"toptoolbar\"}, {\"type\": \"htmltooltip\", \"id\": \"el133140092431248784pts\", \"labels\": [\"The Sound of Music\", \"Apocalypse Now\", \"Jaws\", \"Nashville\", \"The African Queen\", \"Mutiny on the Bounty\", \"A Clockwork Orange\"], \"targets\": null, \"hoffset\": 10, \"voffset\": 10}, {\"type\": \"toptoolbar\"}]});\n",
              "   }(mpld3);\n",
              "}else if(typeof define === \"function\" && define.amd){\n",
              "   // require.js is available: use it to load d3/mpld3\n",
              "   require.config({paths: {d3: \"https://d3js.org/d3.v5\"}});\n",
              "   require([\"d3\"], function(d3){\n",
              "      window.d3 = d3;\n",
              "      mpld3_load_lib(\"https://mpld3.github.io/js/mpld3.v0.5.9.js\", function(){\n",
              "         \n",
              "    mpld3.register_plugin(\"htmltooltip\", HtmlTooltipPlugin);\n",
              "    HtmlTooltipPlugin.prototype = Object.create(mpld3.Plugin.prototype);\n",
              "    HtmlTooltipPlugin.prototype.constructor = HtmlTooltipPlugin;\n",
              "    HtmlTooltipPlugin.prototype.requiredProps = [\"id\"];\n",
              "    HtmlTooltipPlugin.prototype.defaultProps = {labels:null,\n",
              "                                                target:null,\n",
              "                                                hoffset:0,\n",
              "                                                voffset:10,\n",
              "                                                targets:null};\n",
              "    function HtmlTooltipPlugin(fig, props){\n",
              "        mpld3.Plugin.call(this, fig, props);\n",
              "    };\n",
              "\n",
              "    HtmlTooltipPlugin.prototype.draw = function(){\n",
              "        var obj = mpld3.get_element(this.props.id);\n",
              "        var labels = this.props.labels;\n",
              "        var targets = this.props.targets;\n",
              "        var tooltip = d3.select(\"body\").append(\"div\")\n",
              "            .attr(\"class\", \"mpld3-tooltip\")\n",
              "            .style(\"position\", \"absolute\")\n",
              "            .style(\"z-index\", \"10\")\n",
              "            .style(\"visibility\", \"hidden\");\n",
              "\n",
              "        obj.elements()\n",
              "            .on(\"mouseover\", function(d, i){\n",
              "                tooltip.html(labels[i])\n",
              "                    .style(\"visibility\", \"visible\");\n",
              "            })\n",
              "            .on(\"mousemove\", function(d, i){\n",
              "                tooltip\n",
              "                .style(\"top\", d3.event.pageY + this.props.voffset + \"px\")\n",
              "                .style(\"left\",d3.event.pageX + this.props.hoffset + \"px\");\n",
              "            }.bind(this))\n",
              "            .on(\"mousedown.callout\", function(d, i){\n",
              "                window.open(targets[i],\"_blank\");\n",
              "            })\n",
              "            .on(\"mouseout\", function(d, i){\n",
              "                tooltip.style(\"visibility\", \"hidden\");\n",
              "            });\n",
              "    };\n",
              "    \n",
              "    mpld3.register_plugin(\"toptoolbar\", TopToolbar);\n",
              "    TopToolbar.prototype = Object.create(mpld3.Plugin.prototype);\n",
              "    TopToolbar.prototype.constructor = TopToolbar;\n",
              "    function TopToolbar(fig, props){\n",
              "        mpld3.Plugin.call(this, fig, props);\n",
              "    };\n",
              "\n",
              "    TopToolbar.prototype.draw = function(){\n",
              "      // the toolbar svg doesn't exist\n",
              "      // yet, so first draw it\n",
              "      this.fig.toolbar.draw();\n",
              "\n",
              "      // then change the y position to be\n",
              "      // at the top of the figure\n",
              "      this.fig.toolbar.toolbar.attr(\"x\", 150);\n",
              "      this.fig.toolbar.toolbar.attr(\"y\", 400);\n",
              "\n",
              "      // then remove the draw function,\n",
              "      // so that it is not called again\n",
              "      this.fig.toolbar.draw = function() {}\n",
              "    }\n",
              "    \n",
              "    mpld3.register_plugin(\"htmltooltip\", HtmlTooltipPlugin);\n",
              "    HtmlTooltipPlugin.prototype = Object.create(mpld3.Plugin.prototype);\n",
              "    HtmlTooltipPlugin.prototype.constructor = HtmlTooltipPlugin;\n",
              "    HtmlTooltipPlugin.prototype.requiredProps = [\"id\"];\n",
              "    HtmlTooltipPlugin.prototype.defaultProps = {labels:null,\n",
              "                                                target:null,\n",
              "                                                hoffset:0,\n",
              "                                                voffset:10,\n",
              "                                                targets:null};\n",
              "    function HtmlTooltipPlugin(fig, props){\n",
              "        mpld3.Plugin.call(this, fig, props);\n",
              "    };\n",
              "\n",
              "    HtmlTooltipPlugin.prototype.draw = function(){\n",
              "        var obj = mpld3.get_element(this.props.id);\n",
              "        var labels = this.props.labels;\n",
              "        var targets = this.props.targets;\n",
              "        var tooltip = d3.select(\"body\").append(\"div\")\n",
              "            .attr(\"class\", \"mpld3-tooltip\")\n",
              "            .style(\"position\", \"absolute\")\n",
              "            .style(\"z-index\", \"10\")\n",
              "            .style(\"visibility\", \"hidden\");\n",
              "\n",
              "        obj.elements()\n",
              "            .on(\"mouseover\", function(d, i){\n",
              "                tooltip.html(labels[i])\n",
              "                    .style(\"visibility\", \"visible\");\n",
              "            })\n",
              "            .on(\"mousemove\", function(d, i){\n",
              "                tooltip\n",
              "                .style(\"top\", d3.event.pageY + this.props.voffset + \"px\")\n",
              "                .style(\"left\",d3.event.pageX + this.props.hoffset + \"px\");\n",
              "            }.bind(this))\n",
              "            .on(\"mousedown.callout\", function(d, i){\n",
              "                window.open(targets[i],\"_blank\");\n",
              "            })\n",
              "            .on(\"mouseout\", function(d, i){\n",
              "                tooltip.style(\"visibility\", \"hidden\");\n",
              "            });\n",
              "    };\n",
              "    \n",
              "    mpld3.register_plugin(\"toptoolbar\", TopToolbar);\n",
              "    TopToolbar.prototype = Object.create(mpld3.Plugin.prototype);\n",
              "    TopToolbar.prototype.constructor = TopToolbar;\n",
              "    function TopToolbar(fig, props){\n",
              "        mpld3.Plugin.call(this, fig, props);\n",
              "    };\n",
              "\n",
              "    TopToolbar.prototype.draw = function(){\n",
              "      // the toolbar svg doesn't exist\n",
              "      // yet, so first draw it\n",
              "      this.fig.toolbar.draw();\n",
              "\n",
              "      // then change the y position to be\n",
              "      // at the top of the figure\n",
              "      this.fig.toolbar.toolbar.attr(\"x\", 150);\n",
              "      this.fig.toolbar.toolbar.attr(\"y\", 400);\n",
              "\n",
              "      // then remove the draw function,\n",
              "      // so that it is not called again\n",
              "      this.fig.toolbar.draw = function() {}\n",
              "    }\n",
              "    \n",
              "    mpld3.register_plugin(\"htmltooltip\", HtmlTooltipPlugin);\n",
              "    HtmlTooltipPlugin.prototype = Object.create(mpld3.Plugin.prototype);\n",
              "    HtmlTooltipPlugin.prototype.constructor = HtmlTooltipPlugin;\n",
              "    HtmlTooltipPlugin.prototype.requiredProps = [\"id\"];\n",
              "    HtmlTooltipPlugin.prototype.defaultProps = {labels:null,\n",
              "                                                target:null,\n",
              "                                                hoffset:0,\n",
              "                                                voffset:10,\n",
              "                                                targets:null};\n",
              "    function HtmlTooltipPlugin(fig, props){\n",
              "        mpld3.Plugin.call(this, fig, props);\n",
              "    };\n",
              "\n",
              "    HtmlTooltipPlugin.prototype.draw = function(){\n",
              "        var obj = mpld3.get_element(this.props.id);\n",
              "        var labels = this.props.labels;\n",
              "        var targets = this.props.targets;\n",
              "        var tooltip = d3.select(\"body\").append(\"div\")\n",
              "            .attr(\"class\", \"mpld3-tooltip\")\n",
              "            .style(\"position\", \"absolute\")\n",
              "            .style(\"z-index\", \"10\")\n",
              "            .style(\"visibility\", \"hidden\");\n",
              "\n",
              "        obj.elements()\n",
              "            .on(\"mouseover\", function(d, i){\n",
              "                tooltip.html(labels[i])\n",
              "                    .style(\"visibility\", \"visible\");\n",
              "            })\n",
              "            .on(\"mousemove\", function(d, i){\n",
              "                tooltip\n",
              "                .style(\"top\", d3.event.pageY + this.props.voffset + \"px\")\n",
              "                .style(\"left\",d3.event.pageX + this.props.hoffset + \"px\");\n",
              "            }.bind(this))\n",
              "            .on(\"mousedown.callout\", function(d, i){\n",
              "                window.open(targets[i],\"_blank\");\n",
              "            })\n",
              "            .on(\"mouseout\", function(d, i){\n",
              "                tooltip.style(\"visibility\", \"hidden\");\n",
              "            });\n",
              "    };\n",
              "    \n",
              "    mpld3.register_plugin(\"toptoolbar\", TopToolbar);\n",
              "    TopToolbar.prototype = Object.create(mpld3.Plugin.prototype);\n",
              "    TopToolbar.prototype.constructor = TopToolbar;\n",
              "    function TopToolbar(fig, props){\n",
              "        mpld3.Plugin.call(this, fig, props);\n",
              "    };\n",
              "\n",
              "    TopToolbar.prototype.draw = function(){\n",
              "      // the toolbar svg doesn't exist\n",
              "      // yet, so first draw it\n",
              "      this.fig.toolbar.draw();\n",
              "\n",
              "      // then change the y position to be\n",
              "      // at the top of the figure\n",
              "      this.fig.toolbar.toolbar.attr(\"x\", 150);\n",
              "      this.fig.toolbar.toolbar.attr(\"y\", 400);\n",
              "\n",
              "      // then remove the draw function,\n",
              "      // so that it is not called again\n",
              "      this.fig.toolbar.draw = function() {}\n",
              "    }\n",
              "    \n",
              "    mpld3.register_plugin(\"htmltooltip\", HtmlTooltipPlugin);\n",
              "    HtmlTooltipPlugin.prototype = Object.create(mpld3.Plugin.prototype);\n",
              "    HtmlTooltipPlugin.prototype.constructor = HtmlTooltipPlugin;\n",
              "    HtmlTooltipPlugin.prototype.requiredProps = [\"id\"];\n",
              "    HtmlTooltipPlugin.prototype.defaultProps = {labels:null,\n",
              "                                                target:null,\n",
              "                                                hoffset:0,\n",
              "                                                voffset:10,\n",
              "                                                targets:null};\n",
              "    function HtmlTooltipPlugin(fig, props){\n",
              "        mpld3.Plugin.call(this, fig, props);\n",
              "    };\n",
              "\n",
              "    HtmlTooltipPlugin.prototype.draw = function(){\n",
              "        var obj = mpld3.get_element(this.props.id);\n",
              "        var labels = this.props.labels;\n",
              "        var targets = this.props.targets;\n",
              "        var tooltip = d3.select(\"body\").append(\"div\")\n",
              "            .attr(\"class\", \"mpld3-tooltip\")\n",
              "            .style(\"position\", \"absolute\")\n",
              "            .style(\"z-index\", \"10\")\n",
              "            .style(\"visibility\", \"hidden\");\n",
              "\n",
              "        obj.elements()\n",
              "            .on(\"mouseover\", function(d, i){\n",
              "                tooltip.html(labels[i])\n",
              "                    .style(\"visibility\", \"visible\");\n",
              "            })\n",
              "            .on(\"mousemove\", function(d, i){\n",
              "                tooltip\n",
              "                .style(\"top\", d3.event.pageY + this.props.voffset + \"px\")\n",
              "                .style(\"left\",d3.event.pageX + this.props.hoffset + \"px\");\n",
              "            }.bind(this))\n",
              "            .on(\"mousedown.callout\", function(d, i){\n",
              "                window.open(targets[i],\"_blank\");\n",
              "            })\n",
              "            .on(\"mouseout\", function(d, i){\n",
              "                tooltip.style(\"visibility\", \"hidden\");\n",
              "            });\n",
              "    };\n",
              "    \n",
              "    mpld3.register_plugin(\"toptoolbar\", TopToolbar);\n",
              "    TopToolbar.prototype = Object.create(mpld3.Plugin.prototype);\n",
              "    TopToolbar.prototype.constructor = TopToolbar;\n",
              "    function TopToolbar(fig, props){\n",
              "        mpld3.Plugin.call(this, fig, props);\n",
              "    };\n",
              "\n",
              "    TopToolbar.prototype.draw = function(){\n",
              "      // the toolbar svg doesn't exist\n",
              "      // yet, so first draw it\n",
              "      this.fig.toolbar.draw();\n",
              "\n",
              "      // then change the y position to be\n",
              "      // at the top of the figure\n",
              "      this.fig.toolbar.toolbar.attr(\"x\", 150);\n",
              "      this.fig.toolbar.toolbar.attr(\"y\", 400);\n",
              "\n",
              "      // then remove the draw function,\n",
              "      // so that it is not called again\n",
              "      this.fig.toolbar.draw = function() {}\n",
              "    }\n",
              "    \n",
              "    mpld3.register_plugin(\"htmltooltip\", HtmlTooltipPlugin);\n",
              "    HtmlTooltipPlugin.prototype = Object.create(mpld3.Plugin.prototype);\n",
              "    HtmlTooltipPlugin.prototype.constructor = HtmlTooltipPlugin;\n",
              "    HtmlTooltipPlugin.prototype.requiredProps = [\"id\"];\n",
              "    HtmlTooltipPlugin.prototype.defaultProps = {labels:null,\n",
              "                                                target:null,\n",
              "                                                hoffset:0,\n",
              "                                                voffset:10,\n",
              "                                                targets:null};\n",
              "    function HtmlTooltipPlugin(fig, props){\n",
              "        mpld3.Plugin.call(this, fig, props);\n",
              "    };\n",
              "\n",
              "    HtmlTooltipPlugin.prototype.draw = function(){\n",
              "        var obj = mpld3.get_element(this.props.id);\n",
              "        var labels = this.props.labels;\n",
              "        var targets = this.props.targets;\n",
              "        var tooltip = d3.select(\"body\").append(\"div\")\n",
              "            .attr(\"class\", \"mpld3-tooltip\")\n",
              "            .style(\"position\", \"absolute\")\n",
              "            .style(\"z-index\", \"10\")\n",
              "            .style(\"visibility\", \"hidden\");\n",
              "\n",
              "        obj.elements()\n",
              "            .on(\"mouseover\", function(d, i){\n",
              "                tooltip.html(labels[i])\n",
              "                    .style(\"visibility\", \"visible\");\n",
              "            })\n",
              "            .on(\"mousemove\", function(d, i){\n",
              "                tooltip\n",
              "                .style(\"top\", d3.event.pageY + this.props.voffset + \"px\")\n",
              "                .style(\"left\",d3.event.pageX + this.props.hoffset + \"px\");\n",
              "            }.bind(this))\n",
              "            .on(\"mousedown.callout\", function(d, i){\n",
              "                window.open(targets[i],\"_blank\");\n",
              "            })\n",
              "            .on(\"mouseout\", function(d, i){\n",
              "                tooltip.style(\"visibility\", \"hidden\");\n",
              "            });\n",
              "    };\n",
              "    \n",
              "    mpld3.register_plugin(\"toptoolbar\", TopToolbar);\n",
              "    TopToolbar.prototype = Object.create(mpld3.Plugin.prototype);\n",
              "    TopToolbar.prototype.constructor = TopToolbar;\n",
              "    function TopToolbar(fig, props){\n",
              "        mpld3.Plugin.call(this, fig, props);\n",
              "    };\n",
              "\n",
              "    TopToolbar.prototype.draw = function(){\n",
              "      // the toolbar svg doesn't exist\n",
              "      // yet, so first draw it\n",
              "      this.fig.toolbar.draw();\n",
              "\n",
              "      // then change the y position to be\n",
              "      // at the top of the figure\n",
              "      this.fig.toolbar.toolbar.attr(\"x\", 150);\n",
              "      this.fig.toolbar.toolbar.attr(\"y\", 400);\n",
              "\n",
              "      // then remove the draw function,\n",
              "      // so that it is not called again\n",
              "      this.fig.toolbar.draw = function() {}\n",
              "    }\n",
              "    \n",
              "         mpld3.draw_figure(\"fig_el133140092434836352855752880\", {\"width\": 1008.0, \"height\": 432.0, \"axes\": [{\"bbox\": [0.125, 0.125, 0.775, 0.755], \"xlim\": [-0.7022446245855734, 0.7098314809788802], \"ylim\": [-0.7081718721860418, 0.6939226674565514], \"xdomain\": [-0.7022446245855734, 0.7098314809788802], \"ydomain\": [-0.7081718721860418, 0.6939226674565514], \"xscale\": \"linear\", \"yscale\": \"linear\", \"axes\": [{\"position\": \"bottom\", \"nticks\": 0, \"tickvalues\": [], \"tickformat_formatter\": \"\", \"tickformat\": \"\", \"scale\": \"linear\", \"fontsize\": null, \"grid\": {\"gridOn\": false}, \"visible\": false}, {\"position\": \"left\", \"nticks\": 0, \"tickvalues\": [], \"tickformat_formatter\": \"\", \"tickformat\": \"\", \"scale\": \"linear\", \"fontsize\": null, \"grid\": {\"gridOn\": false}, \"visible\": false}], \"axesbg\": \"#FFFFFF\", \"axesbgalpha\": null, \"zoomable\": true, \"id\": \"el133140092430738528\", \"lines\": [], \"paths\": [{\"data\": \"data07\", \"xindex\": 0, \"yindex\": 1, \"coordinates\": \"axes\", \"pathcodes\": [\"M\", \"L\", \"S\", \"L\", \"S\", \"L\", \"S\", \"L\", \"S\", \"Z\"], \"id\": \"el133140092430476096\", \"dasharray\": \"none\", \"alpha\": 0.8, \"facecolor\": \"rgba(255, 255, 255, 0.8)\", \"edgecolor\": \"rgba(204, 204, 204, 0.8)\", \"edgewidth\": 1.0, \"zorder\": 1000000.0}], \"markers\": [{\"data\": \"data01\", \"xindex\": 0, \"yindex\": 1, \"coordinates\": \"data\", \"id\": \"el133140092430477440pts\", \"facecolor\": \"#1B9E77\", \"edgecolor\": \"none\", \"edgewidth\": 1.0, \"alpha\": 1, \"zorder\": 2, \"markerpath\": [[[0.0, 9.0], [2.3868279, 9.0], [4.676218837063681, 8.051703224294176], [6.3639610306789285, 6.3639610306789285], [8.051703224294176, 4.676218837063681], [9.0, 2.3868279], [9.0, 0.0], [9.0, -2.3868279], [8.051703224294176, -4.676218837063681], [6.3639610306789285, -6.3639610306789285], [4.676218837063681, -8.051703224294176], [2.3868279, -9.0], [0.0, -9.0], [-2.3868279, -9.0], [-4.676218837063681, -8.051703224294176], [-6.3639610306789285, -6.3639610306789285], [-8.051703224294176, -4.676218837063681], [-9.0, -2.3868279], [-9.0, 0.0], [-9.0, 2.3868279], [-8.051703224294176, 4.676218837063681], [-6.3639610306789285, 6.3639610306789285], [-4.676218837063681, 8.051703224294176], [-2.3868279, 9.0], [0.0, 9.0]], [\"M\", \"C\", \"C\", \"C\", \"C\", \"C\", \"C\", \"C\", \"C\", \"Z\"]]}, {\"data\": \"data02\", \"xindex\": 0, \"yindex\": 1, \"coordinates\": \"data\", \"id\": \"el133140092430476336pts\", \"facecolor\": \"#D95F02\", \"edgecolor\": \"none\", \"edgewidth\": 1.0, \"alpha\": 1, \"zorder\": 2, \"markerpath\": [[[0.0, 9.0], [2.3868279, 9.0], [4.676218837063681, 8.051703224294176], [6.3639610306789285, 6.3639610306789285], [8.051703224294176, 4.676218837063681], [9.0, 2.3868279], [9.0, 0.0], [9.0, -2.3868279], [8.051703224294176, -4.676218837063681], [6.3639610306789285, -6.3639610306789285], [4.676218837063681, -8.051703224294176], [2.3868279, -9.0], [0.0, -9.0], [-2.3868279, -9.0], [-4.676218837063681, -8.051703224294176], [-6.3639610306789285, -6.3639610306789285], [-8.051703224294176, -4.676218837063681], [-9.0, -2.3868279], [-9.0, 0.0], [-9.0, 2.3868279], [-8.051703224294176, 4.676218837063681], [-6.3639610306789285, 6.3639610306789285], [-4.676218837063681, 8.051703224294176], [-2.3868279, 9.0], [0.0, 9.0]], [\"M\", \"C\", \"C\", \"C\", \"C\", \"C\", \"C\", \"C\", \"C\", \"Z\"]]}, {\"data\": \"data03\", \"xindex\": 0, \"yindex\": 1, \"coordinates\": \"data\", \"id\": \"el133140092430476432pts\", \"facecolor\": \"#7570B3\", \"edgecolor\": \"none\", \"edgewidth\": 1.0, \"alpha\": 1, \"zorder\": 2, \"markerpath\": [[[0.0, 9.0], [2.3868279, 9.0], [4.676218837063681, 8.051703224294176], [6.3639610306789285, 6.3639610306789285], [8.051703224294176, 4.676218837063681], [9.0, 2.3868279], [9.0, 0.0], [9.0, -2.3868279], [8.051703224294176, -4.676218837063681], [6.3639610306789285, -6.3639610306789285], [4.676218837063681, -8.051703224294176], [2.3868279, -9.0], [0.0, -9.0], [-2.3868279, -9.0], [-4.676218837063681, -8.051703224294176], [-6.3639610306789285, -6.3639610306789285], [-8.051703224294176, -4.676218837063681], [-9.0, -2.3868279], [-9.0, 0.0], [-9.0, 2.3868279], [-8.051703224294176, 4.676218837063681], [-6.3639610306789285, 6.3639610306789285], [-4.676218837063681, 8.051703224294176], [-2.3868279, 9.0], [0.0, 9.0]], [\"M\", \"C\", \"C\", \"C\", \"C\", \"C\", \"C\", \"C\", \"C\", \"Z\"]]}, {\"data\": \"data04\", \"xindex\": 0, \"yindex\": 1, \"coordinates\": \"data\", \"id\": \"el133140092430524720pts\", \"facecolor\": \"#E7298A\", \"edgecolor\": \"none\", \"edgewidth\": 1.0, \"alpha\": 1, \"zorder\": 2, \"markerpath\": [[[0.0, 9.0], [2.3868279, 9.0], [4.676218837063681, 8.051703224294176], [6.3639610306789285, 6.3639610306789285], [8.051703224294176, 4.676218837063681], [9.0, 2.3868279], [9.0, 0.0], [9.0, -2.3868279], [8.051703224294176, -4.676218837063681], [6.3639610306789285, -6.3639610306789285], [4.676218837063681, -8.051703224294176], [2.3868279, -9.0], [0.0, -9.0], [-2.3868279, -9.0], [-4.676218837063681, -8.051703224294176], [-6.3639610306789285, -6.3639610306789285], [-8.051703224294176, -4.676218837063681], [-9.0, -2.3868279], [-9.0, 0.0], [-9.0, 2.3868279], [-8.051703224294176, 4.676218837063681], [-6.3639610306789285, 6.3639610306789285], [-4.676218837063681, 8.051703224294176], [-2.3868279, 9.0], [0.0, 9.0]], [\"M\", \"C\", \"C\", \"C\", \"C\", \"C\", \"C\", \"C\", \"C\", \"Z\"]]}, {\"data\": \"data05\", \"xindex\": 0, \"yindex\": 1, \"coordinates\": \"data\", \"id\": \"el133140092431248784pts\", \"facecolor\": \"#66A61E\", \"edgecolor\": \"none\", \"edgewidth\": 1.0, \"alpha\": 1, \"zorder\": 2, \"markerpath\": [[[0.0, 9.0], [2.3868279, 9.0], [4.676218837063681, 8.051703224294176], [6.3639610306789285, 6.3639610306789285], [8.051703224294176, 4.676218837063681], [9.0, 2.3868279], [9.0, 0.0], [9.0, -2.3868279], [8.051703224294176, -4.676218837063681], [6.3639610306789285, -6.3639610306789285], [4.676218837063681, -8.051703224294176], [2.3868279, -9.0], [0.0, -9.0], [-2.3868279, -9.0], [-4.676218837063681, -8.051703224294176], [-6.3639610306789285, -6.3639610306789285], [-8.051703224294176, -4.676218837063681], [-9.0, -2.3868279], [-9.0, 0.0], [-9.0, 2.3868279], [-8.051703224294176, 4.676218837063681], [-6.3639610306789285, 6.3639610306789285], [-4.676218837063681, 8.051703224294176], [-2.3868279, 9.0], [0.0, 9.0]], [\"M\", \"C\", \"C\", \"C\", \"C\", \"C\", \"C\", \"C\", \"C\", \"Z\"]]}, {\"data\": \"data06\", \"xindex\": 0, \"yindex\": 1, \"coordinates\": \"axes\", \"id\": \"el133140092430526400pts\", \"facecolor\": \"#1B9E77\", \"edgecolor\": \"none\", \"edgewidth\": 1.0, \"alpha\": 1, \"zorder\": 1000002.0, \"markerpath\": [[[0.0, 9.0], [2.3868279, 9.0], [4.676218837063681, 8.051703224294176], [6.3639610306789285, 6.3639610306789285], [8.051703224294176, 4.676218837063681], [9.0, 2.3868279], [9.0, 0.0], [9.0, -2.3868279], [8.051703224294176, -4.676218837063681], [6.3639610306789285, -6.3639610306789285], [4.676218837063681, -8.051703224294176], [2.3868279, -9.0], [0.0, -9.0], [-2.3868279, -9.0], [-4.676218837063681, -8.051703224294176], [-6.3639610306789285, -6.3639610306789285], [-8.051703224294176, -4.676218837063681], [-9.0, -2.3868279], [-9.0, 0.0], [-9.0, 2.3868279], [-8.051703224294176, 4.676218837063681], [-6.3639610306789285, 6.3639610306789285], [-4.676218837063681, 8.051703224294176], [-2.3868279, 9.0], [0.0, 9.0]], [\"M\", \"C\", \"C\", \"C\", \"C\", \"C\", \"C\", \"C\", \"C\", \"Z\"]]}, {\"data\": \"data06\", \"xindex\": 0, \"yindex\": 2, \"coordinates\": \"axes\", \"id\": \"el133140092430527888pts\", \"facecolor\": \"#D95F02\", \"edgecolor\": \"none\", \"edgewidth\": 1.0, \"alpha\": 1, \"zorder\": 1000002.0, \"markerpath\": [[[0.0, 9.0], [2.3868279, 9.0], [4.676218837063681, 8.051703224294176], [6.3639610306789285, 6.3639610306789285], [8.051703224294176, 4.676218837063681], [9.0, 2.3868279], [9.0, 0.0], [9.0, -2.3868279], [8.051703224294176, -4.676218837063681], [6.3639610306789285, -6.3639610306789285], [4.676218837063681, -8.051703224294176], [2.3868279, -9.0], [0.0, -9.0], [-2.3868279, -9.0], [-4.676218837063681, -8.051703224294176], [-6.3639610306789285, -6.3639610306789285], [-8.051703224294176, -4.676218837063681], [-9.0, -2.3868279], [-9.0, 0.0], [-9.0, 2.3868279], [-8.051703224294176, 4.676218837063681], [-6.3639610306789285, 6.3639610306789285], [-4.676218837063681, 8.051703224294176], [-2.3868279, 9.0], [0.0, 9.0]], [\"M\", \"C\", \"C\", \"C\", \"C\", \"C\", \"C\", \"C\", \"C\", \"Z\"]]}, {\"data\": \"data06\", \"xindex\": 0, \"yindex\": 3, \"coordinates\": \"axes\", \"id\": \"el133140092430562208pts\", \"facecolor\": \"#7570B3\", \"edgecolor\": \"none\", \"edgewidth\": 1.0, \"alpha\": 1, \"zorder\": 1000002.0, \"markerpath\": [[[0.0, 9.0], [2.3868279, 9.0], [4.676218837063681, 8.051703224294176], [6.3639610306789285, 6.3639610306789285], [8.051703224294176, 4.676218837063681], [9.0, 2.3868279], [9.0, 0.0], [9.0, -2.3868279], [8.051703224294176, -4.676218837063681], [6.3639610306789285, -6.3639610306789285], [4.676218837063681, -8.051703224294176], [2.3868279, -9.0], [0.0, -9.0], [-2.3868279, -9.0], [-4.676218837063681, -8.051703224294176], [-6.3639610306789285, -6.3639610306789285], [-8.051703224294176, -4.676218837063681], [-9.0, -2.3868279], [-9.0, 0.0], [-9.0, 2.3868279], [-8.051703224294176, 4.676218837063681], [-6.3639610306789285, 6.3639610306789285], [-4.676218837063681, 8.051703224294176], [-2.3868279, 9.0], [0.0, 9.0]], [\"M\", \"C\", \"C\", \"C\", \"C\", \"C\", \"C\", \"C\", \"C\", \"Z\"]]}, {\"data\": \"data06\", \"xindex\": 0, \"yindex\": 4, \"coordinates\": \"axes\", \"id\": \"el133140092430563696pts\", \"facecolor\": \"#E7298A\", \"edgecolor\": \"none\", \"edgewidth\": 1.0, \"alpha\": 1, \"zorder\": 1000002.0, \"markerpath\": [[[0.0, 9.0], [2.3868279, 9.0], [4.676218837063681, 8.051703224294176], [6.3639610306789285, 6.3639610306789285], [8.051703224294176, 4.676218837063681], [9.0, 2.3868279], [9.0, 0.0], [9.0, -2.3868279], [8.051703224294176, -4.676218837063681], [6.3639610306789285, -6.3639610306789285], [4.676218837063681, -8.051703224294176], [2.3868279, -9.0], [0.0, -9.0], [-2.3868279, -9.0], [-4.676218837063681, -8.051703224294176], [-6.3639610306789285, -6.3639610306789285], [-8.051703224294176, -4.676218837063681], [-9.0, -2.3868279], [-9.0, 0.0], [-9.0, 2.3868279], [-8.051703224294176, 4.676218837063681], [-6.3639610306789285, 6.3639610306789285], [-4.676218837063681, 8.051703224294176], [-2.3868279, 9.0], [0.0, 9.0]], [\"M\", \"C\", \"C\", \"C\", \"C\", \"C\", \"C\", \"C\", \"C\", \"Z\"]]}, {\"data\": \"data06\", \"xindex\": 0, \"yindex\": 5, \"coordinates\": \"axes\", \"id\": \"el133140092430565184pts\", \"facecolor\": \"#66A61E\", \"edgecolor\": \"none\", \"edgewidth\": 1.0, \"alpha\": 1, \"zorder\": 1000002.0, \"markerpath\": [[[0.0, 9.0], [2.3868279, 9.0], [4.676218837063681, 8.051703224294176], [6.3639610306789285, 6.3639610306789285], [8.051703224294176, 4.676218837063681], [9.0, 2.3868279], [9.0, 0.0], [9.0, -2.3868279], [8.051703224294176, -4.676218837063681], [6.3639610306789285, -6.3639610306789285], [4.676218837063681, -8.051703224294176], [2.3868279, -9.0], [0.0, -9.0], [-2.3868279, -9.0], [-4.676218837063681, -8.051703224294176], [-6.3639610306789285, -6.3639610306789285], [-8.051703224294176, -4.676218837063681], [-9.0, -2.3868279], [-9.0, 0.0], [-9.0, 2.3868279], [-8.051703224294176, 4.676218837063681], [-6.3639610306789285, 6.3639610306789285], [-4.676218837063681, 8.051703224294176], [-2.3868279, 9.0], [0.0, 9.0]], [\"M\", \"C\", \"C\", \"C\", \"C\", \"C\", \"C\", \"C\", \"C\", \"Z\"]]}], \"texts\": [{\"text\": \"Family, home, war\", \"position\": [0.8204685099846392, 0.21768457198920774], \"coordinates\": \"axes\", \"h_anchor\": \"start\", \"v_baseline\": \"auto\", \"rotation\": -0.0, \"fontsize\": 10.0, \"color\": \"#000000\", \"alpha\": 1, \"zorder\": 1000003.0, \"id\": \"el133140092430525728\"}, {\"text\": \"Police, killed, murders\", \"position\": [0.8204685099846392, 0.17169487368162864], \"coordinates\": \"axes\", \"h_anchor\": \"start\", \"v_baseline\": \"auto\", \"rotation\": -0.0, \"fontsize\": 10.0, \"color\": \"#000000\", \"alpha\": 1, \"zorder\": 1000003.0, \"id\": \"el133140092430527216\"}, {\"text\": \"Father, New York, brothers\", \"position\": [0.8204685099846392, 0.12570517537404954], \"coordinates\": \"axes\", \"h_anchor\": \"start\", \"v_baseline\": \"auto\", \"rotation\": -0.0, \"fontsize\": 10.0, \"color\": \"#000000\", \"alpha\": 1, \"zorder\": 1000003.0, \"id\": \"el133140092430561536\"}, {\"text\": \"Dance, singing, love\", \"position\": [0.8204685099846392, 0.07971547706647045], \"coordinates\": \"axes\", \"h_anchor\": \"start\", \"v_baseline\": \"auto\", \"rotation\": -0.0, \"fontsize\": 10.0, \"color\": \"#000000\", \"alpha\": 1, \"zorder\": 1000003.0, \"id\": \"el133140092430563024\"}, {\"text\": \"Killed, soldiers, captain\", \"position\": [0.8204685099846392, 0.03372577875889135], \"coordinates\": \"axes\", \"h_anchor\": \"start\", \"v_baseline\": \"auto\", \"rotation\": -0.0, \"fontsize\": 10.0, \"color\": \"#000000\", \"alpha\": 1, \"zorder\": 1000003.0, \"id\": \"el133140092430564512\"}], \"collections\": [], \"images\": [], \"sharex\": [], \"sharey\": []}], \"data\": {\"data01\": [[0.44206412093578173, -0.27869804841256207], [-0.2587368350262618, -0.26527516559786957], [0.05822957027256338, 0.256929533865531], [-0.43458221470796804, -0.29655933230579506], [-0.22775176430437058, 0.06867225264698684], [-0.4301218469327288, 0.28528616015883534], [-0.3527560545316662, 0.12706104279951017], [-0.05321665416838313, 0.12337031922670556], [-0.4842963450926421, 0.17299124057611814], [0.19843842072642093, -0.3892916828503908], [-0.02172250207705443, -0.04277898807708071], [0.3500865831297658, -0.33952163222346426], [0.5177811917071925, -0.2536618659106638], [-0.5523024142568739, -0.22470452093169108], [-0.34166783709147913, 0.6344444329502953], [-0.17157923142425296, 0.23225249097460976], [0.5307508765954988, 0.1293499548695287], [0.4157900555927239, 0.4066680050040376], [0.4335012948307977, 0.14567214405204687], [-0.15353411958657529, -0.3013348801222534], [-0.22754763513663467, -0.45049222698404334], [-0.28445673314938785, 0.27573355826080437], [0.21436568495015884, 0.21833323177235375], [-0.0697835765252865, 0.5697755231183568], [-0.5962489128496042, 0.19029081995111047], [0.18357552763037874, 0.3029327061666986], [-0.0876522433589088, -0.20078309954756865], [-0.45990623558854987, 0.007717409858540057], [-0.3031164788430419, 0.47587091621770383], [0.6448729810407794, -0.1557495377370637], [-0.028860474947472948, 0.6542407465232705], [0.12564351913288888, 0.4177899987124327], [-0.3416411136605303, 0.036359351999961084], [-0.551459865435424, 0.3351166974656385], [0.2751629686852379, -0.2942902403479915], [-0.3243379724030205, 0.3312099814646893], [-0.6012517387271848, -0.0418859194691775], [-0.34156011933518005, -0.06836233054197617], [-0.3394231160832892, -0.1511074564578018], [-0.5521585808438269, 0.028891781654075178], [0.1850753249911779, 0.5789634882504009], [-0.4660099693912445, -0.09927639405993571], [-0.5791042079012638, 0.2903462882632784], [-0.5810674876200954, 0.10583683075043433], [-0.20835174801118317, -0.05859486722959816], [-0.19967295689696812, 0.006401158105055958]], \"data02\": [[-0.2509077886527682, -0.5748301691298103], [-0.0822211719046293, -0.5783371225442145], [-0.016415337094761003, -0.6356033887664564], [0.24381678674291052, -0.5041387862290508], [0.08011541418687525, -0.4798779364145004], [-0.1524708594907454, -0.3409184384980287], [-0.020101379300060913, -0.3570984271707861], [0.1287536654528344, -0.6684899512527609], [0.4928973738021543, -0.14112529581269717], [-0.11274056497585859, -0.49926901658843537], [0.18267302179861425, -0.5787625309524596], [-0.18334149000822167, -0.5551280766277863], [0.5655872568440865, 0.3427492412662697], [-0.5674182514385872, -0.35374010333970207], [0.6688477850887058, -0.08783283749852551]], \"data03\": [[0.4184044202336738, 0.5850489899951163], [0.6698670628968674, 0.11896605280395367], [0.4020451359180303, 0.49856493148445374], [0.6677334884276219, 0.2695002905230577], [-0.02234991385406897, 0.3387044447457824], [0.6273622875630892, 0.3594269833423288]], \"data04\": [[0.1842728439475597, -0.011715611328299623], [-0.03159215088404366, -0.45663791320402886], [-0.13227195754649126, 0.5745384801472381], [0.058399024554247426, -0.04612821871658942], [0.011707339999011584, 0.4624485755347979], [0.6037432800571017, -0.3456991338989089], [0.07164980401234082, 0.13140842985205484], [0.3548063612344581, 0.008230388449868098], [0.34339799473545496, 0.24588751780959872], [-0.20377837648670416, 0.5597732710930737], [0.31820603526510766, 0.08767290955547546], [-0.19657213727582853, 0.39573854896210925], [0.3442345942883043, -0.13024993477969463], [0.1607366978752424, -0.11945297477856227], [-0.34789814258235424, -0.3258509720117311], [-0.3609008933642027, -0.48196142317941265], [-0.6622802065035606, -0.20503714364142692], [0.1563795065783695, -0.21300821701033482], [0.20869950117396832, 0.06431546201598057], [-0.42084558901816005, 0.46273188035729895], [-0.18141401157117412, 0.47664757937416014], [0.12067866743532428, 0.4813363821584589], [0.21979780091087622, 0.48012585338200914], [0.48195453604347716, 0.008013240019345533], [0.4758882198147056, -0.4358383186309247], [0.3243862951002719, -0.45653595159186383]], \"data05\": [[0.5523203950143739, 0.4906695451776374], [0.019707608446931178, -0.6360131358153785], [0.07969434882060063, -0.3889371661029437], [0.06214704621807539, 0.6101371440051012], [-0.4533760890831642, -0.4451810757043979], [0.33498008050466554, -0.6458620573675335], [-0.18645450426356014, 0.150485309679993]], \"data06\": [[0.7846262160778291, 0.22841550159430954, 0.18242580328673044, 0.13643610497915135, 0.09044640667157224, 0.04445670836399314], [0.7974270353302613, 0.22841550159430954, 0.18242580328673044, 0.13643610497915135, 0.09044640667157224, 0.04445670836399314], [0.8102278545826934, 0.22841550159430954, 0.18242580328673044, 0.13643610497915135, 0.09044640667157224, 0.04445670836399314]], \"data07\": [[0.7820660522273426, 0.015329899435859717], [0.9910394265232977, 0.015329899435859717], [0.9935995903737841, 0.015329899435859717], [0.9935995903737841, 0.021461859210203577], [0.9935995903737841, 0.24834437086092717], [0.9935995903737841, 0.254476330635271], [0.9910394265232977, 0.254476330635271], [0.7820660522273426, 0.254476330635271], [0.7795058883768562, 0.254476330635271], [0.7795058883768562, 0.24834437086092717], [0.7795058883768562, 0.021461859210203577], [0.7795058883768562, 0.015329899435859717], [0.7820660522273426, 0.015329899435859717]]}, \"id\": \"el133140092434836352\", \"plugins\": [{\"type\": \"reset\"}, {\"type\": \"zoom\", \"button\": true, \"enabled\": false}, {\"type\": \"boxzoom\", \"button\": true, \"enabled\": false}, {\"type\": \"htmltooltip\", \"id\": \"el133140092430477440pts\", \"labels\": [\"The Shawshank Redemption\", \"Casablanca\", \"One Flew Over the Cuckoo's Nest\", \"The Wizard of Oz\", \"Psycho\", \"Sunset Blvd.\", \"Vertigo\", \"On the Waterfront\", \"West Side Story\", \"Star Wars\", \"E.T. the Extra-Terrestrial\", \"2001: A Space Odyssey\", \"The Silence of the Lambs\", \"Chinatown\", \"Singin' in the Rain\", \"Some Like It Hot\", \"12 Angry Men\", \"Amadeus\", \"Gandhi\", \"Unforgiven\", \"Raiders of the Lost Ark\", \"Rocky\", \"To Kill a Mockingbird\", \"The Good, the Bad and the Ugly\", \"The Apartment\", \"The Exorcist\", \"The Deer Hunter\", \"The French Connection\", \"Midnight Cowboy\", \"Mr. Smith Goes to Washington\", \"Annie Hall\", \"Good Will Hunting\", \"Fargo\", \"Shane\", \"Close Encounters of the Third Kind\", \"The Graduate\", \"American Graffiti\", \"Pulp Fiction\", \"The Maltese Falcon\", \"Taxi Driver\", \"Wuthering Heights\", \"Double Indemnity\", \"Rebel Without a Cause\", \"Rear Window\", \"The Third Man\", \"North by Northwest\"], \"targets\": null, \"hoffset\": 10, \"voffset\": 10}, {\"type\": \"toptoolbar\"}, {\"type\": \"htmltooltip\", \"id\": \"el133140092430476336pts\", \"labels\": [\"Lawrence of Arabia\", \"The Bridge on the River Kwai\", \"Dr. Strangelove or: How I Learned to Stop Worrying and Love the Bomb\", \"The Lord of the Rings: The Return of the King\", \"Gladiator\", \"From Here to Eternity\", \"Saving Private Ryan\", \"Patton\", \"Braveheart\", \"Platoon\", \"Dances with Wolves\", \"All Quiet on the Western Front\", \"City Lights\", \"The Green Mile\", \"Network\"], \"targets\": null, \"hoffset\": 10, \"voffset\": 10}, {\"type\": \"toptoolbar\"}, {\"type\": \"htmltooltip\", \"id\": \"el133140092430476432pts\", \"labels\": [\"It's a Wonderful Life\", \"The Philadelphia Story\", \"The King's Speech\", \"A Place in the Sun\", \"Tootsie\", \"Yankee Doodle Dandy\"], \"targets\": null, \"hoffset\": 10, \"voffset\": 10}, {\"type\": \"toptoolbar\"}, {\"type\": \"htmltooltip\", \"id\": \"el133140092430524720pts\", \"labels\": [\"The Godfather\", \"Schindler's List\", \"Raging Bull\", \"Gone with the Wind\", \"Citizen Kane\", \"Titanic\", \"The Godfather: Part II\", \"Forrest Gump\", \"A Streetcar Named Desire\", \"An American in Paris\", \"The Best Years of Our Lives\", \"My Fair Lady\", \"Ben-Hur\", \"Doctor Zhivago\", \"Butch Cassidy and the Sundance Kid\", \"The Treasure of the Sierra Madre\", \"High Noon\", \"The Pianist\", \"Goodfellas\", \"It Happened One Night\", \"Rain Man\", \"Out of Africa\", \"Terms of Endearment\", \"Giant\", \"The Grapes of Wrath\", \"Stagecoach\"], \"targets\": null, \"hoffset\": 10, \"voffset\": 10}, {\"type\": \"toptoolbar\"}, {\"type\": \"htmltooltip\", \"id\": \"el133140092431248784pts\", \"labels\": [\"The Sound of Music\", \"Apocalypse Now\", \"Jaws\", \"Nashville\", \"The African Queen\", \"Mutiny on the Bounty\", \"A Clockwork Orange\"], \"targets\": null, \"hoffset\": 10, \"voffset\": 10}, {\"type\": \"toptoolbar\"}]});\n",
              "      });\n",
              "    });\n",
              "}else{\n",
              "    // require.js not available: dynamically load d3 & mpld3\n",
              "    mpld3_load_lib(\"https://d3js.org/d3.v5.js\", function(){\n",
              "         mpld3_load_lib(\"https://mpld3.github.io/js/mpld3.v0.5.9.js\", function(){\n",
              "                 \n",
              "    mpld3.register_plugin(\"htmltooltip\", HtmlTooltipPlugin);\n",
              "    HtmlTooltipPlugin.prototype = Object.create(mpld3.Plugin.prototype);\n",
              "    HtmlTooltipPlugin.prototype.constructor = HtmlTooltipPlugin;\n",
              "    HtmlTooltipPlugin.prototype.requiredProps = [\"id\"];\n",
              "    HtmlTooltipPlugin.prototype.defaultProps = {labels:null,\n",
              "                                                target:null,\n",
              "                                                hoffset:0,\n",
              "                                                voffset:10,\n",
              "                                                targets:null};\n",
              "    function HtmlTooltipPlugin(fig, props){\n",
              "        mpld3.Plugin.call(this, fig, props);\n",
              "    };\n",
              "\n",
              "    HtmlTooltipPlugin.prototype.draw = function(){\n",
              "        var obj = mpld3.get_element(this.props.id);\n",
              "        var labels = this.props.labels;\n",
              "        var targets = this.props.targets;\n",
              "        var tooltip = d3.select(\"body\").append(\"div\")\n",
              "            .attr(\"class\", \"mpld3-tooltip\")\n",
              "            .style(\"position\", \"absolute\")\n",
              "            .style(\"z-index\", \"10\")\n",
              "            .style(\"visibility\", \"hidden\");\n",
              "\n",
              "        obj.elements()\n",
              "            .on(\"mouseover\", function(d, i){\n",
              "                tooltip.html(labels[i])\n",
              "                    .style(\"visibility\", \"visible\");\n",
              "            })\n",
              "            .on(\"mousemove\", function(d, i){\n",
              "                tooltip\n",
              "                .style(\"top\", d3.event.pageY + this.props.voffset + \"px\")\n",
              "                .style(\"left\",d3.event.pageX + this.props.hoffset + \"px\");\n",
              "            }.bind(this))\n",
              "            .on(\"mousedown.callout\", function(d, i){\n",
              "                window.open(targets[i],\"_blank\");\n",
              "            })\n",
              "            .on(\"mouseout\", function(d, i){\n",
              "                tooltip.style(\"visibility\", \"hidden\");\n",
              "            });\n",
              "    };\n",
              "    \n",
              "    mpld3.register_plugin(\"toptoolbar\", TopToolbar);\n",
              "    TopToolbar.prototype = Object.create(mpld3.Plugin.prototype);\n",
              "    TopToolbar.prototype.constructor = TopToolbar;\n",
              "    function TopToolbar(fig, props){\n",
              "        mpld3.Plugin.call(this, fig, props);\n",
              "    };\n",
              "\n",
              "    TopToolbar.prototype.draw = function(){\n",
              "      // the toolbar svg doesn't exist\n",
              "      // yet, so first draw it\n",
              "      this.fig.toolbar.draw();\n",
              "\n",
              "      // then change the y position to be\n",
              "      // at the top of the figure\n",
              "      this.fig.toolbar.toolbar.attr(\"x\", 150);\n",
              "      this.fig.toolbar.toolbar.attr(\"y\", 400);\n",
              "\n",
              "      // then remove the draw function,\n",
              "      // so that it is not called again\n",
              "      this.fig.toolbar.draw = function() {}\n",
              "    }\n",
              "    \n",
              "    mpld3.register_plugin(\"htmltooltip\", HtmlTooltipPlugin);\n",
              "    HtmlTooltipPlugin.prototype = Object.create(mpld3.Plugin.prototype);\n",
              "    HtmlTooltipPlugin.prototype.constructor = HtmlTooltipPlugin;\n",
              "    HtmlTooltipPlugin.prototype.requiredProps = [\"id\"];\n",
              "    HtmlTooltipPlugin.prototype.defaultProps = {labels:null,\n",
              "                                                target:null,\n",
              "                                                hoffset:0,\n",
              "                                                voffset:10,\n",
              "                                                targets:null};\n",
              "    function HtmlTooltipPlugin(fig, props){\n",
              "        mpld3.Plugin.call(this, fig, props);\n",
              "    };\n",
              "\n",
              "    HtmlTooltipPlugin.prototype.draw = function(){\n",
              "        var obj = mpld3.get_element(this.props.id);\n",
              "        var labels = this.props.labels;\n",
              "        var targets = this.props.targets;\n",
              "        var tooltip = d3.select(\"body\").append(\"div\")\n",
              "            .attr(\"class\", \"mpld3-tooltip\")\n",
              "            .style(\"position\", \"absolute\")\n",
              "            .style(\"z-index\", \"10\")\n",
              "            .style(\"visibility\", \"hidden\");\n",
              "\n",
              "        obj.elements()\n",
              "            .on(\"mouseover\", function(d, i){\n",
              "                tooltip.html(labels[i])\n",
              "                    .style(\"visibility\", \"visible\");\n",
              "            })\n",
              "            .on(\"mousemove\", function(d, i){\n",
              "                tooltip\n",
              "                .style(\"top\", d3.event.pageY + this.props.voffset + \"px\")\n",
              "                .style(\"left\",d3.event.pageX + this.props.hoffset + \"px\");\n",
              "            }.bind(this))\n",
              "            .on(\"mousedown.callout\", function(d, i){\n",
              "                window.open(targets[i],\"_blank\");\n",
              "            })\n",
              "            .on(\"mouseout\", function(d, i){\n",
              "                tooltip.style(\"visibility\", \"hidden\");\n",
              "            });\n",
              "    };\n",
              "    \n",
              "    mpld3.register_plugin(\"toptoolbar\", TopToolbar);\n",
              "    TopToolbar.prototype = Object.create(mpld3.Plugin.prototype);\n",
              "    TopToolbar.prototype.constructor = TopToolbar;\n",
              "    function TopToolbar(fig, props){\n",
              "        mpld3.Plugin.call(this, fig, props);\n",
              "    };\n",
              "\n",
              "    TopToolbar.prototype.draw = function(){\n",
              "      // the toolbar svg doesn't exist\n",
              "      // yet, so first draw it\n",
              "      this.fig.toolbar.draw();\n",
              "\n",
              "      // then change the y position to be\n",
              "      // at the top of the figure\n",
              "      this.fig.toolbar.toolbar.attr(\"x\", 150);\n",
              "      this.fig.toolbar.toolbar.attr(\"y\", 400);\n",
              "\n",
              "      // then remove the draw function,\n",
              "      // so that it is not called again\n",
              "      this.fig.toolbar.draw = function() {}\n",
              "    }\n",
              "    \n",
              "    mpld3.register_plugin(\"htmltooltip\", HtmlTooltipPlugin);\n",
              "    HtmlTooltipPlugin.prototype = Object.create(mpld3.Plugin.prototype);\n",
              "    HtmlTooltipPlugin.prototype.constructor = HtmlTooltipPlugin;\n",
              "    HtmlTooltipPlugin.prototype.requiredProps = [\"id\"];\n",
              "    HtmlTooltipPlugin.prototype.defaultProps = {labels:null,\n",
              "                                                target:null,\n",
              "                                                hoffset:0,\n",
              "                                                voffset:10,\n",
              "                                                targets:null};\n",
              "    function HtmlTooltipPlugin(fig, props){\n",
              "        mpld3.Plugin.call(this, fig, props);\n",
              "    };\n",
              "\n",
              "    HtmlTooltipPlugin.prototype.draw = function(){\n",
              "        var obj = mpld3.get_element(this.props.id);\n",
              "        var labels = this.props.labels;\n",
              "        var targets = this.props.targets;\n",
              "        var tooltip = d3.select(\"body\").append(\"div\")\n",
              "            .attr(\"class\", \"mpld3-tooltip\")\n",
              "            .style(\"position\", \"absolute\")\n",
              "            .style(\"z-index\", \"10\")\n",
              "            .style(\"visibility\", \"hidden\");\n",
              "\n",
              "        obj.elements()\n",
              "            .on(\"mouseover\", function(d, i){\n",
              "                tooltip.html(labels[i])\n",
              "                    .style(\"visibility\", \"visible\");\n",
              "            })\n",
              "            .on(\"mousemove\", function(d, i){\n",
              "                tooltip\n",
              "                .style(\"top\", d3.event.pageY + this.props.voffset + \"px\")\n",
              "                .style(\"left\",d3.event.pageX + this.props.hoffset + \"px\");\n",
              "            }.bind(this))\n",
              "            .on(\"mousedown.callout\", function(d, i){\n",
              "                window.open(targets[i],\"_blank\");\n",
              "            })\n",
              "            .on(\"mouseout\", function(d, i){\n",
              "                tooltip.style(\"visibility\", \"hidden\");\n",
              "            });\n",
              "    };\n",
              "    \n",
              "    mpld3.register_plugin(\"toptoolbar\", TopToolbar);\n",
              "    TopToolbar.prototype = Object.create(mpld3.Plugin.prototype);\n",
              "    TopToolbar.prototype.constructor = TopToolbar;\n",
              "    function TopToolbar(fig, props){\n",
              "        mpld3.Plugin.call(this, fig, props);\n",
              "    };\n",
              "\n",
              "    TopToolbar.prototype.draw = function(){\n",
              "      // the toolbar svg doesn't exist\n",
              "      // yet, so first draw it\n",
              "      this.fig.toolbar.draw();\n",
              "\n",
              "      // then change the y position to be\n",
              "      // at the top of the figure\n",
              "      this.fig.toolbar.toolbar.attr(\"x\", 150);\n",
              "      this.fig.toolbar.toolbar.attr(\"y\", 400);\n",
              "\n",
              "      // then remove the draw function,\n",
              "      // so that it is not called again\n",
              "      this.fig.toolbar.draw = function() {}\n",
              "    }\n",
              "    \n",
              "    mpld3.register_plugin(\"htmltooltip\", HtmlTooltipPlugin);\n",
              "    HtmlTooltipPlugin.prototype = Object.create(mpld3.Plugin.prototype);\n",
              "    HtmlTooltipPlugin.prototype.constructor = HtmlTooltipPlugin;\n",
              "    HtmlTooltipPlugin.prototype.requiredProps = [\"id\"];\n",
              "    HtmlTooltipPlugin.prototype.defaultProps = {labels:null,\n",
              "                                                target:null,\n",
              "                                                hoffset:0,\n",
              "                                                voffset:10,\n",
              "                                                targets:null};\n",
              "    function HtmlTooltipPlugin(fig, props){\n",
              "        mpld3.Plugin.call(this, fig, props);\n",
              "    };\n",
              "\n",
              "    HtmlTooltipPlugin.prototype.draw = function(){\n",
              "        var obj = mpld3.get_element(this.props.id);\n",
              "        var labels = this.props.labels;\n",
              "        var targets = this.props.targets;\n",
              "        var tooltip = d3.select(\"body\").append(\"div\")\n",
              "            .attr(\"class\", \"mpld3-tooltip\")\n",
              "            .style(\"position\", \"absolute\")\n",
              "            .style(\"z-index\", \"10\")\n",
              "            .style(\"visibility\", \"hidden\");\n",
              "\n",
              "        obj.elements()\n",
              "            .on(\"mouseover\", function(d, i){\n",
              "                tooltip.html(labels[i])\n",
              "                    .style(\"visibility\", \"visible\");\n",
              "            })\n",
              "            .on(\"mousemove\", function(d, i){\n",
              "                tooltip\n",
              "                .style(\"top\", d3.event.pageY + this.props.voffset + \"px\")\n",
              "                .style(\"left\",d3.event.pageX + this.props.hoffset + \"px\");\n",
              "            }.bind(this))\n",
              "            .on(\"mousedown.callout\", function(d, i){\n",
              "                window.open(targets[i],\"_blank\");\n",
              "            })\n",
              "            .on(\"mouseout\", function(d, i){\n",
              "                tooltip.style(\"visibility\", \"hidden\");\n",
              "            });\n",
              "    };\n",
              "    \n",
              "    mpld3.register_plugin(\"toptoolbar\", TopToolbar);\n",
              "    TopToolbar.prototype = Object.create(mpld3.Plugin.prototype);\n",
              "    TopToolbar.prototype.constructor = TopToolbar;\n",
              "    function TopToolbar(fig, props){\n",
              "        mpld3.Plugin.call(this, fig, props);\n",
              "    };\n",
              "\n",
              "    TopToolbar.prototype.draw = function(){\n",
              "      // the toolbar svg doesn't exist\n",
              "      // yet, so first draw it\n",
              "      this.fig.toolbar.draw();\n",
              "\n",
              "      // then change the y position to be\n",
              "      // at the top of the figure\n",
              "      this.fig.toolbar.toolbar.attr(\"x\", 150);\n",
              "      this.fig.toolbar.toolbar.attr(\"y\", 400);\n",
              "\n",
              "      // then remove the draw function,\n",
              "      // so that it is not called again\n",
              "      this.fig.toolbar.draw = function() {}\n",
              "    }\n",
              "    \n",
              "    mpld3.register_plugin(\"htmltooltip\", HtmlTooltipPlugin);\n",
              "    HtmlTooltipPlugin.prototype = Object.create(mpld3.Plugin.prototype);\n",
              "    HtmlTooltipPlugin.prototype.constructor = HtmlTooltipPlugin;\n",
              "    HtmlTooltipPlugin.prototype.requiredProps = [\"id\"];\n",
              "    HtmlTooltipPlugin.prototype.defaultProps = {labels:null,\n",
              "                                                target:null,\n",
              "                                                hoffset:0,\n",
              "                                                voffset:10,\n",
              "                                                targets:null};\n",
              "    function HtmlTooltipPlugin(fig, props){\n",
              "        mpld3.Plugin.call(this, fig, props);\n",
              "    };\n",
              "\n",
              "    HtmlTooltipPlugin.prototype.draw = function(){\n",
              "        var obj = mpld3.get_element(this.props.id);\n",
              "        var labels = this.props.labels;\n",
              "        var targets = this.props.targets;\n",
              "        var tooltip = d3.select(\"body\").append(\"div\")\n",
              "            .attr(\"class\", \"mpld3-tooltip\")\n",
              "            .style(\"position\", \"absolute\")\n",
              "            .style(\"z-index\", \"10\")\n",
              "            .style(\"visibility\", \"hidden\");\n",
              "\n",
              "        obj.elements()\n",
              "            .on(\"mouseover\", function(d, i){\n",
              "                tooltip.html(labels[i])\n",
              "                    .style(\"visibility\", \"visible\");\n",
              "            })\n",
              "            .on(\"mousemove\", function(d, i){\n",
              "                tooltip\n",
              "                .style(\"top\", d3.event.pageY + this.props.voffset + \"px\")\n",
              "                .style(\"left\",d3.event.pageX + this.props.hoffset + \"px\");\n",
              "            }.bind(this))\n",
              "            .on(\"mousedown.callout\", function(d, i){\n",
              "                window.open(targets[i],\"_blank\");\n",
              "            })\n",
              "            .on(\"mouseout\", function(d, i){\n",
              "                tooltip.style(\"visibility\", \"hidden\");\n",
              "            });\n",
              "    };\n",
              "    \n",
              "    mpld3.register_plugin(\"toptoolbar\", TopToolbar);\n",
              "    TopToolbar.prototype = Object.create(mpld3.Plugin.prototype);\n",
              "    TopToolbar.prototype.constructor = TopToolbar;\n",
              "    function TopToolbar(fig, props){\n",
              "        mpld3.Plugin.call(this, fig, props);\n",
              "    };\n",
              "\n",
              "    TopToolbar.prototype.draw = function(){\n",
              "      // the toolbar svg doesn't exist\n",
              "      // yet, so first draw it\n",
              "      this.fig.toolbar.draw();\n",
              "\n",
              "      // then change the y position to be\n",
              "      // at the top of the figure\n",
              "      this.fig.toolbar.toolbar.attr(\"x\", 150);\n",
              "      this.fig.toolbar.toolbar.attr(\"y\", 400);\n",
              "\n",
              "      // then remove the draw function,\n",
              "      // so that it is not called again\n",
              "      this.fig.toolbar.draw = function() {}\n",
              "    }\n",
              "    \n",
              "                 mpld3.draw_figure(\"fig_el133140092434836352855752880\", {\"width\": 1008.0, \"height\": 432.0, \"axes\": [{\"bbox\": [0.125, 0.125, 0.775, 0.755], \"xlim\": [-0.7022446245855734, 0.7098314809788802], \"ylim\": [-0.7081718721860418, 0.6939226674565514], \"xdomain\": [-0.7022446245855734, 0.7098314809788802], \"ydomain\": [-0.7081718721860418, 0.6939226674565514], \"xscale\": \"linear\", \"yscale\": \"linear\", \"axes\": [{\"position\": \"bottom\", \"nticks\": 0, \"tickvalues\": [], \"tickformat_formatter\": \"\", \"tickformat\": \"\", \"scale\": \"linear\", \"fontsize\": null, \"grid\": {\"gridOn\": false}, \"visible\": false}, {\"position\": \"left\", \"nticks\": 0, \"tickvalues\": [], \"tickformat_formatter\": \"\", \"tickformat\": \"\", \"scale\": \"linear\", \"fontsize\": null, \"grid\": {\"gridOn\": false}, \"visible\": false}], \"axesbg\": \"#FFFFFF\", \"axesbgalpha\": null, \"zoomable\": true, \"id\": \"el133140092430738528\", \"lines\": [], \"paths\": [{\"data\": \"data07\", \"xindex\": 0, \"yindex\": 1, \"coordinates\": \"axes\", \"pathcodes\": [\"M\", \"L\", \"S\", \"L\", \"S\", \"L\", \"S\", \"L\", \"S\", \"Z\"], \"id\": \"el133140092430476096\", \"dasharray\": \"none\", \"alpha\": 0.8, \"facecolor\": \"rgba(255, 255, 255, 0.8)\", \"edgecolor\": \"rgba(204, 204, 204, 0.8)\", \"edgewidth\": 1.0, \"zorder\": 1000000.0}], \"markers\": [{\"data\": \"data01\", \"xindex\": 0, \"yindex\": 1, \"coordinates\": \"data\", \"id\": \"el133140092430477440pts\", \"facecolor\": \"#1B9E77\", \"edgecolor\": \"none\", \"edgewidth\": 1.0, \"alpha\": 1, \"zorder\": 2, \"markerpath\": [[[0.0, 9.0], [2.3868279, 9.0], [4.676218837063681, 8.051703224294176], [6.3639610306789285, 6.3639610306789285], [8.051703224294176, 4.676218837063681], [9.0, 2.3868279], [9.0, 0.0], [9.0, -2.3868279], [8.051703224294176, -4.676218837063681], [6.3639610306789285, -6.3639610306789285], [4.676218837063681, -8.051703224294176], [2.3868279, -9.0], [0.0, -9.0], [-2.3868279, -9.0], [-4.676218837063681, -8.051703224294176], [-6.3639610306789285, -6.3639610306789285], [-8.051703224294176, -4.676218837063681], [-9.0, -2.3868279], [-9.0, 0.0], [-9.0, 2.3868279], [-8.051703224294176, 4.676218837063681], [-6.3639610306789285, 6.3639610306789285], [-4.676218837063681, 8.051703224294176], [-2.3868279, 9.0], [0.0, 9.0]], [\"M\", \"C\", \"C\", \"C\", \"C\", \"C\", \"C\", \"C\", \"C\", \"Z\"]]}, {\"data\": \"data02\", \"xindex\": 0, \"yindex\": 1, \"coordinates\": \"data\", \"id\": \"el133140092430476336pts\", \"facecolor\": \"#D95F02\", \"edgecolor\": \"none\", \"edgewidth\": 1.0, \"alpha\": 1, \"zorder\": 2, \"markerpath\": [[[0.0, 9.0], [2.3868279, 9.0], [4.676218837063681, 8.051703224294176], [6.3639610306789285, 6.3639610306789285], [8.051703224294176, 4.676218837063681], [9.0, 2.3868279], [9.0, 0.0], [9.0, -2.3868279], [8.051703224294176, -4.676218837063681], [6.3639610306789285, -6.3639610306789285], [4.676218837063681, -8.051703224294176], [2.3868279, -9.0], [0.0, -9.0], [-2.3868279, -9.0], [-4.676218837063681, -8.051703224294176], [-6.3639610306789285, -6.3639610306789285], [-8.051703224294176, -4.676218837063681], [-9.0, -2.3868279], [-9.0, 0.0], [-9.0, 2.3868279], [-8.051703224294176, 4.676218837063681], [-6.3639610306789285, 6.3639610306789285], [-4.676218837063681, 8.051703224294176], [-2.3868279, 9.0], [0.0, 9.0]], [\"M\", \"C\", \"C\", \"C\", \"C\", \"C\", \"C\", \"C\", \"C\", \"Z\"]]}, {\"data\": \"data03\", \"xindex\": 0, \"yindex\": 1, \"coordinates\": \"data\", \"id\": \"el133140092430476432pts\", \"facecolor\": \"#7570B3\", \"edgecolor\": \"none\", \"edgewidth\": 1.0, \"alpha\": 1, \"zorder\": 2, \"markerpath\": [[[0.0, 9.0], [2.3868279, 9.0], [4.676218837063681, 8.051703224294176], [6.3639610306789285, 6.3639610306789285], [8.051703224294176, 4.676218837063681], [9.0, 2.3868279], [9.0, 0.0], [9.0, -2.3868279], [8.051703224294176, -4.676218837063681], [6.3639610306789285, -6.3639610306789285], [4.676218837063681, -8.051703224294176], [2.3868279, -9.0], [0.0, -9.0], [-2.3868279, -9.0], [-4.676218837063681, -8.051703224294176], [-6.3639610306789285, -6.3639610306789285], [-8.051703224294176, -4.676218837063681], [-9.0, -2.3868279], [-9.0, 0.0], [-9.0, 2.3868279], [-8.051703224294176, 4.676218837063681], [-6.3639610306789285, 6.3639610306789285], [-4.676218837063681, 8.051703224294176], [-2.3868279, 9.0], [0.0, 9.0]], [\"M\", \"C\", \"C\", \"C\", \"C\", \"C\", \"C\", \"C\", \"C\", \"Z\"]]}, {\"data\": \"data04\", \"xindex\": 0, \"yindex\": 1, \"coordinates\": \"data\", \"id\": \"el133140092430524720pts\", \"facecolor\": \"#E7298A\", \"edgecolor\": \"none\", \"edgewidth\": 1.0, \"alpha\": 1, \"zorder\": 2, \"markerpath\": [[[0.0, 9.0], [2.3868279, 9.0], [4.676218837063681, 8.051703224294176], [6.3639610306789285, 6.3639610306789285], [8.051703224294176, 4.676218837063681], [9.0, 2.3868279], [9.0, 0.0], [9.0, -2.3868279], [8.051703224294176, -4.676218837063681], [6.3639610306789285, -6.3639610306789285], [4.676218837063681, -8.051703224294176], [2.3868279, -9.0], [0.0, -9.0], [-2.3868279, -9.0], [-4.676218837063681, -8.051703224294176], [-6.3639610306789285, -6.3639610306789285], [-8.051703224294176, -4.676218837063681], [-9.0, -2.3868279], [-9.0, 0.0], [-9.0, 2.3868279], [-8.051703224294176, 4.676218837063681], [-6.3639610306789285, 6.3639610306789285], [-4.676218837063681, 8.051703224294176], [-2.3868279, 9.0], [0.0, 9.0]], [\"M\", \"C\", \"C\", \"C\", \"C\", \"C\", \"C\", \"C\", \"C\", \"Z\"]]}, {\"data\": \"data05\", \"xindex\": 0, \"yindex\": 1, \"coordinates\": \"data\", \"id\": \"el133140092431248784pts\", \"facecolor\": \"#66A61E\", \"edgecolor\": \"none\", \"edgewidth\": 1.0, \"alpha\": 1, \"zorder\": 2, \"markerpath\": [[[0.0, 9.0], [2.3868279, 9.0], [4.676218837063681, 8.051703224294176], [6.3639610306789285, 6.3639610306789285], [8.051703224294176, 4.676218837063681], [9.0, 2.3868279], [9.0, 0.0], [9.0, -2.3868279], [8.051703224294176, -4.676218837063681], [6.3639610306789285, -6.3639610306789285], [4.676218837063681, -8.051703224294176], [2.3868279, -9.0], [0.0, -9.0], [-2.3868279, -9.0], [-4.676218837063681, -8.051703224294176], [-6.3639610306789285, -6.3639610306789285], [-8.051703224294176, -4.676218837063681], [-9.0, -2.3868279], [-9.0, 0.0], [-9.0, 2.3868279], [-8.051703224294176, 4.676218837063681], [-6.3639610306789285, 6.3639610306789285], [-4.676218837063681, 8.051703224294176], [-2.3868279, 9.0], [0.0, 9.0]], [\"M\", \"C\", \"C\", \"C\", \"C\", \"C\", \"C\", \"C\", \"C\", \"Z\"]]}, {\"data\": \"data06\", \"xindex\": 0, \"yindex\": 1, \"coordinates\": \"axes\", \"id\": \"el133140092430526400pts\", \"facecolor\": \"#1B9E77\", \"edgecolor\": \"none\", \"edgewidth\": 1.0, \"alpha\": 1, \"zorder\": 1000002.0, \"markerpath\": [[[0.0, 9.0], [2.3868279, 9.0], [4.676218837063681, 8.051703224294176], [6.3639610306789285, 6.3639610306789285], [8.051703224294176, 4.676218837063681], [9.0, 2.3868279], [9.0, 0.0], [9.0, -2.3868279], [8.051703224294176, -4.676218837063681], [6.3639610306789285, -6.3639610306789285], [4.676218837063681, -8.051703224294176], [2.3868279, -9.0], [0.0, -9.0], [-2.3868279, -9.0], [-4.676218837063681, -8.051703224294176], [-6.3639610306789285, -6.3639610306789285], [-8.051703224294176, -4.676218837063681], [-9.0, -2.3868279], [-9.0, 0.0], [-9.0, 2.3868279], [-8.051703224294176, 4.676218837063681], [-6.3639610306789285, 6.3639610306789285], [-4.676218837063681, 8.051703224294176], [-2.3868279, 9.0], [0.0, 9.0]], [\"M\", \"C\", \"C\", \"C\", \"C\", \"C\", \"C\", \"C\", \"C\", \"Z\"]]}, {\"data\": \"data06\", \"xindex\": 0, \"yindex\": 2, \"coordinates\": \"axes\", \"id\": \"el133140092430527888pts\", \"facecolor\": \"#D95F02\", \"edgecolor\": \"none\", \"edgewidth\": 1.0, \"alpha\": 1, \"zorder\": 1000002.0, \"markerpath\": [[[0.0, 9.0], [2.3868279, 9.0], [4.676218837063681, 8.051703224294176], [6.3639610306789285, 6.3639610306789285], [8.051703224294176, 4.676218837063681], [9.0, 2.3868279], [9.0, 0.0], [9.0, -2.3868279], [8.051703224294176, -4.676218837063681], [6.3639610306789285, -6.3639610306789285], [4.676218837063681, -8.051703224294176], [2.3868279, -9.0], [0.0, -9.0], [-2.3868279, -9.0], [-4.676218837063681, -8.051703224294176], [-6.3639610306789285, -6.3639610306789285], [-8.051703224294176, -4.676218837063681], [-9.0, -2.3868279], [-9.0, 0.0], [-9.0, 2.3868279], [-8.051703224294176, 4.676218837063681], [-6.3639610306789285, 6.3639610306789285], [-4.676218837063681, 8.051703224294176], [-2.3868279, 9.0], [0.0, 9.0]], [\"M\", \"C\", \"C\", \"C\", \"C\", \"C\", \"C\", \"C\", \"C\", \"Z\"]]}, {\"data\": \"data06\", \"xindex\": 0, \"yindex\": 3, \"coordinates\": \"axes\", \"id\": \"el133140092430562208pts\", \"facecolor\": \"#7570B3\", \"edgecolor\": \"none\", \"edgewidth\": 1.0, \"alpha\": 1, \"zorder\": 1000002.0, \"markerpath\": [[[0.0, 9.0], [2.3868279, 9.0], [4.676218837063681, 8.051703224294176], [6.3639610306789285, 6.3639610306789285], [8.051703224294176, 4.676218837063681], [9.0, 2.3868279], [9.0, 0.0], [9.0, -2.3868279], [8.051703224294176, -4.676218837063681], [6.3639610306789285, -6.3639610306789285], [4.676218837063681, -8.051703224294176], [2.3868279, -9.0], [0.0, -9.0], [-2.3868279, -9.0], [-4.676218837063681, -8.051703224294176], [-6.3639610306789285, -6.3639610306789285], [-8.051703224294176, -4.676218837063681], [-9.0, -2.3868279], [-9.0, 0.0], [-9.0, 2.3868279], [-8.051703224294176, 4.676218837063681], [-6.3639610306789285, 6.3639610306789285], [-4.676218837063681, 8.051703224294176], [-2.3868279, 9.0], [0.0, 9.0]], [\"M\", \"C\", \"C\", \"C\", \"C\", \"C\", \"C\", \"C\", \"C\", \"Z\"]]}, {\"data\": \"data06\", \"xindex\": 0, \"yindex\": 4, \"coordinates\": \"axes\", \"id\": \"el133140092430563696pts\", \"facecolor\": \"#E7298A\", \"edgecolor\": \"none\", \"edgewidth\": 1.0, \"alpha\": 1, \"zorder\": 1000002.0, \"markerpath\": [[[0.0, 9.0], [2.3868279, 9.0], [4.676218837063681, 8.051703224294176], [6.3639610306789285, 6.3639610306789285], [8.051703224294176, 4.676218837063681], [9.0, 2.3868279], [9.0, 0.0], [9.0, -2.3868279], [8.051703224294176, -4.676218837063681], [6.3639610306789285, -6.3639610306789285], [4.676218837063681, -8.051703224294176], [2.3868279, -9.0], [0.0, -9.0], [-2.3868279, -9.0], [-4.676218837063681, -8.051703224294176], [-6.3639610306789285, -6.3639610306789285], [-8.051703224294176, -4.676218837063681], [-9.0, -2.3868279], [-9.0, 0.0], [-9.0, 2.3868279], [-8.051703224294176, 4.676218837063681], [-6.3639610306789285, 6.3639610306789285], [-4.676218837063681, 8.051703224294176], [-2.3868279, 9.0], [0.0, 9.0]], [\"M\", \"C\", \"C\", \"C\", \"C\", \"C\", \"C\", \"C\", \"C\", \"Z\"]]}, {\"data\": \"data06\", \"xindex\": 0, \"yindex\": 5, \"coordinates\": \"axes\", \"id\": \"el133140092430565184pts\", \"facecolor\": \"#66A61E\", \"edgecolor\": \"none\", \"edgewidth\": 1.0, \"alpha\": 1, \"zorder\": 1000002.0, \"markerpath\": [[[0.0, 9.0], [2.3868279, 9.0], [4.676218837063681, 8.051703224294176], [6.3639610306789285, 6.3639610306789285], [8.051703224294176, 4.676218837063681], [9.0, 2.3868279], [9.0, 0.0], [9.0, -2.3868279], [8.051703224294176, -4.676218837063681], [6.3639610306789285, -6.3639610306789285], [4.676218837063681, -8.051703224294176], [2.3868279, -9.0], [0.0, -9.0], [-2.3868279, -9.0], [-4.676218837063681, -8.051703224294176], [-6.3639610306789285, -6.3639610306789285], [-8.051703224294176, -4.676218837063681], [-9.0, -2.3868279], [-9.0, 0.0], [-9.0, 2.3868279], [-8.051703224294176, 4.676218837063681], [-6.3639610306789285, 6.3639610306789285], [-4.676218837063681, 8.051703224294176], [-2.3868279, 9.0], [0.0, 9.0]], [\"M\", \"C\", \"C\", \"C\", \"C\", \"C\", \"C\", \"C\", \"C\", \"Z\"]]}], \"texts\": [{\"text\": \"Family, home, war\", \"position\": [0.8204685099846392, 0.21768457198920774], \"coordinates\": \"axes\", \"h_anchor\": \"start\", \"v_baseline\": \"auto\", \"rotation\": -0.0, \"fontsize\": 10.0, \"color\": \"#000000\", \"alpha\": 1, \"zorder\": 1000003.0, \"id\": \"el133140092430525728\"}, {\"text\": \"Police, killed, murders\", \"position\": [0.8204685099846392, 0.17169487368162864], \"coordinates\": \"axes\", \"h_anchor\": \"start\", \"v_baseline\": \"auto\", \"rotation\": -0.0, \"fontsize\": 10.0, \"color\": \"#000000\", \"alpha\": 1, \"zorder\": 1000003.0, \"id\": \"el133140092430527216\"}, {\"text\": \"Father, New York, brothers\", \"position\": [0.8204685099846392, 0.12570517537404954], \"coordinates\": \"axes\", \"h_anchor\": \"start\", \"v_baseline\": \"auto\", \"rotation\": -0.0, \"fontsize\": 10.0, \"color\": \"#000000\", \"alpha\": 1, \"zorder\": 1000003.0, \"id\": \"el133140092430561536\"}, {\"text\": \"Dance, singing, love\", \"position\": [0.8204685099846392, 0.07971547706647045], \"coordinates\": \"axes\", \"h_anchor\": \"start\", \"v_baseline\": \"auto\", \"rotation\": -0.0, \"fontsize\": 10.0, \"color\": \"#000000\", \"alpha\": 1, \"zorder\": 1000003.0, \"id\": \"el133140092430563024\"}, {\"text\": \"Killed, soldiers, captain\", \"position\": [0.8204685099846392, 0.03372577875889135], \"coordinates\": \"axes\", \"h_anchor\": \"start\", \"v_baseline\": \"auto\", \"rotation\": -0.0, \"fontsize\": 10.0, \"color\": \"#000000\", \"alpha\": 1, \"zorder\": 1000003.0, \"id\": \"el133140092430564512\"}], \"collections\": [], \"images\": [], \"sharex\": [], \"sharey\": []}], \"data\": {\"data01\": [[0.44206412093578173, -0.27869804841256207], [-0.2587368350262618, -0.26527516559786957], [0.05822957027256338, 0.256929533865531], [-0.43458221470796804, -0.29655933230579506], [-0.22775176430437058, 0.06867225264698684], [-0.4301218469327288, 0.28528616015883534], [-0.3527560545316662, 0.12706104279951017], [-0.05321665416838313, 0.12337031922670556], [-0.4842963450926421, 0.17299124057611814], [0.19843842072642093, -0.3892916828503908], [-0.02172250207705443, -0.04277898807708071], [0.3500865831297658, -0.33952163222346426], [0.5177811917071925, -0.2536618659106638], [-0.5523024142568739, -0.22470452093169108], [-0.34166783709147913, 0.6344444329502953], [-0.17157923142425296, 0.23225249097460976], [0.5307508765954988, 0.1293499548695287], [0.4157900555927239, 0.4066680050040376], [0.4335012948307977, 0.14567214405204687], [-0.15353411958657529, -0.3013348801222534], [-0.22754763513663467, -0.45049222698404334], [-0.28445673314938785, 0.27573355826080437], [0.21436568495015884, 0.21833323177235375], [-0.0697835765252865, 0.5697755231183568], [-0.5962489128496042, 0.19029081995111047], [0.18357552763037874, 0.3029327061666986], [-0.0876522433589088, -0.20078309954756865], [-0.45990623558854987, 0.007717409858540057], [-0.3031164788430419, 0.47587091621770383], [0.6448729810407794, -0.1557495377370637], [-0.028860474947472948, 0.6542407465232705], [0.12564351913288888, 0.4177899987124327], [-0.3416411136605303, 0.036359351999961084], [-0.551459865435424, 0.3351166974656385], [0.2751629686852379, -0.2942902403479915], [-0.3243379724030205, 0.3312099814646893], [-0.6012517387271848, -0.0418859194691775], [-0.34156011933518005, -0.06836233054197617], [-0.3394231160832892, -0.1511074564578018], [-0.5521585808438269, 0.028891781654075178], [0.1850753249911779, 0.5789634882504009], [-0.4660099693912445, -0.09927639405993571], [-0.5791042079012638, 0.2903462882632784], [-0.5810674876200954, 0.10583683075043433], [-0.20835174801118317, -0.05859486722959816], [-0.19967295689696812, 0.006401158105055958]], \"data02\": [[-0.2509077886527682, -0.5748301691298103], [-0.0822211719046293, -0.5783371225442145], [-0.016415337094761003, -0.6356033887664564], [0.24381678674291052, -0.5041387862290508], [0.08011541418687525, -0.4798779364145004], [-0.1524708594907454, -0.3409184384980287], [-0.020101379300060913, -0.3570984271707861], [0.1287536654528344, -0.6684899512527609], [0.4928973738021543, -0.14112529581269717], [-0.11274056497585859, -0.49926901658843537], [0.18267302179861425, -0.5787625309524596], [-0.18334149000822167, -0.5551280766277863], [0.5655872568440865, 0.3427492412662697], [-0.5674182514385872, -0.35374010333970207], [0.6688477850887058, -0.08783283749852551]], \"data03\": [[0.4184044202336738, 0.5850489899951163], [0.6698670628968674, 0.11896605280395367], [0.4020451359180303, 0.49856493148445374], [0.6677334884276219, 0.2695002905230577], [-0.02234991385406897, 0.3387044447457824], [0.6273622875630892, 0.3594269833423288]], \"data04\": [[0.1842728439475597, -0.011715611328299623], [-0.03159215088404366, -0.45663791320402886], [-0.13227195754649126, 0.5745384801472381], [0.058399024554247426, -0.04612821871658942], [0.011707339999011584, 0.4624485755347979], [0.6037432800571017, -0.3456991338989089], [0.07164980401234082, 0.13140842985205484], [0.3548063612344581, 0.008230388449868098], [0.34339799473545496, 0.24588751780959872], [-0.20377837648670416, 0.5597732710930737], [0.31820603526510766, 0.08767290955547546], [-0.19657213727582853, 0.39573854896210925], [0.3442345942883043, -0.13024993477969463], [0.1607366978752424, -0.11945297477856227], [-0.34789814258235424, -0.3258509720117311], [-0.3609008933642027, -0.48196142317941265], [-0.6622802065035606, -0.20503714364142692], [0.1563795065783695, -0.21300821701033482], [0.20869950117396832, 0.06431546201598057], [-0.42084558901816005, 0.46273188035729895], [-0.18141401157117412, 0.47664757937416014], [0.12067866743532428, 0.4813363821584589], [0.21979780091087622, 0.48012585338200914], [0.48195453604347716, 0.008013240019345533], [0.4758882198147056, -0.4358383186309247], [0.3243862951002719, -0.45653595159186383]], \"data05\": [[0.5523203950143739, 0.4906695451776374], [0.019707608446931178, -0.6360131358153785], [0.07969434882060063, -0.3889371661029437], [0.06214704621807539, 0.6101371440051012], [-0.4533760890831642, -0.4451810757043979], [0.33498008050466554, -0.6458620573675335], [-0.18645450426356014, 0.150485309679993]], \"data06\": [[0.7846262160778291, 0.22841550159430954, 0.18242580328673044, 0.13643610497915135, 0.09044640667157224, 0.04445670836399314], [0.7974270353302613, 0.22841550159430954, 0.18242580328673044, 0.13643610497915135, 0.09044640667157224, 0.04445670836399314], [0.8102278545826934, 0.22841550159430954, 0.18242580328673044, 0.13643610497915135, 0.09044640667157224, 0.04445670836399314]], \"data07\": [[0.7820660522273426, 0.015329899435859717], [0.9910394265232977, 0.015329899435859717], [0.9935995903737841, 0.015329899435859717], [0.9935995903737841, 0.021461859210203577], [0.9935995903737841, 0.24834437086092717], [0.9935995903737841, 0.254476330635271], [0.9910394265232977, 0.254476330635271], [0.7820660522273426, 0.254476330635271], [0.7795058883768562, 0.254476330635271], [0.7795058883768562, 0.24834437086092717], [0.7795058883768562, 0.021461859210203577], [0.7795058883768562, 0.015329899435859717], [0.7820660522273426, 0.015329899435859717]]}, \"id\": \"el133140092434836352\", \"plugins\": [{\"type\": \"reset\"}, {\"type\": \"zoom\", \"button\": true, \"enabled\": false}, {\"type\": \"boxzoom\", \"button\": true, \"enabled\": false}, {\"type\": \"htmltooltip\", \"id\": \"el133140092430477440pts\", \"labels\": [\"The Shawshank Redemption\", \"Casablanca\", \"One Flew Over the Cuckoo's Nest\", \"The Wizard of Oz\", \"Psycho\", \"Sunset Blvd.\", \"Vertigo\", \"On the Waterfront\", \"West Side Story\", \"Star Wars\", \"E.T. the Extra-Terrestrial\", \"2001: A Space Odyssey\", \"The Silence of the Lambs\", \"Chinatown\", \"Singin' in the Rain\", \"Some Like It Hot\", \"12 Angry Men\", \"Amadeus\", \"Gandhi\", \"Unforgiven\", \"Raiders of the Lost Ark\", \"Rocky\", \"To Kill a Mockingbird\", \"The Good, the Bad and the Ugly\", \"The Apartment\", \"The Exorcist\", \"The Deer Hunter\", \"The French Connection\", \"Midnight Cowboy\", \"Mr. Smith Goes to Washington\", \"Annie Hall\", \"Good Will Hunting\", \"Fargo\", \"Shane\", \"Close Encounters of the Third Kind\", \"The Graduate\", \"American Graffiti\", \"Pulp Fiction\", \"The Maltese Falcon\", \"Taxi Driver\", \"Wuthering Heights\", \"Double Indemnity\", \"Rebel Without a Cause\", \"Rear Window\", \"The Third Man\", \"North by Northwest\"], \"targets\": null, \"hoffset\": 10, \"voffset\": 10}, {\"type\": \"toptoolbar\"}, {\"type\": \"htmltooltip\", \"id\": \"el133140092430476336pts\", \"labels\": [\"Lawrence of Arabia\", \"The Bridge on the River Kwai\", \"Dr. Strangelove or: How I Learned to Stop Worrying and Love the Bomb\", \"The Lord of the Rings: The Return of the King\", \"Gladiator\", \"From Here to Eternity\", \"Saving Private Ryan\", \"Patton\", \"Braveheart\", \"Platoon\", \"Dances with Wolves\", \"All Quiet on the Western Front\", \"City Lights\", \"The Green Mile\", \"Network\"], \"targets\": null, \"hoffset\": 10, \"voffset\": 10}, {\"type\": \"toptoolbar\"}, {\"type\": \"htmltooltip\", \"id\": \"el133140092430476432pts\", \"labels\": [\"It's a Wonderful Life\", \"The Philadelphia Story\", \"The King's Speech\", \"A Place in the Sun\", \"Tootsie\", \"Yankee Doodle Dandy\"], \"targets\": null, \"hoffset\": 10, \"voffset\": 10}, {\"type\": \"toptoolbar\"}, {\"type\": \"htmltooltip\", \"id\": \"el133140092430524720pts\", \"labels\": [\"The Godfather\", \"Schindler's List\", \"Raging Bull\", \"Gone with the Wind\", \"Citizen Kane\", \"Titanic\", \"The Godfather: Part II\", \"Forrest Gump\", \"A Streetcar Named Desire\", \"An American in Paris\", \"The Best Years of Our Lives\", \"My Fair Lady\", \"Ben-Hur\", \"Doctor Zhivago\", \"Butch Cassidy and the Sundance Kid\", \"The Treasure of the Sierra Madre\", \"High Noon\", \"The Pianist\", \"Goodfellas\", \"It Happened One Night\", \"Rain Man\", \"Out of Africa\", \"Terms of Endearment\", \"Giant\", \"The Grapes of Wrath\", \"Stagecoach\"], \"targets\": null, \"hoffset\": 10, \"voffset\": 10}, {\"type\": \"toptoolbar\"}, {\"type\": \"htmltooltip\", \"id\": \"el133140092431248784pts\", \"labels\": [\"The Sound of Music\", \"Apocalypse Now\", \"Jaws\", \"Nashville\", \"The African Queen\", \"Mutiny on the Bounty\", \"A Clockwork Orange\"], \"targets\": null, \"hoffset\": 10, \"voffset\": 10}, {\"type\": \"toptoolbar\"}]});\n",
              "            })\n",
              "         });\n",
              "}\n",
              "</script>"
            ]
          },
          "metadata": {},
          "execution_count": 74
        }
      ],
      "metadata": {
        "colab": {
          "base_uri": "https://localhost:8080/",
          "height": 473
        },
        "id": "5WYjEEFwX5e4",
        "outputId": "e2d93548-f36f-4f19-f4a4-bec908da1f14"
      },
      "execution_count": 74
    },
    {
      "cell_type": "markdown",
      "source": [
        "#Hierarchical document clustering"
      ],
      "metadata": {
        "id": "GWs-zRGTX5e4"
      }
    },
    {
      "cell_type": "code",
      "source": [
        "from scipy.cluster.hierarchy import ward, dendrogram\n",
        "\n",
        "linkage_matrix = ward(dist) #define the linkage_matrix using ward clustering pre-computed distances\n",
        "\n",
        "fig, ax = plt.subplots(figsize=(15, 20)) # set size\n",
        "ax = dendrogram(linkage_matrix, orientation=\"right\", labels=titles);\n",
        "\n",
        "plt.tick_params(\\\n",
        "    axis= 'x',          # changes apply to the x-axis\n",
        "    which='both',      # both major and minor ticks are affected\n",
        "    bottom='off',      # ticks along the bottom edge are off\n",
        "    top='off',         # ticks along the top edge are off\n",
        "    labelbottom='off')\n",
        "\n",
        "plt.tight_layout() #show plot with tight layout\n",
        "\n",
        "#uncomment below to save figure\n",
        "plt.savefig('ward_clusters.png', dpi=200) #save figure as ward_clusters"
      ],
      "outputs": [
        {
          "output_type": "display_data",
          "data": {
            "text/plain": [
              "<Figure size 1080x1440 with 1 Axes>"
            ],
            "image/png": "[encoded data removed]"
          },
          "metadata": {
            "needs_background": "light"
          }
        }
      ],
      "metadata": {
        "colab": {
          "base_uri": "https://localhost:8080/",
          "height": 1000
        },
        "id": "jswzcrhJX5e4",
        "outputId": "6fc833aa-750c-4e64-c1f8-6e933c3092c8"
      },
      "execution_count": 75
    },
    {
      "cell_type": "code",
      "source": [
        "plt.close()"
      ],
      "outputs": [],
      "metadata": {
        "id": "nQJOuERvX5e4"
      },
      "execution_count": 76
    },
    {
      "cell_type": "markdown",
      "source": [
        "#Latent Dirichlet Allocation"
      ],
      "metadata": {
        "id": "vdG6l3ZzX5e5"
      }
    },
    {
      "cell_type": "code",
      "source": [
        "#strip any proper names from a text...unfortunately right now this is yanking the first word from a sentence too.\n",
        "import string\n",
        "def strip_proppers(text):\n",
        "    # first tokenize by sentence, then by word to ensure that punctuation is caught as it's own token\n",
        "    tokens = [word for sent in nltk.sent_tokenize(text) for word in nltk.word_tokenize(sent) if word.islower()]\n",
        "    return \"\".join([\" \"+i if not i.startswith(\"'\") and i not in string.punctuation else i for i in tokens]).strip()"
      ],
      "outputs": [],
      "metadata": {
        "id": "UudjpB1DX5e5"
      },
      "execution_count": 77
    },
    {
      "cell_type": "code",
      "source": [
        "#strip any proper nouns (NNP) or plural proper nouns (NNPS) from a text\n",
        "from nltk.tag import pos_tag\n",
        "\n",
        "def strip_proppers_POS(text):\n",
        "    tagged = pos_tag(text.split()) #use NLTK's part of speech tagger\n",
        "    non_propernouns = [word for word,pos in tagged if pos != 'NNP' and pos != 'NNPS']\n",
        "    return non_propernouns"
      ],
      "outputs": [],
      "metadata": {
        "id": "PtBiJ5VyX5e5"
      },
      "execution_count": 78
    },
    {
      "cell_type": "code",
      "source": [
        "#Latent Dirichlet Allocation implementation with Gensim\n",
        "\n",
        "from gensim import corpora, models, similarities \n",
        "\n",
        "#remove proper names\n",
        "preprocess = [strip_proppers(doc) for doc in synopses]\n",
        "\n",
        "%time tokenized_text = [tokenize_and_stem(text) for text in preprocess]\n",
        "\n",
        "%time texts = [[word for word in text if word not in stopwords] for text in tokenized_text]"
      ],
      "outputs": [
        {
          "output_type": "stream",
          "name": "stdout",
          "text": [
            "CPU times: user 3.62 s, sys: 0 ns, total: 3.62 s\n",
            "Wall time: 3.62 s\n",
            "CPU times: user 414 ms, sys: 0 ns, total: 414 ms\n",
            "Wall time: 417 ms\n"
          ]
        }
      ],
      "metadata": {
        "colab": {
          "base_uri": "https://localhost:8080/"
        },
        "id": "zSmlSp3MX5e5",
        "outputId": "38366401-85a7-4881-c122-4a78955be449"
      },
      "execution_count": 79
    },
    {
      "cell_type": "code",
      "source": [
        "#print(len([word for word in texts[0] if word not in stopwords]))\n",
        "print(len(texts[0]))"
      ],
      "outputs": [
        {
          "output_type": "stream",
          "name": "stdout",
          "text": [
            "1839\n"
          ]
        }
      ],
      "metadata": {
        "colab": {
          "base_uri": "https://localhost:8080/"
        },
        "id": "1phXvMmTX5e6",
        "outputId": "726e1c1d-a42b-4406-9a04-683e49398814"
      },
      "execution_count": 80
    },
    {
      "cell_type": "code",
      "source": [
        "dictionary = corpora.Dictionary(texts)"
      ],
      "outputs": [],
      "metadata": {
        "id": "v_XBNw21X5e6"
      },
      "execution_count": 81
    },
    {
      "cell_type": "code",
      "source": [
        "dictionary.filter_extremes(no_below=1, no_above=0.8)"
      ],
      "outputs": [],
      "metadata": {
        "id": "UqAAcuP_X5e6"
      },
      "execution_count": 82
    },
    {
      "cell_type": "code",
      "source": [
        "corpus = [dictionary.doc2bow(text) for text in texts]"
      ],
      "outputs": [],
      "metadata": {
        "id": "P3fSkZwzX5e6"
      },
      "execution_count": 83
    },
    {
      "cell_type": "code",
      "source": [
        "len(corpus)"
      ],
      "outputs": [
        {
          "output_type": "execute_result",
          "data": {
            "text/plain": [
              "100"
            ]
          },
          "metadata": {},
          "execution_count": 84
        }
      ],
      "metadata": {
        "colab": {
          "base_uri": "https://localhost:8080/"
        },
        "id": "1UBt-mPEX5e6",
        "outputId": "2863f891-aa3c-482a-bad3-c6ca49ed300d"
      },
      "execution_count": 84
    },
    {
      "cell_type": "code",
      "source": [
        "%time lda = models.LdaModel(corpus, num_topics=5, id2word=dictionary, update_every=5, chunksize=10000, passes=100)"
      ],
      "outputs": [
        {
          "output_type": "stream",
          "name": "stdout",
          "text": [
            "CPU times: user 36.9 s, sys: 0 ns, total: 36.9 s\n",
            "Wall time: 38.3 s\n"
          ]
        }
      ],
      "metadata": {
        "colab": {
          "base_uri": "https://localhost:8080/"
        },
        "id": "2DDvG_l1X5e7",
        "outputId": "66be05f1-2cb0-44cd-ac48-c89b7aafb7e2"
      },
      "execution_count": 85
    },
    {
      "cell_type": "code",
      "source": [
        "print(lda[corpus[0]])"
      ],
      "outputs": [
        {
          "output_type": "stream",
          "name": "stdout",
          "text": [
            "[(0, 0.16030784), (2, 0.4528976), (4, 0.38603032)]\n"
          ]
        }
      ],
      "metadata": {
        "colab": {
          "base_uri": "https://localhost:8080/"
        },
        "id": "qLqFudtcX5e7",
        "outputId": "28994138-90a9-4ff4-adb9-6c5d9d13e783"
      },
      "execution_count": 86
    },
    {
      "cell_type": "code",
      "source": [
        "topics = lda.print_topics(5, num_words=20)"
      ],
      "outputs": [],
      "metadata": {
        "id": "r6F1VvCZX5e7"
      },
      "execution_count": 87
    },
    {
      "cell_type": "code",
      "source": [
        "topics_matrix = lda.show_topics(formatted=False, num_words=20)"
      ],
      "outputs": [],
      "metadata": {
        "id": "NMhpm9AJX5e7"
      },
      "execution_count": 88
    },
    {
      "cell_type": "code",
      "source": [
        "topics_matrix = np.array(topics_matrix)"
      ],
      "outputs": [
        {
          "output_type": "stream",
          "name": "stderr",
          "text": [
            "<ipython-input-89-40dcae117ba6>:1: VisibleDeprecationWarning: Creating an ndarray from ragged nested sequences (which is a list-or-tuple of lists-or-tuples-or ndarrays with different lengths or shapes) is deprecated. If you meant to do this, you must specify 'dtype=object' when creating the ndarray.\n",
            "  topics_matrix = np.array(topics_matrix)\n"
          ]
        }
      ],
      "metadata": {
        "colab": {
          "base_uri": "https://localhost:8080/"
        },
        "id": "yNwv6CrxX5e7",
        "outputId": "7f756f1d-8909-423e-8f9f-e9dcdd4fbf3d"
      },
      "execution_count": 89
    },
    {
      "cell_type": "code",
      "source": [
        "topics_matrix.shape"
      ],
      "outputs": [
        {
          "output_type": "execute_result",
          "data": {
            "text/plain": [
              "(5, 2)"
            ]
          },
          "metadata": {},
          "execution_count": 90
        }
      ],
      "metadata": {
        "colab": {
          "base_uri": "https://localhost:8080/"
        },
        "id": "AvfijGq4X5e7",
        "outputId": "3fd57cc8-dcf0-45fa-9959-9fc341fb7b26"
      },
      "execution_count": 90
    },
    {
      "cell_type": "code",
      "source": [
        "topic_words = topics_matrix[:,1]"
      ],
      "outputs": [],
      "metadata": {
        "id": "IuD0ERVaX5e8"
      },
      "execution_count": 95
    },
    {
      "cell_type": "code",
      "source": [
        "for i in topic_words:\n",
        "    print([str(word) for word in i])\n",
        "    print()"
      ],
      "outputs": [
        {
          "output_type": "stream",
          "name": "stdout",
          "text": [
            "[\"('love', 0.00564022)\", \"('meet', 0.0041500134)\", \"('home', 0.0039576427)\", \"('kill', 0.003799242)\", \"('film', 0.003667591)\", \"('father', 0.003636755)\", \"('end', 0.0035581074)\", \"('becom', 0.0034365982)\", \"('marri', 0.0032777968)\", \"('night', 0.0032419057)\", \"('go', 0.0032086247)\", \"('life', 0.0031829295)\", \"('first', 0.003123731)\", \"('day', 0.0031133029)\", \"('two', 0.0030825746)\", \"('final', 0.0030514447)\", \"('say', 0.0029884572)\", \"('show', 0.0029727223)\", \"('friend', 0.0029435086)\", \"('famili', 0.0029215086)\"]\n",
            "\n",
            "[\"('friend', 0.0051527573)\", \"('prison', 0.005080477)\", \"('kill', 0.0050437567)\", \"('home', 0.0046030036)\", \"('ask', 0.0044595636)\", \"('wife', 0.0039068675)\", \"('arriv', 0.0036999392)\", \"('life', 0.0034799222)\", \"('offic', 0.0034410842)\", \"('money', 0.0034348846)\", \"('order', 0.003327811)\", \"('day', 0.0031450067)\", \"('two', 0.0031175155)\", \"('children', 0.0030781794)\", \"('run', 0.0030572822)\", \"('guard', 0.002938513)\", \"('save', 0.0029273327)\", \"('escap', 0.0028571875)\", \"('attempt', 0.0027967119)\", \"('go', 0.002698906)\"]\n",
            "\n",
            "[\"('kill', 0.004876197)\", \"('shark', 0.0044169766)\", \"('ask', 0.003852193)\", \"('water', 0.003796477)\", \"('polic', 0.0036218683)\", \"('men', 0.0036086796)\", \"('boat', 0.0035428856)\", \"('home', 0.0034947991)\", \"('father', 0.0032947916)\", \"('name', 0.003213225)\", \"('set', 0.003105047)\", \"('shoot', 0.003076376)\", \"('come', 0.003044763)\", '(\"n\\'t\", 0.0030371307)', \"('fight', 0.0030199029)\", \"('arriv', 0.0029878647)\", \"('attempt', 0.0029722613)\", \"('day', 0.0029113684)\", \"('two', 0.0028978928)\", \"('say', 0.002871132)\"]\n",
            "\n",
            "[\"('kill', 0.0058733327)\", \"('car', 0.005523455)\", \"('friend', 0.0050201123)\", \"('meet', 0.004810319)\", \"('go', 0.003914427)\", \"('arriv', 0.0038648096)\", \"('first', 0.0038093152)\", \"('offic', 0.0037194858)\", \"('call', 0.0037151282)\", \"('polic', 0.0037093014)\", \"('run', 0.0035499209)\", \"('two', 0.0034268885)\", \"('also', 0.0033438308)\", \"('home', 0.003248843)\", \"('order', 0.0031932187)\", \"('day', 0.0031253842)\", '(\"n\\'t\", 0.0031233625)', \"('say', 0.0031040823)\", \"('attack', 0.0030578056)\", \"('goe', 0.0028635834)\"]\n",
            "\n",
            "[\"('kill', 0.006197137)\", '(\"n\\'t\", 0.005213962)', \"('ask', 0.0047613373)\", \"('famili', 0.004573849)\", \"('go', 0.004561971)\", \"('say', 0.004387117)\", \"('two', 0.0040400196)\", \"('night', 0.0035619999)\", \"('car', 0.0035060057)\", \"('call', 0.0034739322)\", \"('meet', 0.0033596477)\", \"('arriv', 0.0033335446)\", \"('escap', 0.0032780906)\", \"('come', 0.0032116023)\", \"('run', 0.003197385)\", \"('murder', 0.003184355)\", \"('room', 0.0031462295)\", \"('doe', 0.0031437594)\", \"('goe', 0.0030793382)\", \"('help', 0.0030302978)\"]\n",
            "\n"
          ]
        }
      ],
      "metadata": {
        "colab": {
          "base_uri": "https://localhost:8080/"
        },
        "id": "aW7ubQMqX5e8",
        "outputId": "afc672fa-01f0-4f3e-8412-8ae6a2d44c21"
      },
      "execution_count": 96
    }
  ]
}