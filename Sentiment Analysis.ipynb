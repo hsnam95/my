{
  "cells": [
    {
      "cell_type": "markdown",
      "metadata": {
        "id": "view-in-github",
        "colab_type": "text"
      },
      "source": [
        "<a href=\"https://colab.research.google.com/github/hsnam95/my/blob/main/Sentiment%20Analysis.ipynb\" target=\"_parent\"><img src=\"https://colab.research.google.com/assets/colab-badge.svg\" alt=\"Open In Colab\"/></a>"
      ]
    },
    {
      "cell_type": "markdown",
      "metadata": {
        "id": "z5zkOqCB32wV"
      },
      "source": [
        "### Sentiment Analysis"
      ]
    },
    {
      "cell_type": "markdown",
      "metadata": {
        "id": "FOSII2n832wZ"
      },
      "source": [
        "Bring in text data from source:"
      ]
    },
    {
      "cell_type": "code",
      "execution_count": 2,
      "metadata": {
        "id": "pNgouSsQ32wZ",
        "outputId": "e4263842-7edb-493a-ff93-1027d6f71686",
        "colab": {
          "base_uri": "https://localhost:8080/"
        }
      },
      "outputs": [
        {
          "output_type": "stream",
          "name": "stderr",
          "text": [
            "[nltk_data] Downloading package stopwords to /root/nltk_data...\n",
            "[nltk_data]   Unzipping corpora/stopwords.zip.\n",
            "[nltk_data] Downloading package punkt to /root/nltk_data...\n",
            "[nltk_data]   Package punkt is already up-to-date!\n"
          ]
        }
      ],
      "source": [
        "import pandas as pd #Importing Pandas package\n",
        "\n",
        "Bookfile=[] #Empty \"Book\" list - Prepare for loop\n",
        "\n",
        "# Loops through importing 7 HP text files - Book 1 creates table, Books 2-7 append to Book 1 table\n",
        "for i in range(1,8): \n",
        "    Bookfile.append('HPBook'+str(i)+'.txt')\n",
        "    FileLoc = \"./{}\".format(Bookfile[i-1])\n",
        "    if i == 1:\n",
        "        df = pd.read_csv(FileLoc, sep=\"@\")\n",
        "    else:\n",
        "        df2 = pd.read_csv(FileLoc, sep=\"@\")\n",
        "        df = pd.concat([df, df2])\n",
        "        \n",
        "import nltk #Import NLTK library\n",
        "nltk.download('stopwords')\n",
        "nltk.download('punkt') #installed punkt to fix error\n",
        "from nltk import word_tokenize\n",
        "from nltk.corpus import stopwords #Import stopwords to Python\n",
        "\n",
        "stopwords = set(stopwords.words('english')) #English stopwords assigned to \"stopwords\" object\n",
        "\n",
        "import string #Punctuation\n",
        "\n",
        "# Function for removing punctuation\n",
        "def remove_punctuations(text):\n",
        "    for punctuation in string.punctuation:\n",
        "        text = text.replace(punctuation, '')\n",
        "    return text\n",
        "\n",
        "stopwords = [''.join(item for item in x if item not in string.punctuation) for x in stopwords] #Remove punctuation from stopwords\n",
        "\n",
        "df['WordCountText']=df['Text'].str.lower().apply(remove_punctuations).apply(word_tokenize) # Word Count Text\n",
        "# Word Count\n",
        "df['WordCloudText']=df['WordCountText'].apply(lambda x: [word for word in x if word not in stopwords]) # Word Cloud Text\n",
        "df['WordCount'] = df['WordCountText'].str.len() #Word Count Per Chapter"
      ]
    },
    {
      "cell_type": "code",
      "execution_count": 3,
      "metadata": {
        "id": "h26s2ju932wc",
        "outputId": "30937f0c-0736-4336-cfa6-0bc471bd9c75",
        "colab": {
          "base_uri": "https://localhost:8080/",
          "height": 424
        }
      },
      "outputs": [
        {
          "output_type": "execute_result",
          "data": {
            "text/plain": [
              "       Book  Chapter                                           Sentence\n",
              "0         1        1  the boy who lived  mr and mrs dursley of numbe...\n",
              "1         1        1  they were the last people youd expect to be in...\n",
              "2         1        1  mr dursley was the director of a firm called g...\n",
              "3         1        1  he was a big beefy man with hardly any neck al...\n",
              "4         1        1  mrs dursley was thin and blonde and had nearly...\n",
              "...     ...      ...                                                ...\n",
              "70979     7       37  the train began to more and harry walked along...\n",
              "70980     7       37  harry kept smiling and waving even though it w...\n",
              "70981     7       37                         the train rounded a corner\n",
              "70982     7       37  harrys hand was still raised in farewellhell b...\n",
              "70983     7       37                                      all was well \n",
              "\n",
              "[70984 rows x 3 columns]"
            ],
            "text/html": [
              "\n",
              "  <div id=\"df-cf860d7c-c676-4746-b493-01cf6fe4e9ed\">\n",
              "    <div class=\"colab-df-container\">\n",
              "      <div>\n",
              "<style scoped>\n",
              "    .dataframe tbody tr th:only-of-type {\n",
              "        vertical-align: middle;\n",
              "    }\n",
              "\n",
              "    .dataframe tbody tr th {\n",
              "        vertical-align: top;\n",
              "    }\n",
              "\n",
              "    .dataframe thead th {\n",
              "        text-align: right;\n",
              "    }\n",
              "</style>\n",
              "<table border=\"1\" class=\"dataframe\">\n",
              "  <thead>\n",
              "    <tr style=\"text-align: right;\">\n",
              "      <th></th>\n",
              "      <th>Book</th>\n",
              "      <th>Chapter</th>\n",
              "      <th>Sentence</th>\n",
              "    </tr>\n",
              "  </thead>\n",
              "  <tbody>\n",
              "    <tr>\n",
              "      <th>0</th>\n",
              "      <td>1</td>\n",
              "      <td>1</td>\n",
              "      <td>the boy who lived  mr and mrs dursley of numbe...</td>\n",
              "    </tr>\n",
              "    <tr>\n",
              "      <th>1</th>\n",
              "      <td>1</td>\n",
              "      <td>1</td>\n",
              "      <td>they were the last people youd expect to be in...</td>\n",
              "    </tr>\n",
              "    <tr>\n",
              "      <th>2</th>\n",
              "      <td>1</td>\n",
              "      <td>1</td>\n",
              "      <td>mr dursley was the director of a firm called g...</td>\n",
              "    </tr>\n",
              "    <tr>\n",
              "      <th>3</th>\n",
              "      <td>1</td>\n",
              "      <td>1</td>\n",
              "      <td>he was a big beefy man with hardly any neck al...</td>\n",
              "    </tr>\n",
              "    <tr>\n",
              "      <th>4</th>\n",
              "      <td>1</td>\n",
              "      <td>1</td>\n",
              "      <td>mrs dursley was thin and blonde and had nearly...</td>\n",
              "    </tr>\n",
              "    <tr>\n",
              "      <th>...</th>\n",
              "      <td>...</td>\n",
              "      <td>...</td>\n",
              "      <td>...</td>\n",
              "    </tr>\n",
              "    <tr>\n",
              "      <th>70979</th>\n",
              "      <td>7</td>\n",
              "      <td>37</td>\n",
              "      <td>the train began to more and harry walked along...</td>\n",
              "    </tr>\n",
              "    <tr>\n",
              "      <th>70980</th>\n",
              "      <td>7</td>\n",
              "      <td>37</td>\n",
              "      <td>harry kept smiling and waving even though it w...</td>\n",
              "    </tr>\n",
              "    <tr>\n",
              "      <th>70981</th>\n",
              "      <td>7</td>\n",
              "      <td>37</td>\n",
              "      <td>the train rounded a corner</td>\n",
              "    </tr>\n",
              "    <tr>\n",
              "      <th>70982</th>\n",
              "      <td>7</td>\n",
              "      <td>37</td>\n",
              "      <td>harrys hand was still raised in farewellhell b...</td>\n",
              "    </tr>\n",
              "    <tr>\n",
              "      <th>70983</th>\n",
              "      <td>7</td>\n",
              "      <td>37</td>\n",
              "      <td>all was well</td>\n",
              "    </tr>\n",
              "  </tbody>\n",
              "</table>\n",
              "<p>70984 rows × 3 columns</p>\n",
              "</div>\n",
              "      <button class=\"colab-df-convert\" onclick=\"convertToInteractive('df-cf860d7c-c676-4746-b493-01cf6fe4e9ed')\"\n",
              "              title=\"Convert this dataframe to an interactive table.\"\n",
              "              style=\"display:none;\">\n",
              "        \n",
              "  <svg xmlns=\"http://www.w3.org/2000/svg\" height=\"24px\"viewBox=\"0 0 24 24\"\n",
              "       width=\"24px\">\n",
              "    <path d=\"M0 0h24v24H0V0z\" fill=\"none\"/>\n",
              "    <path d=\"M18.56 5.44l.94 2.06.94-2.06 2.06-.94-2.06-.94-.94-2.06-.94 2.06-2.06.94zm-11 1L8.5 8.5l.94-2.06 2.06-.94-2.06-.94L8.5 2.5l-.94 2.06-2.06.94zm10 10l.94 2.06.94-2.06 2.06-.94-2.06-.94-.94-2.06-.94 2.06-2.06.94z\"/><path d=\"M17.41 7.96l-1.37-1.37c-.4-.4-.92-.59-1.43-.59-.52 0-1.04.2-1.43.59L10.3 9.45l-7.72 7.72c-.78.78-.78 2.05 0 2.83L4 21.41c.39.39.9.59 1.41.59.51 0 1.02-.2 1.41-.59l7.78-7.78 2.81-2.81c.8-.78.8-2.07 0-2.86zM5.41 20L4 18.59l7.72-7.72 1.47 1.35L5.41 20z\"/>\n",
              "  </svg>\n",
              "      </button>\n",
              "      \n",
              "  <style>\n",
              "    .colab-df-container {\n",
              "      display:flex;\n",
              "      flex-wrap:wrap;\n",
              "      gap: 12px;\n",
              "    }\n",
              "\n",
              "    .colab-df-convert {\n",
              "      background-color: #E8F0FE;\n",
              "      border: none;\n",
              "      border-radius: 50%;\n",
              "      cursor: pointer;\n",
              "      display: none;\n",
              "      fill: #1967D2;\n",
              "      height: 32px;\n",
              "      padding: 0 0 0 0;\n",
              "      width: 32px;\n",
              "    }\n",
              "\n",
              "    .colab-df-convert:hover {\n",
              "      background-color: #E2EBFA;\n",
              "      box-shadow: 0px 1px 2px rgba(60, 64, 67, 0.3), 0px 1px 3px 1px rgba(60, 64, 67, 0.15);\n",
              "      fill: #174EA6;\n",
              "    }\n",
              "\n",
              "    [theme=dark] .colab-df-convert {\n",
              "      background-color: #3B4455;\n",
              "      fill: #D2E3FC;\n",
              "    }\n",
              "\n",
              "    [theme=dark] .colab-df-convert:hover {\n",
              "      background-color: #434B5C;\n",
              "      box-shadow: 0px 1px 3px 1px rgba(0, 0, 0, 0.15);\n",
              "      filter: drop-shadow(0px 1px 2px rgba(0, 0, 0, 0.3));\n",
              "      fill: #FFFFFF;\n",
              "    }\n",
              "  </style>\n",
              "\n",
              "      <script>\n",
              "        const buttonEl =\n",
              "          document.querySelector('#df-cf860d7c-c676-4746-b493-01cf6fe4e9ed button.colab-df-convert');\n",
              "        buttonEl.style.display =\n",
              "          google.colab.kernel.accessAllowed ? 'block' : 'none';\n",
              "\n",
              "        async function convertToInteractive(key) {\n",
              "          const element = document.querySelector('#df-cf860d7c-c676-4746-b493-01cf6fe4e9ed');\n",
              "          const dataTable =\n",
              "            await google.colab.kernel.invokeFunction('convertToInteractive',\n",
              "                                                     [key], {});\n",
              "          if (!dataTable) return;\n",
              "\n",
              "          const docLinkHtml = 'Like what you see? Visit the ' +\n",
              "            '<a target=\"_blank\" href=https://colab.research.google.com/notebooks/data_table.ipynb>data table notebook</a>'\n",
              "            + ' to learn more about interactive tables.';\n",
              "          element.innerHTML = '';\n",
              "          dataTable['output_type'] = 'display_data';\n",
              "          await google.colab.output.renderOutput(dataTable, element);\n",
              "          const docLink = document.createElement('div');\n",
              "          docLink.innerHTML = docLinkHtml;\n",
              "          element.appendChild(docLink);\n",
              "        }\n",
              "      </script>\n",
              "    </div>\n",
              "  </div>\n",
              "  "
            ]
          },
          "metadata": {},
          "execution_count": 3
        }
      ],
      "source": [
        "# Creating a table breaking down the text by each sentence, rather than each chapter.\n",
        "from nltk import sent_tokenize\n",
        "from nltk import word_tokenize\n",
        "from nltk.stem import PorterStemmer\n",
        "\n",
        "# Make smaller table - reset index to prepare for further work\n",
        "dfsentiment = df[['Book','Chapter','Text']].reset_index() \\\n",
        "    .drop([\"index\"], axis=1)\n",
        "dfsentiment = dfsentiment.join(dfsentiment.Text.apply(sent_tokenize).rename('Sentences')) # Breaking apart text into sentences\n",
        "\n",
        "#Put every tokenized sentence into its own row\n",
        "dfsentiment2 = dfsentiment.Sentences.apply(pd.Series) \\\n",
        "    .merge(dfsentiment, left_index = True, right_index = True) \\\n",
        "    .drop([\"Text\"], axis = 1) \\\n",
        "    .drop([\"Sentences\"], axis = 1) \\\n",
        "    .melt(id_vars = ['Book', 'Chapter'], value_name = \"Sentence\") \\\n",
        "    .drop(\"variable\", axis = 1) \\\n",
        "    .dropna()\n",
        "\n",
        "# Sort new table by Book and Chapter - reset index to reflect new order\n",
        "dfsentiment2=dfsentiment2.sort_values(by=['Book', 'Chapter']) \\\n",
        "    .reset_index() \\\n",
        "    .drop(['index'], axis = 1)\n",
        "\n",
        "# Clean punctuation, lower case\n",
        "dfsentiment2['Sentence']=dfsentiment2.Sentence.apply(remove_punctuations).apply(lambda x: x.lower()) \\\n",
        "\n",
        "# Check first five values\n",
        "dfsentiment2"
      ]
    },
    {
      "cell_type": "code",
      "execution_count": 4,
      "metadata": {
        "id": "aHOtctSu32wc",
        "outputId": "7ecb5610-9966-41bf-af6b-e38522a10baa",
        "colab": {
          "base_uri": "https://localhost:8080/"
        }
      },
      "outputs": [
        {
          "output_type": "execute_result",
          "data": {
            "text/plain": [
              "70984"
            ]
          },
          "metadata": {},
          "execution_count": 4
        }
      ],
      "source": [
        "# 71,016 rows in sentiment2 according to the table created\n",
        "# Check that there are 71,016 sentences before stacking rows\n",
        "\n",
        "dfsentiment.Sentences.apply(lambda x: len(x)).sum() # Count total sentences"
      ]
    },
    {
      "cell_type": "code",
      "execution_count": 5,
      "metadata": {
        "id": "uvNLJDQj32wd",
        "outputId": "b78e358a-ca9c-42bd-cb94-dd3e7cd614dd",
        "colab": {
          "base_uri": "https://localhost:8080/"
        }
      },
      "outputs": [
        {
          "output_type": "stream",
          "name": "stderr",
          "text": [
            "[nltk_data] Downloading package vader_lexicon to /root/nltk_data...\n"
          ]
        }
      ],
      "source": [
        "# Bring in VADER library and Sentiment Intensity Analyzer\n",
        "\n",
        "from nltk.sentiment.vader import SentimentIntensityAnalyzer\n",
        "\n",
        "import nltk\n",
        "nltk.download('vader_lexicon')\n",
        "\n",
        "sid=nltk.sentiment.vader.SentimentIntensityAnalyzer()"
      ]
    },
    {
      "cell_type": "code",
      "execution_count": 6,
      "metadata": {
        "id": "Yj4k63wt32wd",
        "outputId": "6e39a036-5a0e-4875-ab3d-fa87add54040",
        "colab": {
          "base_uri": "https://localhost:8080/"
        }
      },
      "outputs": [
        {
          "output_type": "execute_result",
          "data": {
            "text/plain": [
              "Book\n",
              "1    0.019829\n",
              "2    0.002223\n",
              "3    0.005590\n",
              "4    0.012213\n",
              "5    0.007200\n",
              "6    0.024172\n",
              "7   -0.031744\n",
              "Name: CompScore, dtype: float64"
            ]
          },
          "metadata": {},
          "execution_count": 6
        }
      ],
      "source": [
        "# Get intensity scores of each sentence\n",
        "dfsentiment2['Score']=dfsentiment2.Sentence.apply(lambda x: sid.polarity_scores(x))\n",
        "\n",
        "# Place scores in own columns\n",
        "dfsentiment2['CompScore']=dfsentiment2.Score.apply(lambda x: x.get(\"compound\"))\n",
        "dfsentiment2['PosScore']=dfsentiment2.Score.apply(lambda x: x.get(\"pos\"))\n",
        "dfsentiment2['NegScore']=dfsentiment2.Score.apply(lambda x: x.get(\"neg\"))\n",
        "dfsentiment2['NeuScore']=dfsentiment2.Score.apply(lambda x: x.get(\"neu\"))\n",
        "\n",
        "# With scores extracted, the original score field can be removed\n",
        "dfsentiment2 = dfsentiment2.drop([\"Score\"], axis=1)\n",
        "\n",
        "# Adding Sentiment Flags\n",
        "dfsentiment2['PosFlag'] = dfsentiment2.CompScore.apply(lambda x: 1 if x >= 0.05 else 0)\n",
        "dfsentiment2['NegFlag'] = dfsentiment2.CompScore.apply(lambda x: 1 if x <= -0.05 else 0)\n",
        "dfsentiment2['NeuFlag'] = dfsentiment2.CompScore.apply(lambda x: 1 if x < 0.05 and x > -0.05 else 0)\n",
        "\n",
        "# Confirm scores are present and flag is functional\n",
        "dfsentiment2.head(20)\n",
        "\n",
        "dfsentiment2.iloc[66771].Sentence\n",
        "\n",
        "dfsentiment2.groupby('Book').mean()['CompScore']"
      ]
    },
    {
      "cell_type": "code",
      "execution_count": 7,
      "metadata": {
        "id": "JXzBTknE32we",
        "outputId": "386a0c76-d6f8-47af-b682-67c5db835ac7",
        "colab": {
          "base_uri": "https://localhost:8080/"
        }
      },
      "outputs": [
        {
          "output_type": "stream",
          "name": "stdout",
          "text": [
            "There are 19055 positive sentences, 18385 negative sentences, and 33544 neutral sentences\n",
            "This is a total of 70984 sentences\n"
          ]
        }
      ],
      "source": [
        "print('There are', dfsentiment2['PosFlag'].sum(), \"positive sentences,\", \\\n",
        "      dfsentiment2['NegFlag'].sum(), \"negative sentences, and\", \\\n",
        "      dfsentiment2['NeuFlag'].sum(), \"neutral sentences\")\n",
        "print('This is a total of', \\\n",
        "      dfsentiment2['PosFlag'].sum()+dfsentiment2['NegFlag'].sum()+dfsentiment2['NeuFlag'].sum(), \"sentences\")"
      ]
    },
    {
      "cell_type": "code",
      "execution_count": 9,
      "metadata": {
        "scrolled": false,
        "id": "PzoEI4HJ32we",
        "outputId": "695fdcd5-4b34-4bbb-ee5f-846231ea8add",
        "colab": {
          "base_uri": "https://localhost:8080/",
          "height": 828
        }
      },
      "outputs": [
        {
          "output_type": "stream",
          "name": "stderr",
          "text": [
            "<ipython-input-9-4ef2b361b4b8>:31: UserWarning: To output multiple subplots, the figure containing the passed axes is being cleared.\n",
            "  dfsentiment2.groupby(['Chapter','BookTitle']).mean()['CompScore'].unstack().plot(ax=ax, subplots=True, ylim=(-0.25, 0.25), colormap=ColorMap)\n"
          ]
        },
        {
          "output_type": "display_data",
          "data": {
            "text/plain": [
              "<Figure size 1080x936 with 7 Axes>"
            ],
            "image/png": "[encoded data removed]"
          },
          "metadata": {
            "needs_background": "light"
          }
        }
      ],
      "source": [
        "# How does the sentiment change during each chapter of each book over time?\n",
        "\n",
        "def Titles(x):\n",
        "    if x == 1:\n",
        "        return \"1 - Sorcerer's Stone\"\n",
        "    if x == 2:\n",
        "        return \"2 - Chamber of Secrets\"\n",
        "    if x == 3:\n",
        "        return \"3 - Prizoner of Azkaban\"\n",
        "    if x == 4:\n",
        "        return \"4 - Goblet of Fire\"\n",
        "    if x == 5:\n",
        "        return \"5 - Order of the Phoenix\"\n",
        "    if x == 6:\n",
        "        return \"6 - Half Blood Prince\"\n",
        "    if x == 7:\n",
        "        return \"7 - Deathly Hallows\"\n",
        "\n",
        "dfsentiment2['BookTitle']=dfsentiment2.Book.apply(lambda x: Titles(x))\n",
        "\n",
        "import matplotlib.pyplot as plt\n",
        "import matplotlib\n",
        "%matplotlib inline\n",
        "\n",
        "colorsList = ['#DC8458', '#950702', '#8E067D', '#2E8C44', '#395196', '#60A619','#ECA10A'] #Mauraders Map Colors\n",
        "ColorMap = matplotlib.colors.ListedColormap(colorsList)\n",
        "\n",
        "# plot data\n",
        "fig, ax = plt.subplots(figsize=(15,13))\n",
        "# use unstack()\n",
        "dfsentiment2.groupby(['Chapter','BookTitle']).mean()['CompScore'].unstack().plot(ax=ax, subplots=True, ylim=(-0.25, 0.25), colormap=ColorMap)\n",
        "plt.style.use('ggplot')\n",
        "ax.set_ylabel('Compound Sentiment Score')\n",
        "\n",
        "[ax.legend(loc=1) for ax in plt.gcf().axes]\n",
        "\n",
        "plt.savefig('./HPTimeplot.png')"
      ]
    },
    {
      "cell_type": "markdown",
      "metadata": {
        "id": "_OL5imIP32wf"
      },
      "source": [
        "### Bag of Words Model"
      ]
    },
    {
      "cell_type": "code",
      "execution_count": 10,
      "metadata": {
        "id": "FXRHaslL32wf"
      },
      "outputs": [],
      "source": [
        "# Preparing the bag of words\n",
        "\n",
        "#SentList = []\n",
        "\n",
        "# Loop to tokenize words into one huge list\n",
        "#for x in dfsentiment2.Sentence:\n",
        "#    SentList.extend(word_tokenize(x))    \n",
        "\n",
        "# Remove stopwords from this list\n",
        "#SentList = [''.join(item for item in x if item not in string.punctuation) for x in SentList]\n",
        "    \n",
        "#Create dictionary function - exclude stopwords\n",
        "#def BagOfWords(words):\n",
        "#    return {\n",
        "#        word:1 for word in words \\\n",
        "#        if not word in stopwords}"
      ]
    },
    {
      "cell_type": "markdown",
      "metadata": {
        "id": "89RPCP4F32wg"
      },
      "source": [
        "### Sentiment Analysis Classifier"
      ]
    },
    {
      "cell_type": "code",
      "execution_count": 11,
      "metadata": {
        "id": "hptHmXqt32wg"
      },
      "outputs": [],
      "source": [
        "# Creating tables of positive and negative sentences\n",
        "\n",
        "# Pull out rows with positive flag only\n",
        "PosTable = dfsentiment2.loc[dfsentiment2['PosFlag'] == 1].reset_index()\\\n",
        "    .drop(['index'], axis=1)\n",
        "\n",
        " #Pull out rows with negative flag only\n",
        "NegTable = dfsentiment2.loc[dfsentiment2['NegFlag'] == 1].reset_index()\\\n",
        "    .drop(['index'], axis=1)"
      ]
    },
    {
      "cell_type": "code",
      "execution_count": 12,
      "metadata": {
        "id": "Eiyh4hnS32wg"
      },
      "outputs": [],
      "source": [
        "# Creating lists of positive/negative words\n",
        "PosList=[]\n",
        "NegList=[]\n",
        "\n",
        "# Loop to tokenize words into one huge list\n",
        "for x in PosTable.Sentence:\n",
        "    PosList.extend(sent_tokenize(x))    \n",
        "\n",
        "for x in NegTable.Sentence:\n",
        "    NegList.extend(sent_tokenize(x))"
      ]
    },
    {
      "cell_type": "code",
      "execution_count": 13,
      "metadata": {
        "id": "7oRiho1032wg"
      },
      "outputs": [],
      "source": [
        "# Creating dictionary of positive/negative words (using previous function)\n",
        "\n",
        "#PosDict=BagOfWords(PosList)\n",
        "#NegDict=BagOfWords(NegList)\n",
        "\n",
        "# Creating Lists from dictionary entries\n",
        "\n",
        "#PosListClass=[(PosDict, 'pos')]\n",
        "#NegListClass=[(NegDict, 'neg')]"
      ]
    },
    {
      "cell_type": "code",
      "execution_count": 14,
      "metadata": {
        "id": "bqYttyeV32wh"
      },
      "outputs": [],
      "source": [
        "# Creating positive and negative Bags of Words\n",
        "\n",
        "def word_bayes(words):\n",
        "    return dict([(word, True) for word in words.split() if word not in stopwords])\n",
        "\n",
        "PosBayes = [(word_bayes(sentence), 'positive') for sentence in PosList]\n",
        "NegBayes = [(word_bayes(sentence), 'negative') for sentence in NegList]"
      ]
    },
    {
      "cell_type": "code",
      "execution_count": 15,
      "metadata": {
        "id": "g6YqVreo32wh"
      },
      "outputs": [],
      "source": [
        "# Open Naive Bayes Classifier Package\n",
        "from nltk.classify import NaiveBayesClassifier\n",
        "\n",
        "# Set Splits\n",
        "PosSplit=int(PosTable.PosFlag.sum()/2)\n",
        "NegSplit=int(NegTable.NegFlag.sum()/2)\n",
        "\n",
        "#Train Model\n",
        "sentiment_classifier = NaiveBayesClassifier.train(PosBayes[:PosSplit]+NegBayes[:NegSplit])"
      ]
    },
    {
      "cell_type": "code",
      "execution_count": 16,
      "metadata": {
        "id": "hMt2gfel32wh",
        "outputId": "e1bf3ab8-2560-476a-f347-9c2c4673c816",
        "colab": {
          "base_uri": "https://localhost:8080/"
        }
      },
      "outputs": [
        {
          "output_type": "execute_result",
          "data": {
            "text/plain": [
              "90.88626529194936"
            ]
          },
          "metadata": {},
          "execution_count": 16
        }
      ],
      "source": [
        "nltk.classify.util.accuracy(sentiment_classifier, PosBayes[:PosSplit]+NegBayes[:NegSplit])*100"
      ]
    },
    {
      "cell_type": "code",
      "execution_count": 17,
      "metadata": {
        "id": "ZYAvJcnq32wi",
        "outputId": "eed7d39a-a6e6-473d-909e-eed0a56f9898",
        "colab": {
          "base_uri": "https://localhost:8080/"
        }
      },
      "outputs": [
        {
          "output_type": "execute_result",
          "data": {
            "text/plain": [
              "80.1880241440094"
            ]
          },
          "metadata": {},
          "execution_count": 17
        }
      ],
      "source": [
        "nltk.classify.util.accuracy(sentiment_classifier, PosBayes[PosSplit:]+NegBayes[NegSplit:])*100"
      ]
    },
    {
      "cell_type": "code",
      "execution_count": 18,
      "metadata": {
        "id": "JZDyq0RG32wi",
        "outputId": "54105f59-688b-4fe1-f8fd-c3630c527161",
        "colab": {
          "base_uri": "https://localhost:8080/"
        }
      },
      "outputs": [
        {
          "output_type": "stream",
          "name": "stdout",
          "text": [
            "Most Informative Features\n",
            "               excellent = True           positi : negati =     38.3 : 1.0\n",
            "                   anger = True           negati : positi =     28.7 : 1.0\n",
            "               perfectly = True           positi : negati =     26.7 : 1.0\n",
            "               brilliant = True           positi : negati =     24.1 : 1.0\n",
            "                    fury = True           negati : positi =     21.1 : 1.0\n",
            "               excitedly = True           positi : negati =     21.0 : 1.0\n",
            "                    best = True           positi : negati =     20.7 : 1.0\n",
            "                    glad = True           positi : negati =     17.9 : 1.0\n",
            "                ignoring = True           negati : positi =     16.2 : 1.0\n",
            "                    rage = True           negati : positi =     16.2 : 1.0\n"
          ]
        }
      ],
      "source": [
        "sentiment_classifier.show_most_informative_features()"
      ]
    }
  ],
  "metadata": {
    "kernelspec": {
      "display_name": "Python 3",
      "language": "python",
      "name": "python3"
    },
    "language_info": {
      "codemirror_mode": {
        "name": "ipython",
        "version": 3
      },
      "file_extension": ".py",
      "mimetype": "text/x-python",
      "name": "python",
      "nbconvert_exporter": "python",
      "pygments_lexer": "ipython3",
      "version": "3.7.3"
    },
    "colab": {
      "provenance": [],
      "include_colab_link": true
    }
  },
  "nbformat": 4,
  "nbformat_minor": 0
}